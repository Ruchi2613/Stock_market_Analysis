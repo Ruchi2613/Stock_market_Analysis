{
  "nbformat": 4,
  "nbformat_minor": 0,
  "metadata": {
    "colab": {
      "name": "Calc_indicator.ipynb",
      "provenance": [],
      "collapsed_sections": []
    },
    "kernelspec": {
      "name": "python3",
      "display_name": "Python 3"
    },
    "language_info": {
      "name": "python"
    }
  },
  "cells": [
    {
      "cell_type": "code",
      "metadata": {
        "colab": {
          "base_uri": "https://localhost:8080/"
        },
        "id": "5Zuoe7rA-XY0",
        "outputId": "69d9831f-dea9-4a1d-d658-efae34a3d87f"
      },
      "source": [
        "# !pip install plotly.plotly\n",
        "!pip install yfinance"
      ],
      "execution_count": null,
      "outputs": [
        {
          "output_type": "stream",
          "text": [
            "Collecting yfinance\n",
            "  Downloading https://files.pythonhosted.org/packages/a7/ee/315752b9ef281ba83c62aa7ec2e2074f85223da6e7e74efb4d3e11c0f510/yfinance-0.1.59.tar.gz\n",
            "Requirement already satisfied: pandas>=0.24 in /usr/local/lib/python3.7/dist-packages (from yfinance) (1.1.5)\n",
            "Requirement already satisfied: numpy>=1.15 in /usr/local/lib/python3.7/dist-packages (from yfinance) (1.19.5)\n",
            "Requirement already satisfied: requests>=2.20 in /usr/local/lib/python3.7/dist-packages (from yfinance) (2.23.0)\n",
            "Requirement already satisfied: multitasking>=0.0.7 in /usr/local/lib/python3.7/dist-packages (from yfinance) (0.0.9)\n",
            "Collecting lxml>=4.5.1\n",
            "\u001b[?25l  Downloading https://files.pythonhosted.org/packages/30/c0/d0526314971fc661b083ab135747dc68446a3022686da8c16d25fcf6ef07/lxml-4.6.3-cp37-cp37m-manylinux2014_x86_64.whl (6.3MB)\n",
            "\u001b[K     |████████████████████████████████| 6.3MB 21.7MB/s \n",
            "\u001b[?25hRequirement already satisfied: pytz>=2017.2 in /usr/local/lib/python3.7/dist-packages (from pandas>=0.24->yfinance) (2018.9)\n",
            "Requirement already satisfied: python-dateutil>=2.7.3 in /usr/local/lib/python3.7/dist-packages (from pandas>=0.24->yfinance) (2.8.1)\n",
            "Requirement already satisfied: idna<3,>=2.5 in /usr/local/lib/python3.7/dist-packages (from requests>=2.20->yfinance) (2.10)\n",
            "Requirement already satisfied: chardet<4,>=3.0.2 in /usr/local/lib/python3.7/dist-packages (from requests>=2.20->yfinance) (3.0.4)\n",
            "Requirement already satisfied: urllib3!=1.25.0,!=1.25.1,<1.26,>=1.21.1 in /usr/local/lib/python3.7/dist-packages (from requests>=2.20->yfinance) (1.24.3)\n",
            "Requirement already satisfied: certifi>=2017.4.17 in /usr/local/lib/python3.7/dist-packages (from requests>=2.20->yfinance) (2020.12.5)\n",
            "Requirement already satisfied: six>=1.5 in /usr/local/lib/python3.7/dist-packages (from python-dateutil>=2.7.3->pandas>=0.24->yfinance) (1.15.0)\n",
            "Building wheels for collected packages: yfinance\n",
            "  Building wheel for yfinance (setup.py) ... \u001b[?25l\u001b[?25hdone\n",
            "  Created wheel for yfinance: filename=yfinance-0.1.59-py2.py3-none-any.whl size=23442 sha256=68b94ae1573bef4611bcc26d427653b1799df422c010fd02ccb6111e09ab6fb4\n",
            "  Stored in directory: /root/.cache/pip/wheels/f8/2a/0f/4b5a86e1d52e451757eb6bc17fd899629f0925c777741b6d04\n",
            "Successfully built yfinance\n",
            "Installing collected packages: lxml, yfinance\n",
            "  Found existing installation: lxml 4.2.6\n",
            "    Uninstalling lxml-4.2.6:\n",
            "      Successfully uninstalled lxml-4.2.6\n",
            "Successfully installed lxml-4.6.3 yfinance-0.1.59\n"
          ],
          "name": "stdout"
        }
      ]
    },
    {
      "cell_type": "code",
      "metadata": {
        "id": "F2bgKLdi-OND"
      },
      "source": [
        "import pandas as pd\n",
        "import yfinance as yf\n",
        "import datetime as dt\n",
        "import pprint "
      ],
      "execution_count": null,
      "outputs": []
    },
    {
      "cell_type": "code",
      "metadata": {
        "colab": {
          "base_uri": "https://localhost:8080/",
          "height": 235
        },
        "id": "oskbME4L9zkD",
        "outputId": "b111355d-55b2-4873-bc11-d906be44d8b1"
      },
      "source": [
        "stock_code = 'AMZN'\n",
        "d = yf.Ticker(stock_code)\n",
        "\n",
        "df = d.history(start='2020-01-01', end='2021-05-09')\n",
        "# pprint.pprint(d.info)\n",
        "\n",
        "df.head()"
      ],
      "execution_count": null,
      "outputs": [
        {
          "output_type": "execute_result",
          "data": {
            "text/html": [
              "<div>\n",
              "<style scoped>\n",
              "    .dataframe tbody tr th:only-of-type {\n",
              "        vertical-align: middle;\n",
              "    }\n",
              "\n",
              "    .dataframe tbody tr th {\n",
              "        vertical-align: top;\n",
              "    }\n",
              "\n",
              "    .dataframe thead th {\n",
              "        text-align: right;\n",
              "    }\n",
              "</style>\n",
              "<table border=\"1\" class=\"dataframe\">\n",
              "  <thead>\n",
              "    <tr style=\"text-align: right;\">\n",
              "      <th></th>\n",
              "      <th>Open</th>\n",
              "      <th>High</th>\n",
              "      <th>Low</th>\n",
              "      <th>Close</th>\n",
              "      <th>Volume</th>\n",
              "      <th>Dividends</th>\n",
              "      <th>Stock Splits</th>\n",
              "    </tr>\n",
              "    <tr>\n",
              "      <th>Date</th>\n",
              "      <th></th>\n",
              "      <th></th>\n",
              "      <th></th>\n",
              "      <th></th>\n",
              "      <th></th>\n",
              "      <th></th>\n",
              "      <th></th>\n",
              "    </tr>\n",
              "  </thead>\n",
              "  <tbody>\n",
              "    <tr>\n",
              "      <th>2020-01-02</th>\n",
              "      <td>1875.000000</td>\n",
              "      <td>1898.010010</td>\n",
              "      <td>1864.150024</td>\n",
              "      <td>1898.010010</td>\n",
              "      <td>4029000</td>\n",
              "      <td>0</td>\n",
              "      <td>0</td>\n",
              "    </tr>\n",
              "    <tr>\n",
              "      <th>2020-01-03</th>\n",
              "      <td>1864.500000</td>\n",
              "      <td>1886.199951</td>\n",
              "      <td>1864.500000</td>\n",
              "      <td>1874.969971</td>\n",
              "      <td>3764400</td>\n",
              "      <td>0</td>\n",
              "      <td>0</td>\n",
              "    </tr>\n",
              "    <tr>\n",
              "      <th>2020-01-06</th>\n",
              "      <td>1860.000000</td>\n",
              "      <td>1903.689941</td>\n",
              "      <td>1860.000000</td>\n",
              "      <td>1902.880005</td>\n",
              "      <td>4061800</td>\n",
              "      <td>0</td>\n",
              "      <td>0</td>\n",
              "    </tr>\n",
              "    <tr>\n",
              "      <th>2020-01-07</th>\n",
              "      <td>1904.500000</td>\n",
              "      <td>1913.890015</td>\n",
              "      <td>1892.040039</td>\n",
              "      <td>1906.859985</td>\n",
              "      <td>4044900</td>\n",
              "      <td>0</td>\n",
              "      <td>0</td>\n",
              "    </tr>\n",
              "    <tr>\n",
              "      <th>2020-01-08</th>\n",
              "      <td>1898.040039</td>\n",
              "      <td>1911.000000</td>\n",
              "      <td>1886.439941</td>\n",
              "      <td>1891.969971</td>\n",
              "      <td>3508000</td>\n",
              "      <td>0</td>\n",
              "      <td>0</td>\n",
              "    </tr>\n",
              "  </tbody>\n",
              "</table>\n",
              "</div>"
            ],
            "text/plain": [
              "                   Open         High  ...  Dividends  Stock Splits\n",
              "Date                                  ...                         \n",
              "2020-01-02  1875.000000  1898.010010  ...          0             0\n",
              "2020-01-03  1864.500000  1886.199951  ...          0             0\n",
              "2020-01-06  1860.000000  1903.689941  ...          0             0\n",
              "2020-01-07  1904.500000  1913.890015  ...          0             0\n",
              "2020-01-08  1898.040039  1911.000000  ...          0             0\n",
              "\n",
              "[5 rows x 7 columns]"
            ]
          },
          "metadata": {
            "tags": []
          },
          "execution_count": 24
        }
      ]
    },
    {
      "cell_type": "code",
      "metadata": {
        "colab": {
          "base_uri": "https://localhost:8080/",
          "height": 450
        },
        "id": "AYZWxDsQ-0r5",
        "outputId": "2c868bb4-e329-4d3e-f045-e65aaa229090"
      },
      "source": [
        "df['Per Change'] = (df['Close'].pct_change() * 100)\n",
        "df.head(-1)"
      ],
      "execution_count": null,
      "outputs": [
        {
          "output_type": "execute_result",
          "data": {
            "text/html": [
              "<div>\n",
              "<style scoped>\n",
              "    .dataframe tbody tr th:only-of-type {\n",
              "        vertical-align: middle;\n",
              "    }\n",
              "\n",
              "    .dataframe tbody tr th {\n",
              "        vertical-align: top;\n",
              "    }\n",
              "\n",
              "    .dataframe thead th {\n",
              "        text-align: right;\n",
              "    }\n",
              "</style>\n",
              "<table border=\"1\" class=\"dataframe\">\n",
              "  <thead>\n",
              "    <tr style=\"text-align: right;\">\n",
              "      <th></th>\n",
              "      <th>Open</th>\n",
              "      <th>High</th>\n",
              "      <th>Low</th>\n",
              "      <th>Close</th>\n",
              "      <th>Volume</th>\n",
              "      <th>Dividends</th>\n",
              "      <th>Stock Splits</th>\n",
              "      <th>Per Change</th>\n",
              "    </tr>\n",
              "    <tr>\n",
              "      <th>Date</th>\n",
              "      <th></th>\n",
              "      <th></th>\n",
              "      <th></th>\n",
              "      <th></th>\n",
              "      <th></th>\n",
              "      <th></th>\n",
              "      <th></th>\n",
              "      <th></th>\n",
              "    </tr>\n",
              "  </thead>\n",
              "  <tbody>\n",
              "    <tr>\n",
              "      <th>2020-01-02</th>\n",
              "      <td>1875.000000</td>\n",
              "      <td>1898.010010</td>\n",
              "      <td>1864.150024</td>\n",
              "      <td>1898.010010</td>\n",
              "      <td>4029000</td>\n",
              "      <td>0</td>\n",
              "      <td>0</td>\n",
              "      <td>NaN</td>\n",
              "    </tr>\n",
              "    <tr>\n",
              "      <th>2020-01-03</th>\n",
              "      <td>1864.500000</td>\n",
              "      <td>1886.199951</td>\n",
              "      <td>1864.500000</td>\n",
              "      <td>1874.969971</td>\n",
              "      <td>3764400</td>\n",
              "      <td>0</td>\n",
              "      <td>0</td>\n",
              "      <td>-1.213905</td>\n",
              "    </tr>\n",
              "    <tr>\n",
              "      <th>2020-01-06</th>\n",
              "      <td>1860.000000</td>\n",
              "      <td>1903.689941</td>\n",
              "      <td>1860.000000</td>\n",
              "      <td>1902.880005</td>\n",
              "      <td>4061800</td>\n",
              "      <td>0</td>\n",
              "      <td>0</td>\n",
              "      <td>1.488559</td>\n",
              "    </tr>\n",
              "    <tr>\n",
              "      <th>2020-01-07</th>\n",
              "      <td>1904.500000</td>\n",
              "      <td>1913.890015</td>\n",
              "      <td>1892.040039</td>\n",
              "      <td>1906.859985</td>\n",
              "      <td>4044900</td>\n",
              "      <td>0</td>\n",
              "      <td>0</td>\n",
              "      <td>0.209156</td>\n",
              "    </tr>\n",
              "    <tr>\n",
              "      <th>2020-01-08</th>\n",
              "      <td>1898.040039</td>\n",
              "      <td>1911.000000</td>\n",
              "      <td>1886.439941</td>\n",
              "      <td>1891.969971</td>\n",
              "      <td>3508000</td>\n",
              "      <td>0</td>\n",
              "      <td>0</td>\n",
              "      <td>-0.780866</td>\n",
              "    </tr>\n",
              "    <tr>\n",
              "      <th>...</th>\n",
              "      <td>...</td>\n",
              "      <td>...</td>\n",
              "      <td>...</td>\n",
              "      <td>...</td>\n",
              "      <td>...</td>\n",
              "      <td>...</td>\n",
              "      <td>...</td>\n",
              "      <td>...</td>\n",
              "    </tr>\n",
              "    <tr>\n",
              "      <th>2021-04-30</th>\n",
              "      <td>3525.120117</td>\n",
              "      <td>3554.000000</td>\n",
              "      <td>3462.500000</td>\n",
              "      <td>3467.419922</td>\n",
              "      <td>7001800</td>\n",
              "      <td>0</td>\n",
              "      <td>0</td>\n",
              "      <td>-0.112065</td>\n",
              "    </tr>\n",
              "    <tr>\n",
              "      <th>2021-05-03</th>\n",
              "      <td>3484.729980</td>\n",
              "      <td>3486.649902</td>\n",
              "      <td>3372.699951</td>\n",
              "      <td>3386.489990</td>\n",
              "      <td>5875500</td>\n",
              "      <td>0</td>\n",
              "      <td>0</td>\n",
              "      <td>-2.334010</td>\n",
              "    </tr>\n",
              "    <tr>\n",
              "      <th>2021-05-04</th>\n",
              "      <td>3356.189941</td>\n",
              "      <td>3367.979980</td>\n",
              "      <td>3272.129883</td>\n",
              "      <td>3311.870117</td>\n",
              "      <td>5439400</td>\n",
              "      <td>0</td>\n",
              "      <td>0</td>\n",
              "      <td>-2.203458</td>\n",
              "    </tr>\n",
              "    <tr>\n",
              "      <th>2021-05-05</th>\n",
              "      <td>3338.860107</td>\n",
              "      <td>3354.699951</td>\n",
              "      <td>3264.360107</td>\n",
              "      <td>3270.540039</td>\n",
              "      <td>3711300</td>\n",
              "      <td>0</td>\n",
              "      <td>0</td>\n",
              "      <td>-1.247938</td>\n",
              "    </tr>\n",
              "    <tr>\n",
              "      <th>2021-05-06</th>\n",
              "      <td>3270.000000</td>\n",
              "      <td>3314.399902</td>\n",
              "      <td>3247.199951</td>\n",
              "      <td>3306.370117</td>\n",
              "      <td>4447700</td>\n",
              "      <td>0</td>\n",
              "      <td>0</td>\n",
              "      <td>1.095540</td>\n",
              "    </tr>\n",
              "  </tbody>\n",
              "</table>\n",
              "<p>339 rows × 8 columns</p>\n",
              "</div>"
            ],
            "text/plain": [
              "                   Open         High  ...  Stock Splits  Per Change\n",
              "Date                                  ...                          \n",
              "2020-01-02  1875.000000  1898.010010  ...             0         NaN\n",
              "2020-01-03  1864.500000  1886.199951  ...             0   -1.213905\n",
              "2020-01-06  1860.000000  1903.689941  ...             0    1.488559\n",
              "2020-01-07  1904.500000  1913.890015  ...             0    0.209156\n",
              "2020-01-08  1898.040039  1911.000000  ...             0   -0.780866\n",
              "...                 ...          ...  ...           ...         ...\n",
              "2021-04-30  3525.120117  3554.000000  ...             0   -0.112065\n",
              "2021-05-03  3484.729980  3486.649902  ...             0   -2.334010\n",
              "2021-05-04  3356.189941  3367.979980  ...             0   -2.203458\n",
              "2021-05-05  3338.860107  3354.699951  ...             0   -1.247938\n",
              "2021-05-06  3270.000000  3314.399902  ...             0    1.095540\n",
              "\n",
              "[339 rows x 8 columns]"
            ]
          },
          "metadata": {
            "tags": []
          },
          "execution_count": 25
        }
      ]
    },
    {
      "cell_type": "code",
      "metadata": {
        "id": "h9sGvxXSAWlN"
      },
      "source": [
        ""
      ],
      "execution_count": null,
      "outputs": []
    },
    {
      "cell_type": "code",
      "metadata": {
        "id": "675REOTiAX7h"
      },
      "source": [
        "# Calculating RSI\n",
        "# Formula 100 - [100 / 1 + (Avg Gain/Avg Loss)]\n",
        "# Default Look back period days passed in current month\n",
        "\n",
        "dd = yf.Ticker(stock_code)\n",
        "    \n",
        "df1 = dd.history(period='1mo')\n",
        "change = df1['Close'].diff().dropna()"
      ],
      "execution_count": null,
      "outputs": []
    },
    {
      "cell_type": "code",
      "metadata": {
        "id": "NQqvFbtwNG9K"
      },
      "source": [
        "gain = change.apply(lambda x : x if x > 0 else 0)\n",
        "index_names = gain[ gain == 0 ].index\n",
        "gain.drop(index_names, inplace = True)\n",
        "\n",
        "loss = change.apply(lambda x : x if x < 0 else 0)\n",
        "index_names1 = loss[ loss == 0 ].index\n",
        "loss.drop(index_names1, inplace = True)\n",
        "loss = loss.abs()"
      ],
      "execution_count": null,
      "outputs": []
    },
    {
      "cell_type": "code",
      "metadata": {
        "id": "0kfRp9raOKL8"
      },
      "source": [
        "avg_gain = gain.mean()\n",
        "avg_loss = loss.mean()"
      ],
      "execution_count": null,
      "outputs": []
    },
    {
      "cell_type": "code",
      "metadata": {
        "colab": {
          "base_uri": "https://localhost:8080/"
        },
        "id": "x4IXvmuKQa7b",
        "outputId": "5dd1a609-7fc7-4798-9ae7-7cb5f5692025"
      },
      "source": [
        "avg_gain"
      ],
      "execution_count": null,
      "outputs": [
        {
          "output_type": "execute_result",
          "data": {
            "text/plain": [
              "32.71417236328125"
            ]
          },
          "metadata": {
            "tags": []
          },
          "execution_count": 29
        }
      ]
    },
    {
      "cell_type": "code",
      "metadata": {
        "colab": {
          "base_uri": "https://localhost:8080/"
        },
        "id": "Y5MdHuCSQytm",
        "outputId": "1e1ab422-b6b5-4034-9977-76d9b4c92a0c"
      },
      "source": [
        "avg_loss"
      ],
      "execution_count": null,
      "outputs": [
        {
          "output_type": "execute_result",
          "data": {
            "text/plain": [
              "44.47333441840278"
            ]
          },
          "metadata": {
            "tags": []
          },
          "execution_count": 30
        }
      ]
    },
    {
      "cell_type": "code",
      "metadata": {
        "id": "kpAiXQVdQzqe"
      },
      "source": [
        "avg_g_l = 1 + (avg_gain/avg_loss)\n",
        "RSI = 100 - (100 / avg_g_l) "
      ],
      "execution_count": null,
      "outputs": []
    },
    {
      "cell_type": "code",
      "metadata": {
        "colab": {
          "base_uri": "https://localhost:8080/"
        },
        "id": "oA2k7yRLRMws",
        "outputId": "01ffdb66-9da1-4991-86d2-c4b644ee4220"
      },
      "source": [
        "RSI"
      ],
      "execution_count": null,
      "outputs": [
        {
          "output_type": "execute_result",
          "data": {
            "text/plain": [
              "42.38272970237207"
            ]
          },
          "metadata": {
            "tags": []
          },
          "execution_count": 32
        }
      ]
    },
    {
      "cell_type": "code",
      "metadata": {
        "id": "yGiUoYULRNfn"
      },
      "source": [
        "def RSI_calc(st_name):\n",
        "  dd = yf.Ticker(st_name)\n",
        "    \n",
        "  df1 = dd.history(period='1mo')\n",
        "  change = df1['Close'].diff().dropna()\n",
        "\n",
        "  gain = change.apply(lambda x : x if x > 0 else 0)\n",
        "  index_names = gain[ gain == 0 ].index\n",
        "  gain.drop(index_names, inplace = True)\n",
        "\n",
        "  loss = change.apply(lambda x : x if x < 0 else 0)\n",
        "  index_names1 = loss[ loss == 0 ].index\n",
        "  loss.drop(index_names1, inplace = True)\n",
        "  loss = loss.abs()\n",
        "\n",
        "  avg_gain = gain.mean()\n",
        "  avg_loss = loss.mean()\n",
        "\n",
        "  avg_g_l = 1 + (avg_gain/avg_loss)\n",
        "  RSI = 100 - (100 / avg_g_l) \n",
        "\n",
        "  return RSI"
      ],
      "execution_count": null,
      "outputs": []
    },
    {
      "cell_type": "code",
      "metadata": {
        "colab": {
          "base_uri": "https://localhost:8080/"
        },
        "id": "jCWXszTmSURx",
        "outputId": "0da57982-8ad9-4e94-b206-fefa6028ab0b"
      },
      "source": [
        "RSI_calc('AAPL')"
      ],
      "execution_count": null,
      "outputs": [
        {
          "output_type": "execute_result",
          "data": {
            "text/plain": [
              "47.731606494255765"
            ]
          },
          "metadata": {
            "tags": []
          },
          "execution_count": 34
        }
      ]
    },
    {
      "cell_type": "code",
      "metadata": {
        "id": "8HotnemrSXkL"
      },
      "source": [
        "# Reversing df\n",
        "\n",
        "d = yf.Ticker(stock_code)\n",
        "\n",
        "df = d.history(start='2020-01-01', end='2021-05-09')\n",
        "df['Change'] = (df['Close'].diff())\n",
        "df['% Change'] = (df['Close'].pct_change() * 100)\n",
        "# pprint.pprint(d.info)\n",
        "df = df.reindex(index=df.index[::-1])"
      ],
      "execution_count": null,
      "outputs": []
    },
    {
      "cell_type": "code",
      "metadata": {
        "colab": {
          "base_uri": "https://localhost:8080/",
          "height": 235
        },
        "id": "9dXkQrnCT2kI",
        "outputId": "55cc5bf4-bdca-4c37-e64e-5f5153958b3d"
      },
      "source": [
        "df.head()"
      ],
      "execution_count": null,
      "outputs": [
        {
          "output_type": "execute_result",
          "data": {
            "text/html": [
              "<div>\n",
              "<style scoped>\n",
              "    .dataframe tbody tr th:only-of-type {\n",
              "        vertical-align: middle;\n",
              "    }\n",
              "\n",
              "    .dataframe tbody tr th {\n",
              "        vertical-align: top;\n",
              "    }\n",
              "\n",
              "    .dataframe thead th {\n",
              "        text-align: right;\n",
              "    }\n",
              "</style>\n",
              "<table border=\"1\" class=\"dataframe\">\n",
              "  <thead>\n",
              "    <tr style=\"text-align: right;\">\n",
              "      <th></th>\n",
              "      <th>Open</th>\n",
              "      <th>High</th>\n",
              "      <th>Low</th>\n",
              "      <th>Close</th>\n",
              "      <th>Volume</th>\n",
              "      <th>Dividends</th>\n",
              "      <th>Stock Splits</th>\n",
              "      <th>Change</th>\n",
              "      <th>% Change</th>\n",
              "    </tr>\n",
              "    <tr>\n",
              "      <th>Date</th>\n",
              "      <th></th>\n",
              "      <th></th>\n",
              "      <th></th>\n",
              "      <th></th>\n",
              "      <th></th>\n",
              "      <th></th>\n",
              "      <th></th>\n",
              "      <th></th>\n",
              "      <th></th>\n",
              "    </tr>\n",
              "  </thead>\n",
              "  <tbody>\n",
              "    <tr>\n",
              "      <th>2021-05-07</th>\n",
              "      <td>3319.090088</td>\n",
              "      <td>3330.889893</td>\n",
              "      <td>3289.070068</td>\n",
              "      <td>3291.610107</td>\n",
              "      <td>4706800</td>\n",
              "      <td>0</td>\n",
              "      <td>0</td>\n",
              "      <td>-14.760010</td>\n",
              "      <td>-0.446411</td>\n",
              "    </tr>\n",
              "    <tr>\n",
              "      <th>2021-05-06</th>\n",
              "      <td>3270.000000</td>\n",
              "      <td>3314.399902</td>\n",
              "      <td>3247.199951</td>\n",
              "      <td>3306.370117</td>\n",
              "      <td>4447700</td>\n",
              "      <td>0</td>\n",
              "      <td>0</td>\n",
              "      <td>35.830078</td>\n",
              "      <td>1.095540</td>\n",
              "    </tr>\n",
              "    <tr>\n",
              "      <th>2021-05-05</th>\n",
              "      <td>3338.860107</td>\n",
              "      <td>3354.699951</td>\n",
              "      <td>3264.360107</td>\n",
              "      <td>3270.540039</td>\n",
              "      <td>3711300</td>\n",
              "      <td>0</td>\n",
              "      <td>0</td>\n",
              "      <td>-41.330078</td>\n",
              "      <td>-1.247938</td>\n",
              "    </tr>\n",
              "    <tr>\n",
              "      <th>2021-05-04</th>\n",
              "      <td>3356.189941</td>\n",
              "      <td>3367.979980</td>\n",
              "      <td>3272.129883</td>\n",
              "      <td>3311.870117</td>\n",
              "      <td>5439400</td>\n",
              "      <td>0</td>\n",
              "      <td>0</td>\n",
              "      <td>-74.619873</td>\n",
              "      <td>-2.203458</td>\n",
              "    </tr>\n",
              "    <tr>\n",
              "      <th>2021-05-03</th>\n",
              "      <td>3484.729980</td>\n",
              "      <td>3486.649902</td>\n",
              "      <td>3372.699951</td>\n",
              "      <td>3386.489990</td>\n",
              "      <td>5875500</td>\n",
              "      <td>0</td>\n",
              "      <td>0</td>\n",
              "      <td>-80.929932</td>\n",
              "      <td>-2.334010</td>\n",
              "    </tr>\n",
              "  </tbody>\n",
              "</table>\n",
              "</div>"
            ],
            "text/plain": [
              "                   Open         High  ...     Change  % Change\n",
              "Date                                  ...                     \n",
              "2021-05-07  3319.090088  3330.889893  ... -14.760010 -0.446411\n",
              "2021-05-06  3270.000000  3314.399902  ...  35.830078  1.095540\n",
              "2021-05-05  3338.860107  3354.699951  ... -41.330078 -1.247938\n",
              "2021-05-04  3356.189941  3367.979980  ... -74.619873 -2.203458\n",
              "2021-05-03  3484.729980  3486.649902  ... -80.929932 -2.334010\n",
              "\n",
              "[5 rows x 9 columns]"
            ]
          },
          "metadata": {
            "tags": []
          },
          "execution_count": 36
        }
      ]
    },
    {
      "cell_type": "code",
      "metadata": {
        "colab": {
          "base_uri": "https://localhost:8080/",
          "height": 450
        },
        "id": "UZuIWyOvT95K",
        "outputId": "5913ffe3-d535-4286-89c5-85869056d117"
      },
      "source": [
        "df"
      ],
      "execution_count": null,
      "outputs": [
        {
          "output_type": "execute_result",
          "data": {
            "text/html": [
              "<div>\n",
              "<style scoped>\n",
              "    .dataframe tbody tr th:only-of-type {\n",
              "        vertical-align: middle;\n",
              "    }\n",
              "\n",
              "    .dataframe tbody tr th {\n",
              "        vertical-align: top;\n",
              "    }\n",
              "\n",
              "    .dataframe thead th {\n",
              "        text-align: right;\n",
              "    }\n",
              "</style>\n",
              "<table border=\"1\" class=\"dataframe\">\n",
              "  <thead>\n",
              "    <tr style=\"text-align: right;\">\n",
              "      <th></th>\n",
              "      <th>Open</th>\n",
              "      <th>High</th>\n",
              "      <th>Low</th>\n",
              "      <th>Close</th>\n",
              "      <th>Volume</th>\n",
              "      <th>Dividends</th>\n",
              "      <th>Stock Splits</th>\n",
              "      <th>Change</th>\n",
              "      <th>% Change</th>\n",
              "    </tr>\n",
              "    <tr>\n",
              "      <th>Date</th>\n",
              "      <th></th>\n",
              "      <th></th>\n",
              "      <th></th>\n",
              "      <th></th>\n",
              "      <th></th>\n",
              "      <th></th>\n",
              "      <th></th>\n",
              "      <th></th>\n",
              "      <th></th>\n",
              "    </tr>\n",
              "  </thead>\n",
              "  <tbody>\n",
              "    <tr>\n",
              "      <th>2021-05-07</th>\n",
              "      <td>3319.090088</td>\n",
              "      <td>3330.889893</td>\n",
              "      <td>3289.070068</td>\n",
              "      <td>3291.610107</td>\n",
              "      <td>4706800</td>\n",
              "      <td>0</td>\n",
              "      <td>0</td>\n",
              "      <td>-14.760010</td>\n",
              "      <td>-0.446411</td>\n",
              "    </tr>\n",
              "    <tr>\n",
              "      <th>2021-05-06</th>\n",
              "      <td>3270.000000</td>\n",
              "      <td>3314.399902</td>\n",
              "      <td>3247.199951</td>\n",
              "      <td>3306.370117</td>\n",
              "      <td>4447700</td>\n",
              "      <td>0</td>\n",
              "      <td>0</td>\n",
              "      <td>35.830078</td>\n",
              "      <td>1.095540</td>\n",
              "    </tr>\n",
              "    <tr>\n",
              "      <th>2021-05-05</th>\n",
              "      <td>3338.860107</td>\n",
              "      <td>3354.699951</td>\n",
              "      <td>3264.360107</td>\n",
              "      <td>3270.540039</td>\n",
              "      <td>3711300</td>\n",
              "      <td>0</td>\n",
              "      <td>0</td>\n",
              "      <td>-41.330078</td>\n",
              "      <td>-1.247938</td>\n",
              "    </tr>\n",
              "    <tr>\n",
              "      <th>2021-05-04</th>\n",
              "      <td>3356.189941</td>\n",
              "      <td>3367.979980</td>\n",
              "      <td>3272.129883</td>\n",
              "      <td>3311.870117</td>\n",
              "      <td>5439400</td>\n",
              "      <td>0</td>\n",
              "      <td>0</td>\n",
              "      <td>-74.619873</td>\n",
              "      <td>-2.203458</td>\n",
              "    </tr>\n",
              "    <tr>\n",
              "      <th>2021-05-03</th>\n",
              "      <td>3484.729980</td>\n",
              "      <td>3486.649902</td>\n",
              "      <td>3372.699951</td>\n",
              "      <td>3386.489990</td>\n",
              "      <td>5875500</td>\n",
              "      <td>0</td>\n",
              "      <td>0</td>\n",
              "      <td>-80.929932</td>\n",
              "      <td>-2.334010</td>\n",
              "    </tr>\n",
              "    <tr>\n",
              "      <th>...</th>\n",
              "      <td>...</td>\n",
              "      <td>...</td>\n",
              "      <td>...</td>\n",
              "      <td>...</td>\n",
              "      <td>...</td>\n",
              "      <td>...</td>\n",
              "      <td>...</td>\n",
              "      <td>...</td>\n",
              "      <td>...</td>\n",
              "    </tr>\n",
              "    <tr>\n",
              "      <th>2020-01-08</th>\n",
              "      <td>1898.040039</td>\n",
              "      <td>1911.000000</td>\n",
              "      <td>1886.439941</td>\n",
              "      <td>1891.969971</td>\n",
              "      <td>3508000</td>\n",
              "      <td>0</td>\n",
              "      <td>0</td>\n",
              "      <td>-14.890015</td>\n",
              "      <td>-0.780866</td>\n",
              "    </tr>\n",
              "    <tr>\n",
              "      <th>2020-01-07</th>\n",
              "      <td>1904.500000</td>\n",
              "      <td>1913.890015</td>\n",
              "      <td>1892.040039</td>\n",
              "      <td>1906.859985</td>\n",
              "      <td>4044900</td>\n",
              "      <td>0</td>\n",
              "      <td>0</td>\n",
              "      <td>3.979980</td>\n",
              "      <td>0.209156</td>\n",
              "    </tr>\n",
              "    <tr>\n",
              "      <th>2020-01-06</th>\n",
              "      <td>1860.000000</td>\n",
              "      <td>1903.689941</td>\n",
              "      <td>1860.000000</td>\n",
              "      <td>1902.880005</td>\n",
              "      <td>4061800</td>\n",
              "      <td>0</td>\n",
              "      <td>0</td>\n",
              "      <td>27.910034</td>\n",
              "      <td>1.488559</td>\n",
              "    </tr>\n",
              "    <tr>\n",
              "      <th>2020-01-03</th>\n",
              "      <td>1864.500000</td>\n",
              "      <td>1886.199951</td>\n",
              "      <td>1864.500000</td>\n",
              "      <td>1874.969971</td>\n",
              "      <td>3764400</td>\n",
              "      <td>0</td>\n",
              "      <td>0</td>\n",
              "      <td>-23.040039</td>\n",
              "      <td>-1.213905</td>\n",
              "    </tr>\n",
              "    <tr>\n",
              "      <th>2020-01-02</th>\n",
              "      <td>1875.000000</td>\n",
              "      <td>1898.010010</td>\n",
              "      <td>1864.150024</td>\n",
              "      <td>1898.010010</td>\n",
              "      <td>4029000</td>\n",
              "      <td>0</td>\n",
              "      <td>0</td>\n",
              "      <td>NaN</td>\n",
              "      <td>NaN</td>\n",
              "    </tr>\n",
              "  </tbody>\n",
              "</table>\n",
              "<p>340 rows × 9 columns</p>\n",
              "</div>"
            ],
            "text/plain": [
              "                   Open         High  ...     Change  % Change\n",
              "Date                                  ...                     \n",
              "2021-05-07  3319.090088  3330.889893  ... -14.760010 -0.446411\n",
              "2021-05-06  3270.000000  3314.399902  ...  35.830078  1.095540\n",
              "2021-05-05  3338.860107  3354.699951  ... -41.330078 -1.247938\n",
              "2021-05-04  3356.189941  3367.979980  ... -74.619873 -2.203458\n",
              "2021-05-03  3484.729980  3486.649902  ... -80.929932 -2.334010\n",
              "...                 ...          ...  ...        ...       ...\n",
              "2020-01-08  1898.040039  1911.000000  ... -14.890015 -0.780866\n",
              "2020-01-07  1904.500000  1913.890015  ...   3.979980  0.209156\n",
              "2020-01-06  1860.000000  1903.689941  ...  27.910034  1.488559\n",
              "2020-01-03  1864.500000  1886.199951  ... -23.040039 -1.213905\n",
              "2020-01-02  1875.000000  1898.010010  ...        NaN       NaN\n",
              "\n",
              "[340 rows x 9 columns]"
            ]
          },
          "metadata": {
            "tags": []
          },
          "execution_count": 37
        }
      ]
    },
    {
      "cell_type": "code",
      "metadata": {
        "colab": {
          "base_uri": "https://localhost:8080/"
        },
        "id": "7B-KG0L_WABo",
        "outputId": "f1563a55-cce7-4de7-feaf-70e11bd929be"
      },
      "source": [
        "df.index"
      ],
      "execution_count": null,
      "outputs": [
        {
          "output_type": "execute_result",
          "data": {
            "text/plain": [
              "DatetimeIndex(['2021-05-07', '2021-05-06', '2021-05-05', '2021-05-04',\n",
              "               '2021-05-03', '2021-04-30', '2021-04-29', '2021-04-28',\n",
              "               '2021-04-27', '2021-04-26',\n",
              "               ...\n",
              "               '2020-01-15', '2020-01-14', '2020-01-13', '2020-01-10',\n",
              "               '2020-01-09', '2020-01-08', '2020-01-07', '2020-01-06',\n",
              "               '2020-01-03', '2020-01-02'],\n",
              "              dtype='datetime64[ns]', name='Date', length=340, freq=None)"
            ]
          },
          "metadata": {
            "tags": []
          },
          "execution_count": 38
        }
      ]
    },
    {
      "cell_type": "code",
      "metadata": {
        "colab": {
          "base_uri": "https://localhost:8080/",
          "height": 450
        },
        "id": "cU72UqLFWBoE",
        "outputId": "d6088ca5-7619-4424-b342-84185b8e849c"
      },
      "source": [
        "df.reindex()"
      ],
      "execution_count": null,
      "outputs": [
        {
          "output_type": "execute_result",
          "data": {
            "text/html": [
              "<div>\n",
              "<style scoped>\n",
              "    .dataframe tbody tr th:only-of-type {\n",
              "        vertical-align: middle;\n",
              "    }\n",
              "\n",
              "    .dataframe tbody tr th {\n",
              "        vertical-align: top;\n",
              "    }\n",
              "\n",
              "    .dataframe thead th {\n",
              "        text-align: right;\n",
              "    }\n",
              "</style>\n",
              "<table border=\"1\" class=\"dataframe\">\n",
              "  <thead>\n",
              "    <tr style=\"text-align: right;\">\n",
              "      <th></th>\n",
              "      <th>Open</th>\n",
              "      <th>High</th>\n",
              "      <th>Low</th>\n",
              "      <th>Close</th>\n",
              "      <th>Volume</th>\n",
              "      <th>Dividends</th>\n",
              "      <th>Stock Splits</th>\n",
              "      <th>Change</th>\n",
              "      <th>% Change</th>\n",
              "    </tr>\n",
              "    <tr>\n",
              "      <th>Date</th>\n",
              "      <th></th>\n",
              "      <th></th>\n",
              "      <th></th>\n",
              "      <th></th>\n",
              "      <th></th>\n",
              "      <th></th>\n",
              "      <th></th>\n",
              "      <th></th>\n",
              "      <th></th>\n",
              "    </tr>\n",
              "  </thead>\n",
              "  <tbody>\n",
              "    <tr>\n",
              "      <th>2021-05-07</th>\n",
              "      <td>3319.090088</td>\n",
              "      <td>3330.889893</td>\n",
              "      <td>3289.070068</td>\n",
              "      <td>3291.610107</td>\n",
              "      <td>4706800</td>\n",
              "      <td>0</td>\n",
              "      <td>0</td>\n",
              "      <td>-14.760010</td>\n",
              "      <td>-0.446411</td>\n",
              "    </tr>\n",
              "    <tr>\n",
              "      <th>2021-05-06</th>\n",
              "      <td>3270.000000</td>\n",
              "      <td>3314.399902</td>\n",
              "      <td>3247.199951</td>\n",
              "      <td>3306.370117</td>\n",
              "      <td>4447700</td>\n",
              "      <td>0</td>\n",
              "      <td>0</td>\n",
              "      <td>35.830078</td>\n",
              "      <td>1.095540</td>\n",
              "    </tr>\n",
              "    <tr>\n",
              "      <th>2021-05-05</th>\n",
              "      <td>3338.860107</td>\n",
              "      <td>3354.699951</td>\n",
              "      <td>3264.360107</td>\n",
              "      <td>3270.540039</td>\n",
              "      <td>3711300</td>\n",
              "      <td>0</td>\n",
              "      <td>0</td>\n",
              "      <td>-41.330078</td>\n",
              "      <td>-1.247938</td>\n",
              "    </tr>\n",
              "    <tr>\n",
              "      <th>2021-05-04</th>\n",
              "      <td>3356.189941</td>\n",
              "      <td>3367.979980</td>\n",
              "      <td>3272.129883</td>\n",
              "      <td>3311.870117</td>\n",
              "      <td>5439400</td>\n",
              "      <td>0</td>\n",
              "      <td>0</td>\n",
              "      <td>-74.619873</td>\n",
              "      <td>-2.203458</td>\n",
              "    </tr>\n",
              "    <tr>\n",
              "      <th>2021-05-03</th>\n",
              "      <td>3484.729980</td>\n",
              "      <td>3486.649902</td>\n",
              "      <td>3372.699951</td>\n",
              "      <td>3386.489990</td>\n",
              "      <td>5875500</td>\n",
              "      <td>0</td>\n",
              "      <td>0</td>\n",
              "      <td>-80.929932</td>\n",
              "      <td>-2.334010</td>\n",
              "    </tr>\n",
              "    <tr>\n",
              "      <th>...</th>\n",
              "      <td>...</td>\n",
              "      <td>...</td>\n",
              "      <td>...</td>\n",
              "      <td>...</td>\n",
              "      <td>...</td>\n",
              "      <td>...</td>\n",
              "      <td>...</td>\n",
              "      <td>...</td>\n",
              "      <td>...</td>\n",
              "    </tr>\n",
              "    <tr>\n",
              "      <th>2020-01-08</th>\n",
              "      <td>1898.040039</td>\n",
              "      <td>1911.000000</td>\n",
              "      <td>1886.439941</td>\n",
              "      <td>1891.969971</td>\n",
              "      <td>3508000</td>\n",
              "      <td>0</td>\n",
              "      <td>0</td>\n",
              "      <td>-14.890015</td>\n",
              "      <td>-0.780866</td>\n",
              "    </tr>\n",
              "    <tr>\n",
              "      <th>2020-01-07</th>\n",
              "      <td>1904.500000</td>\n",
              "      <td>1913.890015</td>\n",
              "      <td>1892.040039</td>\n",
              "      <td>1906.859985</td>\n",
              "      <td>4044900</td>\n",
              "      <td>0</td>\n",
              "      <td>0</td>\n",
              "      <td>3.979980</td>\n",
              "      <td>0.209156</td>\n",
              "    </tr>\n",
              "    <tr>\n",
              "      <th>2020-01-06</th>\n",
              "      <td>1860.000000</td>\n",
              "      <td>1903.689941</td>\n",
              "      <td>1860.000000</td>\n",
              "      <td>1902.880005</td>\n",
              "      <td>4061800</td>\n",
              "      <td>0</td>\n",
              "      <td>0</td>\n",
              "      <td>27.910034</td>\n",
              "      <td>1.488559</td>\n",
              "    </tr>\n",
              "    <tr>\n",
              "      <th>2020-01-03</th>\n",
              "      <td>1864.500000</td>\n",
              "      <td>1886.199951</td>\n",
              "      <td>1864.500000</td>\n",
              "      <td>1874.969971</td>\n",
              "      <td>3764400</td>\n",
              "      <td>0</td>\n",
              "      <td>0</td>\n",
              "      <td>-23.040039</td>\n",
              "      <td>-1.213905</td>\n",
              "    </tr>\n",
              "    <tr>\n",
              "      <th>2020-01-02</th>\n",
              "      <td>1875.000000</td>\n",
              "      <td>1898.010010</td>\n",
              "      <td>1864.150024</td>\n",
              "      <td>1898.010010</td>\n",
              "      <td>4029000</td>\n",
              "      <td>0</td>\n",
              "      <td>0</td>\n",
              "      <td>NaN</td>\n",
              "      <td>NaN</td>\n",
              "    </tr>\n",
              "  </tbody>\n",
              "</table>\n",
              "<p>340 rows × 9 columns</p>\n",
              "</div>"
            ],
            "text/plain": [
              "                   Open         High  ...     Change  % Change\n",
              "Date                                  ...                     \n",
              "2021-05-07  3319.090088  3330.889893  ... -14.760010 -0.446411\n",
              "2021-05-06  3270.000000  3314.399902  ...  35.830078  1.095540\n",
              "2021-05-05  3338.860107  3354.699951  ... -41.330078 -1.247938\n",
              "2021-05-04  3356.189941  3367.979980  ... -74.619873 -2.203458\n",
              "2021-05-03  3484.729980  3486.649902  ... -80.929932 -2.334010\n",
              "...                 ...          ...  ...        ...       ...\n",
              "2020-01-08  1898.040039  1911.000000  ... -14.890015 -0.780866\n",
              "2020-01-07  1904.500000  1913.890015  ...   3.979980  0.209156\n",
              "2020-01-06  1860.000000  1903.689941  ...  27.910034  1.488559\n",
              "2020-01-03  1864.500000  1886.199951  ... -23.040039 -1.213905\n",
              "2020-01-02  1875.000000  1898.010010  ...        NaN       NaN\n",
              "\n",
              "[340 rows x 9 columns]"
            ]
          },
          "metadata": {
            "tags": []
          },
          "execution_count": 39
        }
      ]
    },
    {
      "cell_type": "code",
      "metadata": {
        "id": "eEI0S0lyIOVo"
      },
      "source": [
        "df['Date'] = df.index"
      ],
      "execution_count": null,
      "outputs": []
    },
    {
      "cell_type": "code",
      "metadata": {
        "colab": {
          "base_uri": "https://localhost:8080/",
          "height": 450
        },
        "id": "xydlslAhIqBk",
        "outputId": "af742f35-f9b3-4397-9770-b41166136130"
      },
      "source": [
        "df"
      ],
      "execution_count": null,
      "outputs": [
        {
          "output_type": "execute_result",
          "data": {
            "text/html": [
              "<div>\n",
              "<style scoped>\n",
              "    .dataframe tbody tr th:only-of-type {\n",
              "        vertical-align: middle;\n",
              "    }\n",
              "\n",
              "    .dataframe tbody tr th {\n",
              "        vertical-align: top;\n",
              "    }\n",
              "\n",
              "    .dataframe thead th {\n",
              "        text-align: right;\n",
              "    }\n",
              "</style>\n",
              "<table border=\"1\" class=\"dataframe\">\n",
              "  <thead>\n",
              "    <tr style=\"text-align: right;\">\n",
              "      <th></th>\n",
              "      <th>Open</th>\n",
              "      <th>High</th>\n",
              "      <th>Low</th>\n",
              "      <th>Close</th>\n",
              "      <th>Volume</th>\n",
              "      <th>Dividends</th>\n",
              "      <th>Stock Splits</th>\n",
              "      <th>Change</th>\n",
              "      <th>% Change</th>\n",
              "      <th>Date</th>\n",
              "    </tr>\n",
              "    <tr>\n",
              "      <th>Date</th>\n",
              "      <th></th>\n",
              "      <th></th>\n",
              "      <th></th>\n",
              "      <th></th>\n",
              "      <th></th>\n",
              "      <th></th>\n",
              "      <th></th>\n",
              "      <th></th>\n",
              "      <th></th>\n",
              "      <th></th>\n",
              "    </tr>\n",
              "  </thead>\n",
              "  <tbody>\n",
              "    <tr>\n",
              "      <th>2021-05-07</th>\n",
              "      <td>3319.090088</td>\n",
              "      <td>3330.889893</td>\n",
              "      <td>3289.070068</td>\n",
              "      <td>3291.610107</td>\n",
              "      <td>4706800</td>\n",
              "      <td>0</td>\n",
              "      <td>0</td>\n",
              "      <td>-14.760010</td>\n",
              "      <td>-0.446411</td>\n",
              "      <td>2021-05-07</td>\n",
              "    </tr>\n",
              "    <tr>\n",
              "      <th>2021-05-06</th>\n",
              "      <td>3270.000000</td>\n",
              "      <td>3314.399902</td>\n",
              "      <td>3247.199951</td>\n",
              "      <td>3306.370117</td>\n",
              "      <td>4447700</td>\n",
              "      <td>0</td>\n",
              "      <td>0</td>\n",
              "      <td>35.830078</td>\n",
              "      <td>1.095540</td>\n",
              "      <td>2021-05-06</td>\n",
              "    </tr>\n",
              "    <tr>\n",
              "      <th>2021-05-05</th>\n",
              "      <td>3338.860107</td>\n",
              "      <td>3354.699951</td>\n",
              "      <td>3264.360107</td>\n",
              "      <td>3270.540039</td>\n",
              "      <td>3711300</td>\n",
              "      <td>0</td>\n",
              "      <td>0</td>\n",
              "      <td>-41.330078</td>\n",
              "      <td>-1.247938</td>\n",
              "      <td>2021-05-05</td>\n",
              "    </tr>\n",
              "    <tr>\n",
              "      <th>2021-05-04</th>\n",
              "      <td>3356.189941</td>\n",
              "      <td>3367.979980</td>\n",
              "      <td>3272.129883</td>\n",
              "      <td>3311.870117</td>\n",
              "      <td>5439400</td>\n",
              "      <td>0</td>\n",
              "      <td>0</td>\n",
              "      <td>-74.619873</td>\n",
              "      <td>-2.203458</td>\n",
              "      <td>2021-05-04</td>\n",
              "    </tr>\n",
              "    <tr>\n",
              "      <th>2021-05-03</th>\n",
              "      <td>3484.729980</td>\n",
              "      <td>3486.649902</td>\n",
              "      <td>3372.699951</td>\n",
              "      <td>3386.489990</td>\n",
              "      <td>5875500</td>\n",
              "      <td>0</td>\n",
              "      <td>0</td>\n",
              "      <td>-80.929932</td>\n",
              "      <td>-2.334010</td>\n",
              "      <td>2021-05-03</td>\n",
              "    </tr>\n",
              "    <tr>\n",
              "      <th>...</th>\n",
              "      <td>...</td>\n",
              "      <td>...</td>\n",
              "      <td>...</td>\n",
              "      <td>...</td>\n",
              "      <td>...</td>\n",
              "      <td>...</td>\n",
              "      <td>...</td>\n",
              "      <td>...</td>\n",
              "      <td>...</td>\n",
              "      <td>...</td>\n",
              "    </tr>\n",
              "    <tr>\n",
              "      <th>2020-01-08</th>\n",
              "      <td>1898.040039</td>\n",
              "      <td>1911.000000</td>\n",
              "      <td>1886.439941</td>\n",
              "      <td>1891.969971</td>\n",
              "      <td>3508000</td>\n",
              "      <td>0</td>\n",
              "      <td>0</td>\n",
              "      <td>-14.890015</td>\n",
              "      <td>-0.780866</td>\n",
              "      <td>2020-01-08</td>\n",
              "    </tr>\n",
              "    <tr>\n",
              "      <th>2020-01-07</th>\n",
              "      <td>1904.500000</td>\n",
              "      <td>1913.890015</td>\n",
              "      <td>1892.040039</td>\n",
              "      <td>1906.859985</td>\n",
              "      <td>4044900</td>\n",
              "      <td>0</td>\n",
              "      <td>0</td>\n",
              "      <td>3.979980</td>\n",
              "      <td>0.209156</td>\n",
              "      <td>2020-01-07</td>\n",
              "    </tr>\n",
              "    <tr>\n",
              "      <th>2020-01-06</th>\n",
              "      <td>1860.000000</td>\n",
              "      <td>1903.689941</td>\n",
              "      <td>1860.000000</td>\n",
              "      <td>1902.880005</td>\n",
              "      <td>4061800</td>\n",
              "      <td>0</td>\n",
              "      <td>0</td>\n",
              "      <td>27.910034</td>\n",
              "      <td>1.488559</td>\n",
              "      <td>2020-01-06</td>\n",
              "    </tr>\n",
              "    <tr>\n",
              "      <th>2020-01-03</th>\n",
              "      <td>1864.500000</td>\n",
              "      <td>1886.199951</td>\n",
              "      <td>1864.500000</td>\n",
              "      <td>1874.969971</td>\n",
              "      <td>3764400</td>\n",
              "      <td>0</td>\n",
              "      <td>0</td>\n",
              "      <td>-23.040039</td>\n",
              "      <td>-1.213905</td>\n",
              "      <td>2020-01-03</td>\n",
              "    </tr>\n",
              "    <tr>\n",
              "      <th>2020-01-02</th>\n",
              "      <td>1875.000000</td>\n",
              "      <td>1898.010010</td>\n",
              "      <td>1864.150024</td>\n",
              "      <td>1898.010010</td>\n",
              "      <td>4029000</td>\n",
              "      <td>0</td>\n",
              "      <td>0</td>\n",
              "      <td>NaN</td>\n",
              "      <td>NaN</td>\n",
              "      <td>2020-01-02</td>\n",
              "    </tr>\n",
              "  </tbody>\n",
              "</table>\n",
              "<p>340 rows × 10 columns</p>\n",
              "</div>"
            ],
            "text/plain": [
              "                   Open         High  ...  % Change       Date\n",
              "Date                                  ...                     \n",
              "2021-05-07  3319.090088  3330.889893  ... -0.446411 2021-05-07\n",
              "2021-05-06  3270.000000  3314.399902  ...  1.095540 2021-05-06\n",
              "2021-05-05  3338.860107  3354.699951  ... -1.247938 2021-05-05\n",
              "2021-05-04  3356.189941  3367.979980  ... -2.203458 2021-05-04\n",
              "2021-05-03  3484.729980  3486.649902  ... -2.334010 2021-05-03\n",
              "...                 ...          ...  ...       ...        ...\n",
              "2020-01-08  1898.040039  1911.000000  ... -0.780866 2020-01-08\n",
              "2020-01-07  1904.500000  1913.890015  ...  0.209156 2020-01-07\n",
              "2020-01-06  1860.000000  1903.689941  ...  1.488559 2020-01-06\n",
              "2020-01-03  1864.500000  1886.199951  ... -1.213905 2020-01-03\n",
              "2020-01-02  1875.000000  1898.010010  ...       NaN 2020-01-02\n",
              "\n",
              "[340 rows x 10 columns]"
            ]
          },
          "metadata": {
            "tags": []
          },
          "execution_count": 41
        }
      ]
    },
    {
      "cell_type": "code",
      "metadata": {
        "id": "B05q35hWIq1Y"
      },
      "source": [
        "# Calculating Simple Moving Average (SMA)\n",
        "# Calculating currnt month SMA\n",
        "dd = yf.Ticker(stock_code)\n",
        "    \n",
        "df1 = dd.history(period='1mo')\n",
        "change = df1['Close'].diff().dropna()"
      ],
      "execution_count": null,
      "outputs": []
    },
    {
      "cell_type": "code",
      "metadata": {
        "colab": {
          "base_uri": "https://localhost:8080/",
          "height": 235
        },
        "id": "1BVP7_vSKpvl",
        "outputId": "e35a487b-3e97-4fc8-826c-aab34a29f82b"
      },
      "source": [
        "df1.head()"
      ],
      "execution_count": null,
      "outputs": [
        {
          "output_type": "execute_result",
          "data": {
            "text/html": [
              "<div>\n",
              "<style scoped>\n",
              "    .dataframe tbody tr th:only-of-type {\n",
              "        vertical-align: middle;\n",
              "    }\n",
              "\n",
              "    .dataframe tbody tr th {\n",
              "        vertical-align: top;\n",
              "    }\n",
              "\n",
              "    .dataframe thead th {\n",
              "        text-align: right;\n",
              "    }\n",
              "</style>\n",
              "<table border=\"1\" class=\"dataframe\">\n",
              "  <thead>\n",
              "    <tr style=\"text-align: right;\">\n",
              "      <th></th>\n",
              "      <th>Open</th>\n",
              "      <th>High</th>\n",
              "      <th>Low</th>\n",
              "      <th>Close</th>\n",
              "      <th>Volume</th>\n",
              "      <th>Dividends</th>\n",
              "      <th>Stock Splits</th>\n",
              "    </tr>\n",
              "    <tr>\n",
              "      <th>Date</th>\n",
              "      <th></th>\n",
              "      <th></th>\n",
              "      <th></th>\n",
              "      <th></th>\n",
              "      <th></th>\n",
              "      <th></th>\n",
              "      <th></th>\n",
              "    </tr>\n",
              "  </thead>\n",
              "  <tbody>\n",
              "    <tr>\n",
              "      <th>2021-04-08</th>\n",
              "      <td>3310.899902</td>\n",
              "      <td>3324.500000</td>\n",
              "      <td>3292.000000</td>\n",
              "      <td>3299.300049</td>\n",
              "      <td>2812100</td>\n",
              "      <td>0</td>\n",
              "      <td>0</td>\n",
              "    </tr>\n",
              "    <tr>\n",
              "      <th>2021-04-09</th>\n",
              "      <td>3304.699951</td>\n",
              "      <td>3372.199951</td>\n",
              "      <td>3288.899902</td>\n",
              "      <td>3372.199951</td>\n",
              "      <td>4334600</td>\n",
              "      <td>0</td>\n",
              "      <td>0</td>\n",
              "    </tr>\n",
              "    <tr>\n",
              "      <th>2021-04-12</th>\n",
              "      <td>3355.209961</td>\n",
              "      <td>3395.040039</td>\n",
              "      <td>3351.149902</td>\n",
              "      <td>3379.389893</td>\n",
              "      <td>3281800</td>\n",
              "      <td>0</td>\n",
              "      <td>0</td>\n",
              "    </tr>\n",
              "    <tr>\n",
              "      <th>2021-04-13</th>\n",
              "      <td>3400.850098</td>\n",
              "      <td>3432.000000</td>\n",
              "      <td>3395.629883</td>\n",
              "      <td>3400.000000</td>\n",
              "      <td>3315800</td>\n",
              "      <td>0</td>\n",
              "      <td>0</td>\n",
              "    </tr>\n",
              "    <tr>\n",
              "      <th>2021-04-14</th>\n",
              "      <td>3404.040039</td>\n",
              "      <td>3404.129883</td>\n",
              "      <td>3326.000000</td>\n",
              "      <td>3333.000000</td>\n",
              "      <td>3145200</td>\n",
              "      <td>0</td>\n",
              "      <td>0</td>\n",
              "    </tr>\n",
              "  </tbody>\n",
              "</table>\n",
              "</div>"
            ],
            "text/plain": [
              "                   Open         High  ...  Dividends  Stock Splits\n",
              "Date                                  ...                         \n",
              "2021-04-08  3310.899902  3324.500000  ...          0             0\n",
              "2021-04-09  3304.699951  3372.199951  ...          0             0\n",
              "2021-04-12  3355.209961  3395.040039  ...          0             0\n",
              "2021-04-13  3400.850098  3432.000000  ...          0             0\n",
              "2021-04-14  3404.040039  3404.129883  ...          0             0\n",
              "\n",
              "[5 rows x 7 columns]"
            ]
          },
          "metadata": {
            "tags": []
          },
          "execution_count": 45
        }
      ]
    },
    {
      "cell_type": "code",
      "metadata": {
        "colab": {
          "base_uri": "https://localhost:8080/"
        },
        "id": "o0gMvx3mKyy5",
        "outputId": "5a11cef8-5401-4d07-895d-220061ef1a3d"
      },
      "source": [
        "df1.dropna()\n",
        "sma = df1.Close.sum()/len(df1)\n",
        "sma"
      ],
      "execution_count": null,
      "outputs": [
        {
          "output_type": "execute_result",
          "data": {
            "text/plain": [
              "3366.8909135298295"
            ]
          },
          "metadata": {
            "tags": []
          },
          "execution_count": 50
        }
      ]
    },
    {
      "cell_type": "code",
      "metadata": {
        "colab": {
          "base_uri": "https://localhost:8080/"
        },
        "id": "3zW3I5geMbEB",
        "outputId": "b71187bf-a0ce-4f2f-9aed-e79823823607"
      },
      "source": [
        "df1.Close.mean()"
      ],
      "execution_count": null,
      "outputs": [
        {
          "output_type": "execute_result",
          "data": {
            "text/plain": [
              "3366.8909135298295"
            ]
          },
          "metadata": {
            "tags": []
          },
          "execution_count": 52
        }
      ]
    },
    {
      "cell_type": "code",
      "metadata": {
        "colab": {
          "base_uri": "https://localhost:8080/"
        },
        "id": "yeOVn6rVMkkL",
        "outputId": "9202bc57-7dac-4e52-d3ba-9bec327149b5"
      },
      "source": [
        "r,c = df1.shape\n",
        "r"
      ],
      "execution_count": null,
      "outputs": [
        {
          "output_type": "execute_result",
          "data": {
            "text/plain": [
              "22"
            ]
          },
          "metadata": {
            "tags": []
          },
          "execution_count": 49
        }
      ]
    },
    {
      "cell_type": "code",
      "metadata": {
        "id": "BflKOgoJMoRL"
      },
      "source": [
        "dd = yf.Ticker('AMZN')\n",
        "        \n",
        "df1 = dd.history(period='30d')\n",
        "# change = df1['Close'].diff().dropna()"
      ],
      "execution_count": null,
      "outputs": []
    },
    {
      "cell_type": "code",
      "metadata": {
        "colab": {
          "base_uri": "https://localhost:8080/"
        },
        "id": "gLWHG_JyN3FT",
        "outputId": "f15f72b5-e169-456f-b349-21ae8c546e5b"
      },
      "source": [
        "df1.shape"
      ],
      "execution_count": null,
      "outputs": [
        {
          "output_type": "execute_result",
          "data": {
            "text/plain": [
              "(30, 7)"
            ]
          },
          "metadata": {
            "tags": []
          },
          "execution_count": 56
        }
      ]
    },
    {
      "cell_type": "code",
      "metadata": {
        "id": "3x_8hoFw-Eza"
      },
      "source": [
        "import matplotlib.pyplot as plt\n",
        "from matplotlib.pyplot import figure\n",
        "import plotly.offline as pyo\n",
        "import plotly.graph_objs as go"
      ],
      "execution_count": null,
      "outputs": []
    },
    {
      "cell_type": "code",
      "metadata": {
        "colab": {
          "base_uri": "https://localhost:8080/"
        },
        "id": "-yK8a1TbqFdR",
        "outputId": "47c0ba1b-60de-4b37-deaa-56500fd859ec"
      },
      "source": [
        "tmp"
      ],
      "execution_count": null,
      "outputs": [
        {
          "output_type": "execute_result",
          "data": {
            "text/plain": [
              "Date\n",
              "2020-11-12    0.000000\n",
              "2020-11-13    0.003181\n",
              "2020-11-16    0.071160\n",
              "2020-11-17    0.051978\n",
              "2020-11-18   -0.049572\n",
              "                ...   \n",
              "2021-05-06   -0.865112\n",
              "2021-05-07   -0.777733\n",
              "2021-05-10   -0.909111\n",
              "2021-05-11   -1.014203\n",
              "2021-05-12   -1.222111\n",
              "Name: Close, Length: 124, dtype: float64"
            ]
          },
          "metadata": {
            "tags": []
          },
          "execution_count": 18
        }
      ]
    },
    {
      "cell_type": "code",
      "metadata": {
        "colab": {
          "base_uri": "https://localhost:8080/",
          "height": 542
        },
        "id": "TwdHxyUMN6Zm",
        "outputId": "5463258f-f8ba-4611-e78b-ccaac46dc84f"
      },
      "source": [
        "dd = yf.Ticker('AAPL')\n",
        "        \n",
        "df1 = dd.history(period='6mo')\n",
        "\n",
        "exp1 = df1.Close.ewm(span=12, adjust=False).mean()\n",
        "exp2 = df1.Close.ewm(span=26, adjust=False).mean()\n",
        "macd = exp1 - exp2\n",
        "\n",
        "exp3 = macd.ewm(span=9, adjust=False).mean() \n",
        "\n",
        "macd_diff = macd - exp3\n",
        "\n",
        "trace0 = go.Scatter(\n",
        "   x = macd.index,\n",
        "   y = macd,\n",
        "   mode = 'lines',\n",
        "   name = 'MACD Line' \n",
        ")\n",
        "\n",
        "trace1 = go.Scatter(\n",
        "   x = exp3.index,\n",
        "   y = exp3,\n",
        "   mode = 'lines',\n",
        "   name = 'MACD Signal Line' \n",
        ")\n",
        "\n",
        "# trace2 = go.Figure(data=[go.Histogram(x=tmp)])\n",
        "\n",
        "data  = [trace0, trace1]\n",
        "layout = go.Layout(title='hahaha')\n",
        "\n",
        "fig = go.Figure(data=data, layout=layout)\n",
        "\n",
        "# pyo.plot(fig)\n",
        "fig"
      ],
      "execution_count": null,
      "outputs": [
        {
          "output_type": "display_data",
          "data": {
            "text/html": [
              "<html>\n",
              "<head><meta charset=\"utf-8\" /></head>\n",
              "<body>\n",
              "    <div>\n",
              "            <script src=\"https://cdnjs.cloudflare.com/ajax/libs/mathjax/2.7.5/MathJax.js?config=TeX-AMS-MML_SVG\"></script><script type=\"text/javascript\">if (window.MathJax) {MathJax.Hub.Config({SVG: {font: \"STIX-Web\"}});}</script>\n",
              "                <script type=\"text/javascript\">window.PlotlyConfig = {MathJaxConfig: 'local'};</script>\n",
              "        <script src=\"https://cdn.plot.ly/plotly-latest.min.js\"></script>    \n",
              "            <div id=\"80c1f7e6-4662-408d-a1fb-ff4f7ea689ab\" class=\"plotly-graph-div\" style=\"height:525px; width:100%;\"></div>\n",
              "            <script type=\"text/javascript\">\n",
              "                \n",
              "                    window.PLOTLYENV=window.PLOTLYENV || {};\n",
              "                    \n",
              "                if (document.getElementById(\"80c1f7e6-4662-408d-a1fb-ff4f7ea689ab\")) {\n",
              "                    Plotly.newPlot(\n",
              "                        '80c1f7e6-4662-408d-a1fb-ff4f7ea689ab',\n",
              "                        [{\"mode\": \"lines\", \"name\": \"MACD Line\", \"type\": \"scatter\", \"x\": [\"2020-11-13T00:00:00\", \"2020-11-16T00:00:00\", \"2020-11-17T00:00:00\", \"2020-11-18T00:00:00\", \"2020-11-19T00:00:00\", \"2020-11-20T00:00:00\", \"2020-11-23T00:00:00\", \"2020-11-24T00:00:00\", \"2020-11-25T00:00:00\", \"2020-11-27T00:00:00\", \"2020-11-30T00:00:00\", \"2020-12-01T00:00:00\", \"2020-12-02T00:00:00\", \"2020-12-03T00:00:00\", \"2020-12-04T00:00:00\", \"2020-12-07T00:00:00\", \"2020-12-08T00:00:00\", \"2020-12-09T00:00:00\", \"2020-12-10T00:00:00\", \"2020-12-11T00:00:00\", \"2020-12-14T00:00:00\", \"2020-12-15T00:00:00\", \"2020-12-16T00:00:00\", \"2020-12-17T00:00:00\", \"2020-12-18T00:00:00\", \"2020-12-21T00:00:00\", \"2020-12-22T00:00:00\", \"2020-12-23T00:00:00\", \"2020-12-24T00:00:00\", \"2020-12-28T00:00:00\", \"2020-12-29T00:00:00\", \"2020-12-30T00:00:00\", \"2020-12-31T00:00:00\", \"2021-01-04T00:00:00\", \"2021-01-05T00:00:00\", \"2021-01-06T00:00:00\", \"2021-01-07T00:00:00\", \"2021-01-08T00:00:00\", \"2021-01-11T00:00:00\", \"2021-01-12T00:00:00\", \"2021-01-13T00:00:00\", \"2021-01-14T00:00:00\", \"2021-01-15T00:00:00\", \"2021-01-19T00:00:00\", \"2021-01-20T00:00:00\", \"2021-01-21T00:00:00\", \"2021-01-22T00:00:00\", \"2021-01-25T00:00:00\", \"2021-01-26T00:00:00\", \"2021-01-27T00:00:00\", \"2021-01-28T00:00:00\", \"2021-01-29T00:00:00\", \"2021-02-01T00:00:00\", \"2021-02-02T00:00:00\", \"2021-02-03T00:00:00\", \"2021-02-04T00:00:00\", \"2021-02-05T00:00:00\", \"2021-02-08T00:00:00\", \"2021-02-09T00:00:00\", \"2021-02-10T00:00:00\", \"2021-02-11T00:00:00\", \"2021-02-12T00:00:00\", \"2021-02-16T00:00:00\", \"2021-02-17T00:00:00\", \"2021-02-18T00:00:00\", \"2021-02-19T00:00:00\", \"2021-02-22T00:00:00\", \"2021-02-23T00:00:00\", \"2021-02-24T00:00:00\", \"2021-02-25T00:00:00\", \"2021-02-26T00:00:00\", \"2021-03-01T00:00:00\", \"2021-03-02T00:00:00\", \"2021-03-03T00:00:00\", \"2021-03-04T00:00:00\", \"2021-03-05T00:00:00\", \"2021-03-08T00:00:00\", \"2021-03-09T00:00:00\", \"2021-03-10T00:00:00\", \"2021-03-11T00:00:00\", \"2021-03-12T00:00:00\", \"2021-03-15T00:00:00\", \"2021-03-16T00:00:00\", \"2021-03-17T00:00:00\", \"2021-03-18T00:00:00\", \"2021-03-19T00:00:00\", \"2021-03-22T00:00:00\", \"2021-03-23T00:00:00\", \"2021-03-24T00:00:00\", \"2021-03-25T00:00:00\", \"2021-03-26T00:00:00\", \"2021-03-29T00:00:00\", \"2021-03-30T00:00:00\", \"2021-03-31T00:00:00\", \"2021-04-01T00:00:00\", \"2021-04-05T00:00:00\", \"2021-04-06T00:00:00\", \"2021-04-07T00:00:00\", \"2021-04-08T00:00:00\", \"2021-04-09T00:00:00\", \"2021-04-12T00:00:00\", \"2021-04-13T00:00:00\", \"2021-04-14T00:00:00\", \"2021-04-15T00:00:00\", \"2021-04-16T00:00:00\", \"2021-04-19T00:00:00\", \"2021-04-20T00:00:00\", \"2021-04-21T00:00:00\", \"2021-04-22T00:00:00\", \"2021-04-23T00:00:00\", \"2021-04-26T00:00:00\", \"2021-04-27T00:00:00\", \"2021-04-28T00:00:00\", \"2021-04-29T00:00:00\", \"2021-04-30T00:00:00\", \"2021-05-03T00:00:00\", \"2021-05-04T00:00:00\", \"2021-05-05T00:00:00\", \"2021-05-06T00:00:00\", \"2021-05-07T00:00:00\", \"2021-05-10T00:00:00\", \"2021-05-11T00:00:00\", \"2021-05-12T00:00:00\"], \"y\": [0.0, 0.08269889809805875, 0.074187432580473, -0.04147092054452628, -0.0831074065595061, -0.2181555711911045, -0.5989940737414798, -0.7855818992404409, -0.8544308963892604, -0.8541055595878788, -0.648502462784819, -0.18819608188843517, 0.2032136021110773, 0.49642565208552014, 0.6656258795379557, 0.9098811997113927, 1.140976437555338, 1.102284438658856, 1.1755050668027849, 1.1534758029854117, 1.0729746502243387, 1.4827357435713537, 1.781310600928819, 2.065707633710346, 2.1027690248906623, 2.2326848299855584, 2.5992683111974486, 2.7836998399951938, 2.9767869292402764, 3.4694678369405096, 3.671210078271841, 3.695987816203356, 3.591377613229554, 3.2076721473697347, 2.9977215825722965, 2.4483942306170263, 2.3336256562335222, 2.3069675901769244, 2.0156720015381495, 1.7501649881528891, 1.6883944170147345, 1.4633132625436929, 1.1295433196004723, 0.9100380128599994, 1.061665710707672, 1.553229544683262, 2.095598125892394, 2.8027936597043777, 3.3440084422211385, 3.642458946854589, 3.439573114963764, 2.833492054045877, 2.4997004243610377, 2.2772874570649435, 1.993587151813415, 2.0229317032828362, 1.9890229282348173, 1.951735145650531, 1.828605195418163, 1.6619227441465227, 1.49168678650841, 1.3604234116407667, 1.068471571594415, 0.6404108822295029, 0.20774809928019522, -0.12085829843718443, -0.6851303031080533, -1.1305651768053622, -1.5072838376877087, -2.132473332700016, -2.5764901861230243, -2.3749764401616176, -2.402660441197611, -2.640658561174547, -2.9507303931026883, -3.0573062232665364, -3.5089265483801597, -3.4460904249154822, -3.445984279393457, -3.2489506618904755, -3.131616590988287, -2.768275433545412, -2.326232728100834, -2.0178988380225604, -2.090194773083695, -2.1660209665840284, -1.9299792629431067, -1.7907433568647946, -1.8563589398771398, -1.8467935886722415, -1.7688783668492931, -1.6733408651633823, -1.698078912265231, -1.5189263733119134, -1.2935638769445745, -0.8713091433513398, -0.5058661804968096, -0.07919944089358921, 0.45189250700683203, 1.0730820097113138, 1.4073790239613544, 1.9072951459528298, 2.0861042586859497, 2.3991259979188726, 2.5899545226710217, 2.76410082020638, 2.731270069968218, 2.705479891867526, 2.530209779715193, 2.553590966447814, 2.574663595391172, 2.53555148190884, 2.411507274992971, 2.278876990243276, 1.9881281995739073, 1.8236835393454385, 1.3005659460642676, 0.8958048703345867, 0.6990797854087987, 0.5920266539648082, 0.23337153010197653, -0.1252709198097648, -0.65531589582028]}, {\"mode\": \"lines\", \"name\": \"MACD Signal Line\", \"type\": \"scatter\", \"x\": [\"2020-11-13T00:00:00\", \"2020-11-16T00:00:00\", \"2020-11-17T00:00:00\", \"2020-11-18T00:00:00\", \"2020-11-19T00:00:00\", \"2020-11-20T00:00:00\", \"2020-11-23T00:00:00\", \"2020-11-24T00:00:00\", \"2020-11-25T00:00:00\", \"2020-11-27T00:00:00\", \"2020-11-30T00:00:00\", \"2020-12-01T00:00:00\", \"2020-12-02T00:00:00\", \"2020-12-03T00:00:00\", \"2020-12-04T00:00:00\", \"2020-12-07T00:00:00\", \"2020-12-08T00:00:00\", \"2020-12-09T00:00:00\", \"2020-12-10T00:00:00\", \"2020-12-11T00:00:00\", \"2020-12-14T00:00:00\", \"2020-12-15T00:00:00\", \"2020-12-16T00:00:00\", \"2020-12-17T00:00:00\", \"2020-12-18T00:00:00\", \"2020-12-21T00:00:00\", \"2020-12-22T00:00:00\", \"2020-12-23T00:00:00\", \"2020-12-24T00:00:00\", \"2020-12-28T00:00:00\", \"2020-12-29T00:00:00\", \"2020-12-30T00:00:00\", \"2020-12-31T00:00:00\", \"2021-01-04T00:00:00\", \"2021-01-05T00:00:00\", \"2021-01-06T00:00:00\", \"2021-01-07T00:00:00\", \"2021-01-08T00:00:00\", \"2021-01-11T00:00:00\", \"2021-01-12T00:00:00\", \"2021-01-13T00:00:00\", \"2021-01-14T00:00:00\", \"2021-01-15T00:00:00\", \"2021-01-19T00:00:00\", \"2021-01-20T00:00:00\", \"2021-01-21T00:00:00\", \"2021-01-22T00:00:00\", \"2021-01-25T00:00:00\", \"2021-01-26T00:00:00\", \"2021-01-27T00:00:00\", \"2021-01-28T00:00:00\", \"2021-01-29T00:00:00\", \"2021-02-01T00:00:00\", \"2021-02-02T00:00:00\", \"2021-02-03T00:00:00\", \"2021-02-04T00:00:00\", \"2021-02-05T00:00:00\", \"2021-02-08T00:00:00\", \"2021-02-09T00:00:00\", \"2021-02-10T00:00:00\", \"2021-02-11T00:00:00\", \"2021-02-12T00:00:00\", \"2021-02-16T00:00:00\", \"2021-02-17T00:00:00\", \"2021-02-18T00:00:00\", \"2021-02-19T00:00:00\", \"2021-02-22T00:00:00\", \"2021-02-23T00:00:00\", \"2021-02-24T00:00:00\", \"2021-02-25T00:00:00\", \"2021-02-26T00:00:00\", \"2021-03-01T00:00:00\", \"2021-03-02T00:00:00\", \"2021-03-03T00:00:00\", \"2021-03-04T00:00:00\", \"2021-03-05T00:00:00\", \"2021-03-08T00:00:00\", \"2021-03-09T00:00:00\", \"2021-03-10T00:00:00\", \"2021-03-11T00:00:00\", \"2021-03-12T00:00:00\", \"2021-03-15T00:00:00\", \"2021-03-16T00:00:00\", \"2021-03-17T00:00:00\", \"2021-03-18T00:00:00\", \"2021-03-19T00:00:00\", \"2021-03-22T00:00:00\", \"2021-03-23T00:00:00\", \"2021-03-24T00:00:00\", \"2021-03-25T00:00:00\", \"2021-03-26T00:00:00\", \"2021-03-29T00:00:00\", \"2021-03-30T00:00:00\", \"2021-03-31T00:00:00\", \"2021-04-01T00:00:00\", \"2021-04-05T00:00:00\", \"2021-04-06T00:00:00\", \"2021-04-07T00:00:00\", \"2021-04-08T00:00:00\", \"2021-04-09T00:00:00\", \"2021-04-12T00:00:00\", \"2021-04-13T00:00:00\", \"2021-04-14T00:00:00\", \"2021-04-15T00:00:00\", \"2021-04-16T00:00:00\", \"2021-04-19T00:00:00\", \"2021-04-20T00:00:00\", \"2021-04-21T00:00:00\", \"2021-04-22T00:00:00\", \"2021-04-23T00:00:00\", \"2021-04-26T00:00:00\", \"2021-04-27T00:00:00\", \"2021-04-28T00:00:00\", \"2021-04-29T00:00:00\", \"2021-04-30T00:00:00\", \"2021-05-03T00:00:00\", \"2021-05-04T00:00:00\", \"2021-05-05T00:00:00\", \"2021-05-06T00:00:00\", \"2021-05-07T00:00:00\", \"2021-05-10T00:00:00\", \"2021-05-11T00:00:00\", \"2021-05-12T00:00:00\"], \"y\": [0.0, 0.016539779619611752, 0.028069310211784004, 0.014161264060521948, -0.0052924700634836615, -0.04786509028900784, -0.15809088697950224, -0.28358908943169, -0.39775745082320413, -0.4890270725761391, -0.5209221506178752, -0.45437693687198716, -0.3228588290753743, -0.15900193284319541, 0.005923629633034805, 0.1867151436487064, 0.37756740243003273, 0.5225108096757973, 0.6531096611011948, 0.7531828894780382, 0.8171412416272984, 0.9502601420161094, 1.1164702337986514, 1.3063177137809905, 1.465607976002925, 1.6190233467994517, 1.8150723396790513, 2.0087978397422797, 2.2023956576418793, 2.455810093501605, 2.6988900904556523, 2.898309635605193, 3.0369232311300656, 3.071073014378, 3.0564027280168595, 2.934801028536893, 2.814565954076219, 2.7130462812963603, 2.573571425344718, 2.408890137906352, 2.2647909937280284, 2.1044954474911615, 1.9095050219130236, 1.709611620102419, 1.5800224382234698, 1.5746638595154283, 1.6788507127908214, 1.9036393021735327, 2.191713130183054, 2.481862293517361, 2.673404457806642, 2.705421977054489, 2.664277666515799, 2.5868796246256283, 2.4682211300631858, 2.379163244707116, 2.3011351814126564, 2.2312551742602316, 2.1507251784918178, 2.052964691622759, 1.9407091105998893, 1.8246519708080648, 1.673415890965335, 1.4668148892181687, 1.215001531230574, 0.9478295652970223, 0.6212375916160072, 0.27087703793173334, -0.08475513719215505, -0.49429877629372726, -0.9107370582595867, -1.203584934639993, -1.4434000359515164, -1.6828517409961226, -1.9364274714174359, -2.160603221787256, -2.430267887105837, -2.633432394667766, -2.7959427716129044, -2.8865443496684184, -2.935558797932392, -2.9021021250549963, -2.786928245664164, -2.6331223641358434, -2.524536845925414, -2.452833670057137, -2.3482627886343312, -2.2367589022804237, -2.160678909799767, -2.097901845574262, -2.0320971498292684, -1.960345892896091, -1.9078924967699193, -1.8300992720783182, -1.7227921930515695, -1.5524955831115237, -1.3431697025885811, -1.0903756502495827, -0.7819220187982998, -0.41092121309637714, -0.0472611656848308, 0.3436500966427013, 0.692140929051351, 1.0335379428248554, 1.3448212587940889, 1.6286771710765473, 1.8491957508548817, 2.0204525790574106, 2.1224040191889673, 2.2086414086407364, 2.2818458459908237, 2.3325869731744273, 2.348371033538136, 2.334472224879164, 2.265203419818113, 2.176899443723578, 2.001632744191716, 1.7804671694202903, 1.564189692617992, 1.3697570848873553, 1.1424799739302796, 0.8889297951822708, 0.5800806569817607]}],\n",
              "                        {\"template\": {\"data\": {\"bar\": [{\"error_x\": {\"color\": \"#2a3f5f\"}, \"error_y\": {\"color\": \"#2a3f5f\"}, \"marker\": {\"line\": {\"color\": \"#E5ECF6\", \"width\": 0.5}}, \"type\": \"bar\"}], \"barpolar\": [{\"marker\": {\"line\": {\"color\": \"#E5ECF6\", \"width\": 0.5}}, \"type\": \"barpolar\"}], \"carpet\": [{\"aaxis\": {\"endlinecolor\": \"#2a3f5f\", \"gridcolor\": \"white\", \"linecolor\": \"white\", \"minorgridcolor\": \"white\", \"startlinecolor\": \"#2a3f5f\"}, \"baxis\": {\"endlinecolor\": \"#2a3f5f\", \"gridcolor\": \"white\", \"linecolor\": \"white\", \"minorgridcolor\": \"white\", \"startlinecolor\": \"#2a3f5f\"}, \"type\": \"carpet\"}], \"choropleth\": [{\"colorbar\": {\"outlinewidth\": 0, \"ticks\": \"\"}, \"type\": \"choropleth\"}], \"contour\": [{\"colorbar\": {\"outlinewidth\": 0, \"ticks\": \"\"}, \"colorscale\": [[0.0, \"#0d0887\"], [0.1111111111111111, \"#46039f\"], [0.2222222222222222, \"#7201a8\"], [0.3333333333333333, \"#9c179e\"], [0.4444444444444444, \"#bd3786\"], [0.5555555555555556, \"#d8576b\"], [0.6666666666666666, \"#ed7953\"], [0.7777777777777778, \"#fb9f3a\"], [0.8888888888888888, \"#fdca26\"], [1.0, \"#f0f921\"]], \"type\": \"contour\"}], \"contourcarpet\": [{\"colorbar\": {\"outlinewidth\": 0, \"ticks\": \"\"}, \"type\": \"contourcarpet\"}], \"heatmap\": [{\"colorbar\": {\"outlinewidth\": 0, \"ticks\": \"\"}, \"colorscale\": [[0.0, \"#0d0887\"], [0.1111111111111111, \"#46039f\"], [0.2222222222222222, \"#7201a8\"], [0.3333333333333333, \"#9c179e\"], [0.4444444444444444, \"#bd3786\"], [0.5555555555555556, \"#d8576b\"], [0.6666666666666666, \"#ed7953\"], [0.7777777777777778, \"#fb9f3a\"], [0.8888888888888888, \"#fdca26\"], [1.0, \"#f0f921\"]], \"type\": \"heatmap\"}], \"heatmapgl\": [{\"colorbar\": {\"outlinewidth\": 0, \"ticks\": \"\"}, \"colorscale\": [[0.0, \"#0d0887\"], [0.1111111111111111, \"#46039f\"], [0.2222222222222222, \"#7201a8\"], [0.3333333333333333, \"#9c179e\"], [0.4444444444444444, \"#bd3786\"], [0.5555555555555556, \"#d8576b\"], [0.6666666666666666, \"#ed7953\"], [0.7777777777777778, \"#fb9f3a\"], [0.8888888888888888, \"#fdca26\"], [1.0, \"#f0f921\"]], \"type\": \"heatmapgl\"}], \"histogram\": [{\"marker\": {\"colorbar\": {\"outlinewidth\": 0, \"ticks\": \"\"}}, \"type\": \"histogram\"}], \"histogram2d\": [{\"colorbar\": {\"outlinewidth\": 0, \"ticks\": \"\"}, \"colorscale\": [[0.0, \"#0d0887\"], [0.1111111111111111, \"#46039f\"], [0.2222222222222222, \"#7201a8\"], [0.3333333333333333, \"#9c179e\"], [0.4444444444444444, \"#bd3786\"], [0.5555555555555556, \"#d8576b\"], [0.6666666666666666, \"#ed7953\"], [0.7777777777777778, \"#fb9f3a\"], [0.8888888888888888, \"#fdca26\"], [1.0, \"#f0f921\"]], \"type\": \"histogram2d\"}], \"histogram2dcontour\": [{\"colorbar\": {\"outlinewidth\": 0, \"ticks\": \"\"}, \"colorscale\": [[0.0, \"#0d0887\"], [0.1111111111111111, \"#46039f\"], [0.2222222222222222, \"#7201a8\"], [0.3333333333333333, \"#9c179e\"], [0.4444444444444444, \"#bd3786\"], [0.5555555555555556, \"#d8576b\"], [0.6666666666666666, \"#ed7953\"], [0.7777777777777778, \"#fb9f3a\"], [0.8888888888888888, \"#fdca26\"], [1.0, \"#f0f921\"]], \"type\": \"histogram2dcontour\"}], \"mesh3d\": [{\"colorbar\": {\"outlinewidth\": 0, \"ticks\": \"\"}, \"type\": \"mesh3d\"}], \"parcoords\": [{\"line\": {\"colorbar\": {\"outlinewidth\": 0, \"ticks\": \"\"}}, \"type\": \"parcoords\"}], \"pie\": [{\"automargin\": true, \"type\": \"pie\"}], \"scatter\": [{\"marker\": {\"colorbar\": {\"outlinewidth\": 0, \"ticks\": \"\"}}, \"type\": \"scatter\"}], \"scatter3d\": [{\"line\": {\"colorbar\": {\"outlinewidth\": 0, \"ticks\": \"\"}}, \"marker\": {\"colorbar\": {\"outlinewidth\": 0, \"ticks\": \"\"}}, \"type\": \"scatter3d\"}], \"scattercarpet\": [{\"marker\": {\"colorbar\": {\"outlinewidth\": 0, \"ticks\": \"\"}}, \"type\": \"scattercarpet\"}], \"scattergeo\": [{\"marker\": {\"colorbar\": {\"outlinewidth\": 0, \"ticks\": \"\"}}, \"type\": \"scattergeo\"}], \"scattergl\": [{\"marker\": {\"colorbar\": {\"outlinewidth\": 0, \"ticks\": \"\"}}, \"type\": \"scattergl\"}], \"scattermapbox\": [{\"marker\": {\"colorbar\": {\"outlinewidth\": 0, \"ticks\": \"\"}}, \"type\": \"scattermapbox\"}], \"scatterpolar\": [{\"marker\": {\"colorbar\": {\"outlinewidth\": 0, \"ticks\": \"\"}}, \"type\": \"scatterpolar\"}], \"scatterpolargl\": [{\"marker\": {\"colorbar\": {\"outlinewidth\": 0, \"ticks\": \"\"}}, \"type\": \"scatterpolargl\"}], \"scatterternary\": [{\"marker\": {\"colorbar\": {\"outlinewidth\": 0, \"ticks\": \"\"}}, \"type\": \"scatterternary\"}], \"surface\": [{\"colorbar\": {\"outlinewidth\": 0, \"ticks\": \"\"}, \"colorscale\": [[0.0, \"#0d0887\"], [0.1111111111111111, \"#46039f\"], [0.2222222222222222, \"#7201a8\"], [0.3333333333333333, \"#9c179e\"], [0.4444444444444444, \"#bd3786\"], [0.5555555555555556, \"#d8576b\"], [0.6666666666666666, \"#ed7953\"], [0.7777777777777778, \"#fb9f3a\"], [0.8888888888888888, \"#fdca26\"], [1.0, \"#f0f921\"]], \"type\": \"surface\"}], \"table\": [{\"cells\": {\"fill\": {\"color\": \"#EBF0F8\"}, \"line\": {\"color\": \"white\"}}, \"header\": {\"fill\": {\"color\": \"#C8D4E3\"}, \"line\": {\"color\": \"white\"}}, \"type\": \"table\"}]}, \"layout\": {\"annotationdefaults\": {\"arrowcolor\": \"#2a3f5f\", \"arrowhead\": 0, \"arrowwidth\": 1}, \"coloraxis\": {\"colorbar\": {\"outlinewidth\": 0, \"ticks\": \"\"}}, \"colorscale\": {\"diverging\": [[0, \"#8e0152\"], [0.1, \"#c51b7d\"], [0.2, \"#de77ae\"], [0.3, \"#f1b6da\"], [0.4, \"#fde0ef\"], [0.5, \"#f7f7f7\"], [0.6, \"#e6f5d0\"], [0.7, \"#b8e186\"], [0.8, \"#7fbc41\"], [0.9, \"#4d9221\"], [1, \"#276419\"]], \"sequential\": [[0.0, \"#0d0887\"], [0.1111111111111111, \"#46039f\"], [0.2222222222222222, \"#7201a8\"], [0.3333333333333333, \"#9c179e\"], [0.4444444444444444, \"#bd3786\"], [0.5555555555555556, \"#d8576b\"], [0.6666666666666666, \"#ed7953\"], [0.7777777777777778, \"#fb9f3a\"], [0.8888888888888888, \"#fdca26\"], [1.0, \"#f0f921\"]], \"sequentialminus\": [[0.0, \"#0d0887\"], [0.1111111111111111, \"#46039f\"], [0.2222222222222222, \"#7201a8\"], [0.3333333333333333, \"#9c179e\"], [0.4444444444444444, \"#bd3786\"], [0.5555555555555556, \"#d8576b\"], [0.6666666666666666, \"#ed7953\"], [0.7777777777777778, \"#fb9f3a\"], [0.8888888888888888, \"#fdca26\"], [1.0, \"#f0f921\"]]}, \"colorway\": [\"#636efa\", \"#EF553B\", \"#00cc96\", \"#ab63fa\", \"#FFA15A\", \"#19d3f3\", \"#FF6692\", \"#B6E880\", \"#FF97FF\", \"#FECB52\"], \"font\": {\"color\": \"#2a3f5f\"}, \"geo\": {\"bgcolor\": \"white\", \"lakecolor\": \"white\", \"landcolor\": \"#E5ECF6\", \"showlakes\": true, \"showland\": true, \"subunitcolor\": \"white\"}, \"hoverlabel\": {\"align\": \"left\"}, \"hovermode\": \"closest\", \"mapbox\": {\"style\": \"light\"}, \"paper_bgcolor\": \"white\", \"plot_bgcolor\": \"#E5ECF6\", \"polar\": {\"angularaxis\": {\"gridcolor\": \"white\", \"linecolor\": \"white\", \"ticks\": \"\"}, \"bgcolor\": \"#E5ECF6\", \"radialaxis\": {\"gridcolor\": \"white\", \"linecolor\": \"white\", \"ticks\": \"\"}}, \"scene\": {\"xaxis\": {\"backgroundcolor\": \"#E5ECF6\", \"gridcolor\": \"white\", \"gridwidth\": 2, \"linecolor\": \"white\", \"showbackground\": true, \"ticks\": \"\", \"zerolinecolor\": \"white\"}, \"yaxis\": {\"backgroundcolor\": \"#E5ECF6\", \"gridcolor\": \"white\", \"gridwidth\": 2, \"linecolor\": \"white\", \"showbackground\": true, \"ticks\": \"\", \"zerolinecolor\": \"white\"}, \"zaxis\": {\"backgroundcolor\": \"#E5ECF6\", \"gridcolor\": \"white\", \"gridwidth\": 2, \"linecolor\": \"white\", \"showbackground\": true, \"ticks\": \"\", \"zerolinecolor\": \"white\"}}, \"shapedefaults\": {\"line\": {\"color\": \"#2a3f5f\"}}, \"ternary\": {\"aaxis\": {\"gridcolor\": \"white\", \"linecolor\": \"white\", \"ticks\": \"\"}, \"baxis\": {\"gridcolor\": \"white\", \"linecolor\": \"white\", \"ticks\": \"\"}, \"bgcolor\": \"#E5ECF6\", \"caxis\": {\"gridcolor\": \"white\", \"linecolor\": \"white\", \"ticks\": \"\"}}, \"title\": {\"x\": 0.05}, \"xaxis\": {\"automargin\": true, \"gridcolor\": \"white\", \"linecolor\": \"white\", \"ticks\": \"\", \"title\": {\"standoff\": 15}, \"zerolinecolor\": \"white\", \"zerolinewidth\": 2}, \"yaxis\": {\"automargin\": true, \"gridcolor\": \"white\", \"linecolor\": \"white\", \"ticks\": \"\", \"title\": {\"standoff\": 15}, \"zerolinecolor\": \"white\", \"zerolinewidth\": 2}}}, \"title\": {\"text\": \"hahaha\"}},\n",
              "                        {\"responsive\": true}\n",
              "                    ).then(function(){\n",
              "                            \n",
              "var gd = document.getElementById('80c1f7e6-4662-408d-a1fb-ff4f7ea689ab');\n",
              "var x = new MutationObserver(function (mutations, observer) {{\n",
              "        var display = window.getComputedStyle(gd).display;\n",
              "        if (!display || display === 'none') {{\n",
              "            console.log([gd, 'removed!']);\n",
              "            Plotly.purge(gd);\n",
              "            observer.disconnect();\n",
              "        }}\n",
              "}});\n",
              "\n",
              "// Listen for the removal of the full notebook cells\n",
              "var notebookContainer = gd.closest('#notebook-container');\n",
              "if (notebookContainer) {{\n",
              "    x.observe(notebookContainer, {childList: true});\n",
              "}}\n",
              "\n",
              "// Listen for the clearing of the current output cell\n",
              "var outputEl = gd.closest('.output');\n",
              "if (outputEl) {{\n",
              "    x.observe(outputEl, {childList: true});\n",
              "}}\n",
              "\n",
              "                        })\n",
              "                };\n",
              "                \n",
              "            </script>\n",
              "        </div>\n",
              "</body>\n",
              "</html>"
            ]
          },
          "metadata": {
            "tags": []
          }
        }
      ]
    },
    {
      "cell_type": "code",
      "metadata": {
        "id": "1mgii8uI7r9P"
      },
      "source": [
        "# \n",
        "newX = pd.DataFrame()\n",
        "newX['diff'] = macd_diff\n",
        "newX['shift'] = macd_diff.shift(-1)\n",
        "newX['buy/sell'] = 0\n",
        "# newX\n",
        "# newX['buy/sell'] = newX.apply(lambda x : 1 if (x['diff'] > 0 and x['shift'] < 0) else -1 )\n",
        "newX['buy/sell'] = newX.apply(lambda ro : set_val(ro), axis=1)"
      ],
      "execution_count": null,
      "outputs": []
    },
    {
      "cell_type": "code",
      "metadata": {
        "colab": {
          "base_uri": "https://localhost:8080/"
        },
        "id": "uO7B1Wvc87NU",
        "outputId": "5bb24f31-145f-4849-e38e-6500bc027d29"
      },
      "source": [
        "buy = newX[newX['buy/sell'] == 1].shape[0]\n",
        "sell = newX[newX['buy/sell'] == -1].shape[0]\n",
        "sell"
      ],
      "execution_count": null,
      "outputs": [
        {
          "output_type": "execute_result",
          "data": {
            "text/plain": [
              "3"
            ]
          },
          "metadata": {
            "tags": []
          },
          "execution_count": 60
        }
      ]
    },
    {
      "cell_type": "code",
      "metadata": {
        "id": "8zgnGtBH5e5S"
      },
      "source": [
        "# buy = 1 sell -1\n",
        "def set_val(ro):\n",
        "  if ro['diff'] > 0 and ro['shift'] < 0:\n",
        "    return 1\n",
        "  if ro['diff'] < 0 and ro['shift'] > 0:\n",
        "    return -1\n",
        "  return 0\n"
      ],
      "execution_count": null,
      "outputs": []
    },
    {
      "cell_type": "code",
      "metadata": {
        "colab": {
          "base_uri": "https://localhost:8080/"
        },
        "id": "GfaxGCtc6qa6",
        "outputId": "823d312b-0bdf-4fb2-b90c-fd053c004069"
      },
      "source": [
        "newX['buy/sell'].unique()"
      ],
      "execution_count": null,
      "outputs": [
        {
          "output_type": "execute_result",
          "data": {
            "text/plain": [
              "array([ 0,  1, -1])"
            ]
          },
          "metadata": {
            "tags": []
          },
          "execution_count": 59
        }
      ]
    },
    {
      "cell_type": "code",
      "metadata": {
        "colab": {
          "base_uri": "https://localhost:8080/",
          "height": 450
        },
        "id": "QKLp6Mke7-oA",
        "outputId": "58a57820-b14b-4605-836b-72fefce0b51c"
      },
      "source": [
        "newX[newX['buy/sell'] == 0]"
      ],
      "execution_count": null,
      "outputs": [
        {
          "output_type": "execute_result",
          "data": {
            "text/html": [
              "<div>\n",
              "<style scoped>\n",
              "    .dataframe tbody tr th:only-of-type {\n",
              "        vertical-align: middle;\n",
              "    }\n",
              "\n",
              "    .dataframe tbody tr th {\n",
              "        vertical-align: top;\n",
              "    }\n",
              "\n",
              "    .dataframe thead th {\n",
              "        text-align: right;\n",
              "    }\n",
              "</style>\n",
              "<table border=\"1\" class=\"dataframe\">\n",
              "  <thead>\n",
              "    <tr style=\"text-align: right;\">\n",
              "      <th></th>\n",
              "      <th>diff</th>\n",
              "      <th>shift</th>\n",
              "      <th>buy/sell</th>\n",
              "    </tr>\n",
              "    <tr>\n",
              "      <th>Date</th>\n",
              "      <th></th>\n",
              "      <th></th>\n",
              "      <th></th>\n",
              "    </tr>\n",
              "  </thead>\n",
              "  <tbody>\n",
              "    <tr>\n",
              "      <th>2020-11-13</th>\n",
              "      <td>0.000000</td>\n",
              "      <td>0.066159</td>\n",
              "      <td>0</td>\n",
              "    </tr>\n",
              "    <tr>\n",
              "      <th>2020-11-16</th>\n",
              "      <td>0.066159</td>\n",
              "      <td>0.046118</td>\n",
              "      <td>0</td>\n",
              "    </tr>\n",
              "    <tr>\n",
              "      <th>2020-11-18</th>\n",
              "      <td>-0.055632</td>\n",
              "      <td>-0.077815</td>\n",
              "      <td>0</td>\n",
              "    </tr>\n",
              "    <tr>\n",
              "      <th>2020-11-19</th>\n",
              "      <td>-0.077815</td>\n",
              "      <td>-0.170290</td>\n",
              "      <td>0</td>\n",
              "    </tr>\n",
              "    <tr>\n",
              "      <th>2020-11-20</th>\n",
              "      <td>-0.170290</td>\n",
              "      <td>-0.440903</td>\n",
              "      <td>0</td>\n",
              "    </tr>\n",
              "    <tr>\n",
              "      <th>...</th>\n",
              "      <td>...</td>\n",
              "      <td>...</td>\n",
              "      <td>...</td>\n",
              "    </tr>\n",
              "    <tr>\n",
              "      <th>2021-05-06</th>\n",
              "      <td>-0.865110</td>\n",
              "      <td>-0.777730</td>\n",
              "      <td>0</td>\n",
              "    </tr>\n",
              "    <tr>\n",
              "      <th>2021-05-07</th>\n",
              "      <td>-0.777730</td>\n",
              "      <td>-0.909108</td>\n",
              "      <td>0</td>\n",
              "    </tr>\n",
              "    <tr>\n",
              "      <th>2021-05-10</th>\n",
              "      <td>-0.909108</td>\n",
              "      <td>-1.014201</td>\n",
              "      <td>0</td>\n",
              "    </tr>\n",
              "    <tr>\n",
              "      <th>2021-05-11</th>\n",
              "      <td>-1.014201</td>\n",
              "      <td>-1.235397</td>\n",
              "      <td>0</td>\n",
              "    </tr>\n",
              "    <tr>\n",
              "      <th>2021-05-12</th>\n",
              "      <td>-1.235397</td>\n",
              "      <td>NaN</td>\n",
              "      <td>0</td>\n",
              "    </tr>\n",
              "  </tbody>\n",
              "</table>\n",
              "<p>116 rows × 3 columns</p>\n",
              "</div>"
            ],
            "text/plain": [
              "                diff     shift  buy/sell\n",
              "Date                                    \n",
              "2020-11-13  0.000000  0.066159         0\n",
              "2020-11-16  0.066159  0.046118         0\n",
              "2020-11-18 -0.055632 -0.077815         0\n",
              "2020-11-19 -0.077815 -0.170290         0\n",
              "2020-11-20 -0.170290 -0.440903         0\n",
              "...              ...       ...       ...\n",
              "2021-05-06 -0.865110 -0.777730         0\n",
              "2021-05-07 -0.777730 -0.909108         0\n",
              "2021-05-10 -0.909108 -1.014201         0\n",
              "2021-05-11 -1.014201 -1.235397         0\n",
              "2021-05-12 -1.235397       NaN         0\n",
              "\n",
              "[116 rows x 3 columns]"
            ]
          },
          "metadata": {
            "tags": []
          },
          "execution_count": 64
        }
      ]
    },
    {
      "cell_type": "code",
      "metadata": {
        "colab": {
          "base_uri": "https://localhost:8080/"
        },
        "id": "DCDxRapwOBJo",
        "outputId": "630ed34e-ae15-4070-f797-69b6e4d3ed55"
      },
      "source": [
        "# Recomondation part\n",
        "def set_val(ro):\n",
        "  if ro['diff'] > 0 and ro['shift'] < 0:\n",
        "    return 1\n",
        "  if ro['diff'] < 0 and ro['shift'] > 0:\n",
        "    return -1\n",
        "  return 0\n",
        "\n",
        "\n",
        "\n",
        "st_name = 'AAPL'\n",
        "rsi = RSI_calc(st_name)\n",
        "# get MACD_diff\n",
        "if (rsi <= 30 or rsi >= 70):\n",
        "  if (rsi <= 30):\n",
        "    print('Oversold')\n",
        "  elif (rsi <= 35):\n",
        "    print('Buy')\n",
        "  elif (rsi >= 70):\n",
        "    print('Overbought')\n",
        "  elif (rsi >= 65):\n",
        "    Preint('sell')\n",
        "\n",
        "else:\n",
        "\n",
        "  newX = pd.DataFrame()\n",
        "  newX['diff'] = macd_diff\n",
        "  newX['shift'] = macd_diff.shift(-1)\n",
        "  newX['buy/sell'] = 0\n",
        "  # newX\n",
        "  # newX['buy/sell'] = newX.apply(lambda x : 1 if (x['diff'] > 0 and x['shift'] < 0) else -1 )\n",
        "  newX['buy/sell'] = newX.apply(lambda ro : set_val(ro), axis=1)\n",
        "\n",
        "  buy = newX[newX['buy/sell'] == 1].shape[0]\n",
        "  sell = newX[newX['buy/sell'] == -1].shape[0]\n",
        "\n",
        "  if (buy > sell):\n",
        "    print('buy')\n",
        "  else:\n",
        "    print('sell')\n"
      ],
      "execution_count": null,
      "outputs": [
        {
          "output_type": "stream",
          "text": [
            "buy\n"
          ],
          "name": "stdout"
        }
      ]
    },
    {
      "cell_type": "code",
      "metadata": {
        "colab": {
          "base_uri": "https://localhost:8080/"
        },
        "id": "xbh_yrG04uxt",
        "outputId": "523e059f-cd61-4893-87d3-9e10a715412c"
      },
      "source": [
        "macd_diff"
      ],
      "execution_count": null,
      "outputs": [
        {
          "output_type": "execute_result",
          "data": {
            "text/plain": [
              "Date\n",
              "2020-11-12    0.000000\n",
              "2020-11-13    0.003181\n",
              "2020-11-16    0.071160\n",
              "2020-11-17    0.051978\n",
              "2020-11-18   -0.049572\n",
              "                ...   \n",
              "2021-05-06   -0.865112\n",
              "2021-05-07   -0.777733\n",
              "2021-05-10   -0.909111\n",
              "2021-05-11   -1.014203\n",
              "2021-05-12   -1.243694\n",
              "Name: Close, Length: 124, dtype: float64"
            ]
          },
          "metadata": {
            "tags": []
          },
          "execution_count": 34
        }
      ]
    },
    {
      "cell_type": "code",
      "metadata": {
        "colab": {
          "base_uri": "https://localhost:8080/"
        },
        "id": "WIHHJiGW3DhH",
        "outputId": "86e3fda3-bd20-40f1-9eda-9409a06f0e3b"
      },
      "source": [
        "# buy = 0\n",
        "# sell = 0\n",
        "\n",
        "# for curr in range(len(macd_diff)-1):\n",
        "#   for next in range(i+1,):\n",
        "#     if(macd_diff[next] == 0):\n",
        "#       buy = buy\n",
        "#       sell = sell\n",
        "#     elif(macd_diff[curr] > 0 and macd_diff[next] > 0):\n",
        "#       buy = buy\n",
        "#       sell = sell\n",
        "#     elif(macd_diff[curr] < 0 and macd_diff[next] < 0):\n",
        "#       buy = buy\n",
        "#       sell = sell\n",
        "#     elif(macd_diff[curr] < 0 and macd_diff[next] > 0):\n",
        "#       sell = sell + 1\n",
        "#     elif(macd_diff[curr] > 0 and macd_diff[next] < 0):\n",
        "#       buy = buy + 1\n",
        "\n",
        "# print(buy)\n",
        "# print(sell)"
      ],
      "execution_count": null,
      "outputs": [
        {
          "output_type": "stream",
          "text": [
            "64\n",
            "0\n"
          ],
          "name": "stdout"
        }
      ]
    },
    {
      "cell_type": "code",
      "metadata": {
        "id": "8Q1iiA9F6aZI"
      },
      "source": [
        "macd_diff['XX'] = macd_diff.shift()"
      ],
      "execution_count": null,
      "outputs": []
    },
    {
      "cell_type": "code",
      "metadata": {
        "colab": {
          "base_uri": "https://localhost:8080/"
        },
        "id": "u3KZ8FvU7cB2",
        "outputId": "666818ad-e23a-4fd3-9490-38b4b89cda3f"
      },
      "source": [
        "macd_diff.head(20)"
      ],
      "execution_count": null,
      "outputs": [
        {
          "output_type": "execute_result",
          "data": {
            "text/plain": [
              "Date\n",
              "2020-11-12 00:00:00             0\n",
              "2020-11-13 00:00:00    0.00318085\n",
              "2020-11-16 00:00:00     0.0711597\n",
              "2020-11-17 00:00:00     0.0519784\n",
              "2020-11-18 00:00:00    -0.0495722\n",
              "2020-11-19 00:00:00    -0.0719933\n",
              "2020-11-20 00:00:00     -0.164982\n",
              "2020-11-23 00:00:00     -0.436267\n",
              "2020-11-24 00:00:00     -0.498102\n",
              "2020-11-25 00:00:00     -0.453544\n",
              "2020-11-27 00:00:00     -0.362689\n",
              "2020-11-30 00:00:00     -0.125882\n",
              "2020-12-01 00:00:00      0.267249\n",
              "2020-12-02 00:00:00       0.52658\n",
              "2020-12-03 00:00:00      0.655447\n",
              "2020-12-04 00:00:00      0.659304\n",
              "2020-12-07 00:00:00      0.722417\n",
              "2020-12-08 00:00:00      0.762371\n",
              "2020-12-09 00:00:00      0.578504\n",
              "2020-12-10 00:00:00      0.520943\n",
              "Name: Close, dtype: object"
            ]
          },
          "metadata": {
            "tags": []
          },
          "execution_count": 43
        }
      ]
    },
    {
      "cell_type": "code",
      "metadata": {
        "id": "nr9DDIkpNkSu",
        "colab": {
          "base_uri": "https://localhost:8080/"
        },
        "outputId": "e2419f28-002c-4f04-c697-93c4eb296e16"
      },
      "source": [
        "  for i in range(len(macd_diff)-1):\n",
        "    for j in range(i+1,len(macd_diff)):\n",
        "      print(macd_diff)\n",
        "      print(macd_diff[j])\n",
        "      break"
      ],
      "execution_count": null,
      "outputs": [
        {
          "output_type": "stream",
          "text": [
            "0.0\n",
            "0.003180853254093563\n",
            "0.003180853254093563\n",
            "0.0711596735371586\n",
            "0.0711596735371586\n",
            "0.05197844682137884\n",
            "0.05197844682137884\n",
            "-0.04957218519357502\n",
            "-0.04957218519357502\n",
            "-0.07199327578535376\n",
            "-0.07199327578535376\n",
            "-0.16498247200216348\n",
            "-0.16498247200216348\n",
            "-0.4362665621456455\n",
            "-0.4362665621456455\n",
            "-0.4981018058660866\n",
            "-0.4981018058660866\n",
            "-0.45354437394540925\n",
            "-0.45354437394540925\n",
            "-0.3626887615741029\n",
            "-0.3626887615741029\n",
            "-0.1258824652769911\n",
            "-0.1258824652769911\n",
            "0.2672489748003016\n",
            "0.2672489748003016\n",
            "0.526580356142715\n",
            "0.526580356142715\n",
            "0.6554471051449231\n",
            "0.6554471051449231\n",
            "0.6593039205307779\n",
            "0.6593039205307779\n",
            "0.7224169119383443\n",
            "0.7224169119383443\n",
            "0.7623711901297767\n",
            "0.7623711901297767\n",
            "0.5785035145277732\n",
            "0.5785035145277732\n",
            "0.5209434626986126\n",
            "0.5209434626986126\n",
            "0.39870359836792324\n",
            "0.39870359836792324\n",
            "0.2541454093834714\n",
            "0.2541454093834714\n",
            "0.530722187669439\n",
            "0.530722187669439\n",
            "0.6630498167188186\n",
            "0.6630498167188186\n",
            "0.7575859849715534\n",
            "0.7575859849715534\n",
            "0.6353634298365687\n",
            "0.6353634298365687\n",
            "0.6118862939510752\n",
            "0.6118862939510752\n",
            "0.7824561821931195\n",
            "0.7824561821931195\n",
            "0.7732078498508401\n",
            "0.7732078498508401\n",
            "0.7727506465784746\n",
            "0.7727506465784746\n",
            "1.012076520308109\n",
            "1.012076520308109\n",
            "0.970802339837447\n",
            "0.970802339837447\n",
            "0.7962268498040421\n",
            "0.7962268498040421\n",
            "0.553070918562911\n",
            "0.553070918562911\n",
            "0.13528410374782585\n",
            "0.13528410374782585\n",
            "-0.0599279752102202\n",
            "-0.0599279752102202\n",
            "-0.4875863087364838\n",
            "-0.4875863087364838\n",
            "-0.4820538822357334\n",
            "-0.4820538822357334\n",
            "-0.4071281397848461\n",
            "-0.4071281397848461\n",
            "-0.5588868293129172\n",
            "-0.5588868293129172\n",
            "-0.6596528255902223\n",
            "-0.6596528255902223\n",
            "-0.5772669896979732\n",
            "-0.5772669896979732\n",
            "-0.6419978991995197\n",
            "-0.6419978991995197\n",
            "-0.7807253331925577\n",
            "-0.7807253331925577\n",
            "-0.8002877838349332\n",
            "-0.8002877838349332\n",
            "-0.5190240624025944\n",
            "-0.5190240624025944\n",
            "-0.02205738005732316\n",
            "-0.02205738005732316\n",
            "0.41616610483350436\n",
            "0.41616610483350436\n",
            "0.8986123672557569\n",
            "0.8986123672557569\n",
            "1.1517902852518933\n",
            "1.1517902852518933\n",
            "1.1601263276534053\n",
            "1.1601263276534053\n",
            "0.7657308674338226\n",
            "0.7657308674338226\n",
            "0.12766275838222763\n",
            "0.12766275838222763\n",
            "-0.164956052840195\n",
            "-0.164956052840195\n",
            "-0.30994433185838854\n",
            "-0.30994433185838854\n",
            "-0.47496125712843806\n",
            "-0.47496125712843806\n",
            "-0.3565355972250104\n",
            "-0.3565355972250104\n",
            "-0.31239465221125773\n",
            "-0.31239465221125773\n",
            "-0.27978224424796627\n",
            "-0.27978224424796627\n",
            "-0.32236339920234336\n",
            "-0.32236339920234336\n",
            "-0.39126786219478493\n",
            "-0.39126786219478493\n",
            "-0.44923195357098744\n",
            "-0.44923195357098744\n",
            "-0.4644230415913744\n",
            "-0.4644230415913744\n",
            "-0.6051247188998792\n",
            "-0.6051247188998792\n",
            "-0.8265713176992044\n",
            "-0.8265713176992044\n",
            "-1.0074085817130705\n",
            "-1.0074085817130705\n",
            "-1.0688317179995963\n",
            "-1.0688317179995963\n",
            "-1.3065012601954629\n",
            "-1.3065012601954629\n",
            "-1.4015658429135573\n",
            "-1.4015658429135573\n",
            "-1.4226432910735882\n",
            "-1.4226432910735882\n",
            "-1.6382807605328173\n",
            "-1.6382807605328173\n",
            "-1.6658515512357739\n",
            "-1.6658515512357739\n",
            "-1.1714827113322475\n",
            "-1.1714827113322475\n",
            "-0.9593449169732153\n",
            "-0.9593449169732153\n",
            "-0.9578851242236\n",
            "-0.9578851242236\n",
            "-1.014375469861743\n",
            "-1.014375469861743\n",
            "-0.8967702133550883\n",
            "-0.8967702133550883\n",
            "-1.0787209263747783\n",
            "-1.0787209263747783\n",
            "-0.8127157101231264\n",
            "-0.8127157101231264\n",
            "-0.6500949379446164\n",
            "-0.6500949379446164\n",
            "-0.3624558039669754\n",
            "-0.3624558039669754\n",
            "-0.1961036351503549\n",
            "-0.1961036351503549\n",
            "0.1337842312336388\n",
            "0.1337842312336388\n",
            "0.46065619072910957\n",
            "0.46065619072910957\n",
            "0.6151871024166429\n",
            "0.6151871024166429\n",
            "0.4343083387621518\n",
            "0.4343083387621518\n",
            "0.28678146107274793\n",
            "0.28678146107274793\n",
            "0.41825459149624633\n",
            "0.41825459149624633\n",
            "0.44598874937515465\n",
            "0.44598874937515465\n",
            "0.30429515444004185\n",
            "0.30429515444004185\n",
            "0.2510852759342135\n",
            "0.2510852759342135\n",
            "0.263197501199941\n",
            "0.263197501199941\n",
            "0.28698531975134167\n",
            "0.28698531975134167\n",
            "0.209795334147876\n",
            "0.209795334147876\n",
            "0.3111559984036538\n",
            "0.3111559984036538\n",
            "0.42921266602799446\n",
            "0.42921266602799446\n",
            "0.6811719475961933\n",
            "0.6811719475961933\n",
            "0.8372901022786285\n",
            "0.8372901022786285\n",
            "1.01116378263581\n",
            "1.01116378263581\n",
            "1.2338030187640283\n",
            "1.2338030187640283\n",
            "1.4839925674470407\n",
            "1.4839925674470407\n",
            "1.4546303229849922\n",
            "1.4546303229849922\n",
            "1.5636359130163178\n",
            "1.5636359130163178\n",
            "1.393954869683129\n",
            "1.393954869683129\n",
            "1.3655802214500348\n",
            "1.3655802214500348\n",
            "1.245126010201946\n",
            "1.245126010201946\n",
            "1.1354169325094083\n",
            "1.1354169325094083\n",
            "0.8820680998047865\n",
            "0.8820680998047865\n",
            "0.6850215540086446\n",
            "0.6850215540086446\n",
            "0.4078004281482226\n",
            "0.4078004281482226\n",
            "0.34494462028940376\n",
            "0.34494462028940376\n",
            "0.2928131775141365\n",
            "0.2928131775141365\n",
            "0.20296027541284234\n",
            "0.20296027541284234\n",
            "0.06313232163345806\n",
            "0.06313232163345806\n",
            "-0.055598864167145656\n",
            "-0.055598864167145656\n",
            "-0.2770785809780203\n",
            "-0.2770785809780203\n",
            "-0.35321901621669527\n",
            "-0.35321901621669527\n",
            "-0.7010696795000602\n",
            "-0.7010696795000602\n",
            "-0.8846649670576499\n",
            "-0.8846649670576499\n",
            "-0.8651123775826515\n",
            "-0.8651123775826515\n",
            "-0.7777327183300062\n",
            "-0.7777327183300062\n",
            "-0.9091105618190047\n",
            "-0.9091105618190047\n",
            "-1.0142026761121534\n",
            "-1.0142026761121534\n",
            "-1.2436944896847575\n"
          ],
          "name": "stdout"
        }
      ]
    },
    {
      "cell_type": "code",
      "metadata": {
        "colab": {
          "base_uri": "https://localhost:8080/",
          "height": 228
        },
        "id": "xcd9mVFq-CxZ",
        "outputId": "17880b2e-1bb6-41ce-f0a5-01efc0960329"
      },
      "source": [
        "fig1 = plt.plot(df1.index,macd, label = 'MCAD',color = '#EBD2BE')\n",
        "fig2 = plt.plot(df1.index,exp3, label = 'Signal',color='#E5A4CB')\n",
        "plt.legend(loc = 'upper left')\n",
        "# plt.rcParams[\"figure.figsize\"] = (20,3)\n",
        "fig1\n",
        "fig2"
      ],
      "execution_count": null,
      "outputs": [
        {
          "output_type": "execute_result",
          "data": {
            "text/plain": [
              "[<matplotlib.lines.Line2D at 0x7fb47ad42550>]"
            ]
          },
          "metadata": {
            "tags": []
          },
          "execution_count": 27
        },
        {
          "output_type": "display_data",
          "data": {
            "image/png": "[encoded data removed]",
            "text/plain": [
              "<Figure size 1440x216 with 1 Axes>"
            ]
          },
          "metadata": {
            "tags": [],
            "needs_background": "light"
          }
        }
      ]
    },
    {
      "cell_type": "code",
      "metadata": {
        "id": "y-q4ohPLFhRj"
      },
      "source": [
        ""
      ],
      "execution_count": null,
      "outputs": []
    },
    {
      "cell_type": "code",
      "metadata": {
        "id": "6CPQIglFRD7i"
      },
      "source": [
        ""
      ],
      "execution_count": null,
      "outputs": []
    },
    {
      "cell_type": "code",
      "metadata": {
        "id": "NaBcySfXdLZ3",
        "colab": {
          "base_uri": "https://localhost:8080/",
          "height": 542
        },
        "outputId": "86fa2b19-0357-4392-845f-895141b0edbf"
      },
      "source": [
        "trace0 = go.Scatter(\n",
        "   x = macd.index,\n",
        "   y = macd,\n",
        "   mode = 'lines',\n",
        "   name = 'MACD Line' \n",
        ")\n",
        "\n",
        "trace1 = go.Scatter(\n",
        "   x = exp3.index,\n",
        "   y = exp3,\n",
        "   mode = 'lines',\n",
        "   name = 'MACD Signal Line'\n",
        ")\n",
        "\n",
        "data  = [trace0, trace1]\n",
        "layout = go.Layout(title='hahaha')\n",
        "\n",
        "fig = go.Figure(data=data, layout=layout)\n",
        "\n",
        "# pyo.plot(fig)\n",
        "fig"
      ],
      "execution_count": null,
      "outputs": [
        {
          "output_type": "display_data",
          "data": {
            "text/html": [
              "<html>\n",
              "<head><meta charset=\"utf-8\" /></head>\n",
              "<body>\n",
              "    <div>\n",
              "            <script src=\"https://cdnjs.cloudflare.com/ajax/libs/mathjax/2.7.5/MathJax.js?config=TeX-AMS-MML_SVG\"></script><script type=\"text/javascript\">if (window.MathJax) {MathJax.Hub.Config({SVG: {font: \"STIX-Web\"}});}</script>\n",
              "                <script type=\"text/javascript\">window.PlotlyConfig = {MathJaxConfig: 'local'};</script>\n",
              "        <script src=\"https://cdn.plot.ly/plotly-latest.min.js\"></script>    \n",
              "            <div id=\"e7bb2302-ae66-4514-9dcf-35dcf5908e9f\" class=\"plotly-graph-div\" style=\"height:525px; width:100%;\"></div>\n",
              "            <script type=\"text/javascript\">\n",
              "                \n",
              "                    window.PLOTLYENV=window.PLOTLYENV || {};\n",
              "                    \n",
              "                if (document.getElementById(\"e7bb2302-ae66-4514-9dcf-35dcf5908e9f\")) {\n",
              "                    Plotly.newPlot(\n",
              "                        'e7bb2302-ae66-4514-9dcf-35dcf5908e9f',\n",
              "                        [{\"mode\": \"lines\", \"name\": \"MACD Line\", \"type\": \"scatter\", \"x\": [\"2020-11-12T00:00:00\", \"2020-11-13T00:00:00\", \"2020-11-16T00:00:00\", \"2020-11-17T00:00:00\", \"2020-11-18T00:00:00\", \"2020-11-19T00:00:00\", \"2020-11-20T00:00:00\", \"2020-11-23T00:00:00\", \"2020-11-24T00:00:00\", \"2020-11-25T00:00:00\", \"2020-11-27T00:00:00\", \"2020-11-30T00:00:00\", \"2020-12-01T00:00:00\", \"2020-12-02T00:00:00\", \"2020-12-03T00:00:00\", \"2020-12-04T00:00:00\", \"2020-12-07T00:00:00\", \"2020-12-08T00:00:00\", \"2020-12-09T00:00:00\", \"2020-12-10T00:00:00\", \"2020-12-11T00:00:00\", \"2020-12-14T00:00:00\", \"2020-12-15T00:00:00\", \"2020-12-16T00:00:00\", \"2020-12-17T00:00:00\", \"2020-12-18T00:00:00\", \"2020-12-21T00:00:00\", \"2020-12-22T00:00:00\", \"2020-12-23T00:00:00\", \"2020-12-24T00:00:00\", \"2020-12-28T00:00:00\", \"2020-12-29T00:00:00\", \"2020-12-30T00:00:00\", \"2020-12-31T00:00:00\", \"2021-01-04T00:00:00\", \"2021-01-05T00:00:00\", \"2021-01-06T00:00:00\", \"2021-01-07T00:00:00\", \"2021-01-08T00:00:00\", \"2021-01-11T00:00:00\", \"2021-01-12T00:00:00\", \"2021-01-13T00:00:00\", \"2021-01-14T00:00:00\", \"2021-01-15T00:00:00\", \"2021-01-19T00:00:00\", \"2021-01-20T00:00:00\", \"2021-01-21T00:00:00\", \"2021-01-22T00:00:00\", \"2021-01-25T00:00:00\", \"2021-01-26T00:00:00\", \"2021-01-27T00:00:00\", \"2021-01-28T00:00:00\", \"2021-01-29T00:00:00\", \"2021-02-01T00:00:00\", \"2021-02-02T00:00:00\", \"2021-02-03T00:00:00\", \"2021-02-04T00:00:00\", \"2021-02-05T00:00:00\", \"2021-02-08T00:00:00\", \"2021-02-09T00:00:00\", \"2021-02-10T00:00:00\", \"2021-02-11T00:00:00\", \"2021-02-12T00:00:00\", \"2021-02-16T00:00:00\", \"2021-02-17T00:00:00\", \"2021-02-18T00:00:00\", \"2021-02-19T00:00:00\", \"2021-02-22T00:00:00\", \"2021-02-23T00:00:00\", \"2021-02-24T00:00:00\", \"2021-02-25T00:00:00\", \"2021-02-26T00:00:00\", \"2021-03-01T00:00:00\", \"2021-03-02T00:00:00\", \"2021-03-03T00:00:00\", \"2021-03-04T00:00:00\", \"2021-03-05T00:00:00\", \"2021-03-08T00:00:00\", \"2021-03-09T00:00:00\", \"2021-03-10T00:00:00\", \"2021-03-11T00:00:00\", \"2021-03-12T00:00:00\", \"2021-03-15T00:00:00\", \"2021-03-16T00:00:00\", \"2021-03-17T00:00:00\", \"2021-03-18T00:00:00\", \"2021-03-19T00:00:00\", \"2021-03-22T00:00:00\", \"2021-03-23T00:00:00\", \"2021-03-24T00:00:00\", \"2021-03-25T00:00:00\", \"2021-03-26T00:00:00\", \"2021-03-29T00:00:00\", \"2021-03-30T00:00:00\", \"2021-03-31T00:00:00\", \"2021-04-01T00:00:00\", \"2021-04-05T00:00:00\", \"2021-04-06T00:00:00\", \"2021-04-07T00:00:00\", \"2021-04-08T00:00:00\", \"2021-04-09T00:00:00\", \"2021-04-12T00:00:00\", \"2021-04-13T00:00:00\", \"2021-04-14T00:00:00\", \"2021-04-15T00:00:00\", \"2021-04-16T00:00:00\", \"2021-04-19T00:00:00\", \"2021-04-20T00:00:00\", \"2021-04-21T00:00:00\", \"2021-04-22T00:00:00\", \"2021-04-23T00:00:00\", \"2021-04-26T00:00:00\", \"2021-04-27T00:00:00\", \"2021-04-28T00:00:00\", \"2021-04-29T00:00:00\", \"2021-04-30T00:00:00\", \"2021-05-03T00:00:00\", \"2021-05-04T00:00:00\", \"2021-05-05T00:00:00\", \"2021-05-06T00:00:00\", \"2021-05-07T00:00:00\", \"2021-05-10T00:00:00\", \"2021-05-11T00:00:00\"], \"y\": [0.0, 0.003976066567616954, 0.08974480523497164, 0.08355819022453659, -0.03038548808881103, -0.07080489762692821, -0.20503971184427883, -0.5853904425241723, -0.771751137711135, -0.84057979927681, -0.8403963772990295, -0.6350606973211654, -0.17511701354379738, 0.21585945683429486, 0.5085879821227337, 0.677270777641283, 0.9209879970334356, 1.1515350727573122, 1.112293275787252, 1.1849690896327445, 1.1624051248940361, 1.0813832882554522, 1.4906406134587797, 1.788730696687864, 2.072663361183487, 2.1092816635076446, 2.23877610110992, 2.6049600349002446, 2.7890136650206756, 2.9817441233929287, 3.4740891271995906, 3.6755155316882906, 3.6999967541058965, 3.5951085525054935, 3.2111427636273646, 3.000948690866764, 2.45139378015638, 2.3364127360981968, 2.3095564436028724, 2.0180760467465717, 1.7523968440717113, 1.6904659325394675, 1.4652355482380415, 1.1313267809468641, 0.9116923843457556, 1.063200090177446, 1.5546524275083868, 2.0969174386075906, 2.8040167928437825, 3.345142282152892, 3.643509906467756, 3.440547163106629, 2.8343947436505914, 2.5005369192181206, 2.27806255723533, 1.994305317683171, 2.0235970782803463, 1.9896393602412843, 1.952306207142584, 1.8291342023876211, 1.6624127738464836, 1.4921406940775341, 1.3608438456593035, 1.0688609886258291, 0.6407715604017028, 0.2080821509595694, -0.12054891482685548, -0.6848437720715879, -1.1302998155180717, -1.5070380864464994, -2.132245746038933, -2.576279424550833, -2.3747812624803686, -2.4024796973646403, -2.640491185670925, -2.950575398774504, -3.057162695606621, -3.5087936402200057, -3.445967351499135, -3.445870313806779, -3.2488451308208823, -3.131518870791851, -2.7681849465994475, -2.3261489394216994, -2.0178212521300054, -2.0901229310939584, -2.165954443515176, -1.9299176652176158, -1.7906863199949186, -1.8563061263200211, -1.846744685842296, -1.768833085276583, -1.6732989367873472, -1.698040088853844, -1.5188904249971529, -1.2935305908658137, -0.8712783223985667, -0.5058376421464743, -0.07917301613034056, 0.4519169746888849, 1.0731046652336573, 1.407400001517857, 1.9073145698032619, 2.0861222438908555, 2.39914265102027, 2.589969942322668, 2.7641150977574824, 2.7312832900040576, 2.705492132710077, 2.530221113886711, 2.553601461100243, 2.57467331270351, 2.5355604794554267, 2.411515606084407, 2.2788847042420173, 1.988135342186638, 1.8236901528937892, 1.3005720697354093, 0.8958105404134074, 0.6990850354927431, 0.592031515162887, 0.2333760312191373, -0.12526675210204985]}, {\"mode\": \"lines\", \"name\": \"MACD Signal Line\", \"type\": \"scatter\", \"x\": [\"2020-11-12T00:00:00\", \"2020-11-13T00:00:00\", \"2020-11-16T00:00:00\", \"2020-11-17T00:00:00\", \"2020-11-18T00:00:00\", \"2020-11-19T00:00:00\", \"2020-11-20T00:00:00\", \"2020-11-23T00:00:00\", \"2020-11-24T00:00:00\", \"2020-11-25T00:00:00\", \"2020-11-27T00:00:00\", \"2020-11-30T00:00:00\", \"2020-12-01T00:00:00\", \"2020-12-02T00:00:00\", \"2020-12-03T00:00:00\", \"2020-12-04T00:00:00\", \"2020-12-07T00:00:00\", \"2020-12-08T00:00:00\", \"2020-12-09T00:00:00\", \"2020-12-10T00:00:00\", \"2020-12-11T00:00:00\", \"2020-12-14T00:00:00\", \"2020-12-15T00:00:00\", \"2020-12-16T00:00:00\", \"2020-12-17T00:00:00\", \"2020-12-18T00:00:00\", \"2020-12-21T00:00:00\", \"2020-12-22T00:00:00\", \"2020-12-23T00:00:00\", \"2020-12-24T00:00:00\", \"2020-12-28T00:00:00\", \"2020-12-29T00:00:00\", \"2020-12-30T00:00:00\", \"2020-12-31T00:00:00\", \"2021-01-04T00:00:00\", \"2021-01-05T00:00:00\", \"2021-01-06T00:00:00\", \"2021-01-07T00:00:00\", \"2021-01-08T00:00:00\", \"2021-01-11T00:00:00\", \"2021-01-12T00:00:00\", \"2021-01-13T00:00:00\", \"2021-01-14T00:00:00\", \"2021-01-15T00:00:00\", \"2021-01-19T00:00:00\", \"2021-01-20T00:00:00\", \"2021-01-21T00:00:00\", \"2021-01-22T00:00:00\", \"2021-01-25T00:00:00\", \"2021-01-26T00:00:00\", \"2021-01-27T00:00:00\", \"2021-01-28T00:00:00\", \"2021-01-29T00:00:00\", \"2021-02-01T00:00:00\", \"2021-02-02T00:00:00\", \"2021-02-03T00:00:00\", \"2021-02-04T00:00:00\", \"2021-02-05T00:00:00\", \"2021-02-08T00:00:00\", \"2021-02-09T00:00:00\", \"2021-02-10T00:00:00\", \"2021-02-11T00:00:00\", \"2021-02-12T00:00:00\", \"2021-02-16T00:00:00\", \"2021-02-17T00:00:00\", \"2021-02-18T00:00:00\", \"2021-02-19T00:00:00\", \"2021-02-22T00:00:00\", \"2021-02-23T00:00:00\", \"2021-02-24T00:00:00\", \"2021-02-25T00:00:00\", \"2021-02-26T00:00:00\", \"2021-03-01T00:00:00\", \"2021-03-02T00:00:00\", \"2021-03-03T00:00:00\", \"2021-03-04T00:00:00\", \"2021-03-05T00:00:00\", \"2021-03-08T00:00:00\", \"2021-03-09T00:00:00\", \"2021-03-10T00:00:00\", \"2021-03-11T00:00:00\", \"2021-03-12T00:00:00\", \"2021-03-15T00:00:00\", \"2021-03-16T00:00:00\", \"2021-03-17T00:00:00\", \"2021-03-18T00:00:00\", \"2021-03-19T00:00:00\", \"2021-03-22T00:00:00\", \"2021-03-23T00:00:00\", \"2021-03-24T00:00:00\", \"2021-03-25T00:00:00\", \"2021-03-26T00:00:00\", \"2021-03-29T00:00:00\", \"2021-03-30T00:00:00\", \"2021-03-31T00:00:00\", \"2021-04-01T00:00:00\", \"2021-04-05T00:00:00\", \"2021-04-06T00:00:00\", \"2021-04-07T00:00:00\", \"2021-04-08T00:00:00\", \"2021-04-09T00:00:00\", \"2021-04-12T00:00:00\", \"2021-04-13T00:00:00\", \"2021-04-14T00:00:00\", \"2021-04-15T00:00:00\", \"2021-04-16T00:00:00\", \"2021-04-19T00:00:00\", \"2021-04-20T00:00:00\", \"2021-04-21T00:00:00\", \"2021-04-22T00:00:00\", \"2021-04-23T00:00:00\", \"2021-04-26T00:00:00\", \"2021-04-27T00:00:00\", \"2021-04-28T00:00:00\", \"2021-04-29T00:00:00\", \"2021-04-30T00:00:00\", \"2021-05-03T00:00:00\", \"2021-05-04T00:00:00\", \"2021-05-05T00:00:00\", \"2021-05-06T00:00:00\", \"2021-05-07T00:00:00\", \"2021-05-10T00:00:00\", \"2021-05-11T00:00:00\"], \"y\": [0.0, 0.0007952133135233908, 0.01858513169781304, 0.03157974340315775, 0.019186697104763995, 0.0011883781584255543, -0.04005723984211533, -0.14912388037852672, -0.2736493318450484, -0.3870354253314008, -0.4777076157249266, -0.5091782320441743, -0.44236598834409896, -0.3107208993084202, -0.1468591230221894, 0.01796685711050508, 0.1985710850950912, 0.38916388262753543, 0.5337897612594787, 0.6640256269341319, 0.7637015265261129, 0.8272378788719807, 0.9599184257893407, 1.1256808799690454, 1.3150773762119337, 1.4739182336710759, 1.626889807158845, 1.8225038527071251, 2.0158058151698355, 2.208993476814454, 2.4620126068914816, 2.7047131918508436, 2.9037699043018543, 3.0420376339425825, 3.0758586598795388, 3.060876666076984, 2.9389800888928637, 2.81846661833393, 2.7166845833877185, 2.576962876059489, 2.4120496696619336, 2.2677329222374407, 2.107233447437561, 1.9120521141394218, 1.7119801681806888, 1.5822241525800405, 1.57670980756571, 1.6807513337740863, 1.9054044255880256, 2.193351996900999, 2.4833835788143506, 2.6748162956728065, 2.706731985268364, 2.6654929720583156, 2.5880068890937187, 2.469266574811609, 2.3801326755053567, 2.302034012452542, 2.2320884513905503, 2.1514976015899645, 2.0536806360412685, 1.9413726476485216, 1.8252668872506779, 1.6739857075257083, 1.4673428781009072, 1.2154907326726399, 0.9482828031727408, 0.6216574881238751, 0.2712660273954858, -0.08439479537291125, -0.4939649855061157, -0.9104278733150591, -1.2032985511481211, -1.443134780391425, -1.6826060614473248, -1.9361999289127607, -2.160392482251533, -2.4300727138452274, -2.6332516413760088, -2.7957753758621626, -2.886389326853907, -2.935415235641496, -2.9019691778330863, -2.786805130150809, -2.6330083545466483, -2.52443126985611, -2.452735904587924, -2.348172256713862, -2.236675069370073, -2.160601280760063, -2.0978299617765095, -2.032030586476524, -1.9602842565386889, -1.90783542300172, -1.8300464234008067, -1.7227432568938081, -1.55245026999476, -1.3431277444251029, -1.0903367987661505, -0.7818860440751434, -0.41088790221338334, -0.047230321467135294, 0.34367865678694415, 0.6921673742077264, 1.0335624295702353, 1.344843932120722, 1.628698165248074, 1.849215190199271, 2.0204705787014325, 2.122420685738488, 2.208656840810839, 2.2818601351893735, 2.3326002040425844, 2.348383284450949, 2.334483568409163, 2.265213923164658, 2.1769091691104845, 2.0016417492354694, 1.7804755074710572, 1.5641974130753946, 1.3697642334928932, 1.142486593038142, 0.8889359240101037]}],\n",
              "                        {\"template\": {\"data\": {\"bar\": [{\"error_x\": {\"color\": \"#2a3f5f\"}, \"error_y\": {\"color\": \"#2a3f5f\"}, \"marker\": {\"line\": {\"color\": \"#E5ECF6\", \"width\": 0.5}}, \"type\": \"bar\"}], \"barpolar\": [{\"marker\": {\"line\": {\"color\": \"#E5ECF6\", \"width\": 0.5}}, \"type\": \"barpolar\"}], \"carpet\": [{\"aaxis\": {\"endlinecolor\": \"#2a3f5f\", \"gridcolor\": \"white\", \"linecolor\": \"white\", \"minorgridcolor\": \"white\", \"startlinecolor\": \"#2a3f5f\"}, \"baxis\": {\"endlinecolor\": \"#2a3f5f\", \"gridcolor\": \"white\", \"linecolor\": \"white\", \"minorgridcolor\": \"white\", \"startlinecolor\": \"#2a3f5f\"}, \"type\": \"carpet\"}], \"choropleth\": [{\"colorbar\": {\"outlinewidth\": 0, \"ticks\": \"\"}, \"type\": \"choropleth\"}], \"contour\": [{\"colorbar\": {\"outlinewidth\": 0, \"ticks\": \"\"}, \"colorscale\": [[0.0, \"#0d0887\"], [0.1111111111111111, \"#46039f\"], [0.2222222222222222, \"#7201a8\"], [0.3333333333333333, \"#9c179e\"], [0.4444444444444444, \"#bd3786\"], [0.5555555555555556, \"#d8576b\"], [0.6666666666666666, \"#ed7953\"], [0.7777777777777778, \"#fb9f3a\"], [0.8888888888888888, \"#fdca26\"], [1.0, \"#f0f921\"]], \"type\": \"contour\"}], \"contourcarpet\": [{\"colorbar\": {\"outlinewidth\": 0, \"ticks\": \"\"}, \"type\": \"contourcarpet\"}], \"heatmap\": [{\"colorbar\": {\"outlinewidth\": 0, \"ticks\": \"\"}, \"colorscale\": [[0.0, \"#0d0887\"], [0.1111111111111111, \"#46039f\"], [0.2222222222222222, \"#7201a8\"], [0.3333333333333333, \"#9c179e\"], [0.4444444444444444, \"#bd3786\"], [0.5555555555555556, \"#d8576b\"], [0.6666666666666666, \"#ed7953\"], [0.7777777777777778, \"#fb9f3a\"], [0.8888888888888888, \"#fdca26\"], [1.0, \"#f0f921\"]], \"type\": \"heatmap\"}], \"heatmapgl\": [{\"colorbar\": {\"outlinewidth\": 0, \"ticks\": \"\"}, \"colorscale\": [[0.0, \"#0d0887\"], [0.1111111111111111, \"#46039f\"], [0.2222222222222222, \"#7201a8\"], [0.3333333333333333, \"#9c179e\"], [0.4444444444444444, \"#bd3786\"], [0.5555555555555556, \"#d8576b\"], [0.6666666666666666, \"#ed7953\"], [0.7777777777777778, \"#fb9f3a\"], [0.8888888888888888, \"#fdca26\"], [1.0, \"#f0f921\"]], \"type\": \"heatmapgl\"}], \"histogram\": [{\"marker\": {\"colorbar\": {\"outlinewidth\": 0, \"ticks\": \"\"}}, \"type\": \"histogram\"}], \"histogram2d\": [{\"colorbar\": {\"outlinewidth\": 0, \"ticks\": \"\"}, \"colorscale\": [[0.0, \"#0d0887\"], [0.1111111111111111, \"#46039f\"], [0.2222222222222222, \"#7201a8\"], [0.3333333333333333, \"#9c179e\"], [0.4444444444444444, \"#bd3786\"], [0.5555555555555556, \"#d8576b\"], [0.6666666666666666, \"#ed7953\"], [0.7777777777777778, \"#fb9f3a\"], [0.8888888888888888, \"#fdca26\"], [1.0, \"#f0f921\"]], \"type\": \"histogram2d\"}], \"histogram2dcontour\": [{\"colorbar\": {\"outlinewidth\": 0, \"ticks\": \"\"}, \"colorscale\": [[0.0, \"#0d0887\"], [0.1111111111111111, \"#46039f\"], [0.2222222222222222, \"#7201a8\"], [0.3333333333333333, \"#9c179e\"], [0.4444444444444444, \"#bd3786\"], [0.5555555555555556, \"#d8576b\"], [0.6666666666666666, \"#ed7953\"], [0.7777777777777778, \"#fb9f3a\"], [0.8888888888888888, \"#fdca26\"], [1.0, \"#f0f921\"]], \"type\": \"histogram2dcontour\"}], \"mesh3d\": [{\"colorbar\": {\"outlinewidth\": 0, \"ticks\": \"\"}, \"type\": \"mesh3d\"}], \"parcoords\": [{\"line\": {\"colorbar\": {\"outlinewidth\": 0, \"ticks\": \"\"}}, \"type\": \"parcoords\"}], \"pie\": [{\"automargin\": true, \"type\": \"pie\"}], \"scatter\": [{\"marker\": {\"colorbar\": {\"outlinewidth\": 0, \"ticks\": \"\"}}, \"type\": \"scatter\"}], \"scatter3d\": [{\"line\": {\"colorbar\": {\"outlinewidth\": 0, \"ticks\": \"\"}}, \"marker\": {\"colorbar\": {\"outlinewidth\": 0, \"ticks\": \"\"}}, \"type\": \"scatter3d\"}], \"scattercarpet\": [{\"marker\": {\"colorbar\": {\"outlinewidth\": 0, \"ticks\": \"\"}}, \"type\": \"scattercarpet\"}], \"scattergeo\": [{\"marker\": {\"colorbar\": {\"outlinewidth\": 0, \"ticks\": \"\"}}, \"type\": \"scattergeo\"}], \"scattergl\": [{\"marker\": {\"colorbar\": {\"outlinewidth\": 0, \"ticks\": \"\"}}, \"type\": \"scattergl\"}], \"scattermapbox\": [{\"marker\": {\"colorbar\": {\"outlinewidth\": 0, \"ticks\": \"\"}}, \"type\": \"scattermapbox\"}], \"scatterpolar\": [{\"marker\": {\"colorbar\": {\"outlinewidth\": 0, \"ticks\": \"\"}}, \"type\": \"scatterpolar\"}], \"scatterpolargl\": [{\"marker\": {\"colorbar\": {\"outlinewidth\": 0, \"ticks\": \"\"}}, \"type\": \"scatterpolargl\"}], \"scatterternary\": [{\"marker\": {\"colorbar\": {\"outlinewidth\": 0, \"ticks\": \"\"}}, \"type\": \"scatterternary\"}], \"surface\": [{\"colorbar\": {\"outlinewidth\": 0, \"ticks\": \"\"}, \"colorscale\": [[0.0, \"#0d0887\"], [0.1111111111111111, \"#46039f\"], [0.2222222222222222, \"#7201a8\"], [0.3333333333333333, \"#9c179e\"], [0.4444444444444444, \"#bd3786\"], [0.5555555555555556, \"#d8576b\"], [0.6666666666666666, \"#ed7953\"], [0.7777777777777778, \"#fb9f3a\"], [0.8888888888888888, \"#fdca26\"], [1.0, \"#f0f921\"]], \"type\": \"surface\"}], \"table\": [{\"cells\": {\"fill\": {\"color\": \"#EBF0F8\"}, \"line\": {\"color\": \"white\"}}, \"header\": {\"fill\": {\"color\": \"#C8D4E3\"}, \"line\": {\"color\": \"white\"}}, \"type\": \"table\"}]}, \"layout\": {\"annotationdefaults\": {\"arrowcolor\": \"#2a3f5f\", \"arrowhead\": 0, \"arrowwidth\": 1}, \"coloraxis\": {\"colorbar\": {\"outlinewidth\": 0, \"ticks\": \"\"}}, \"colorscale\": {\"diverging\": [[0, \"#8e0152\"], [0.1, \"#c51b7d\"], [0.2, \"#de77ae\"], [0.3, \"#f1b6da\"], [0.4, \"#fde0ef\"], [0.5, \"#f7f7f7\"], [0.6, \"#e6f5d0\"], [0.7, \"#b8e186\"], [0.8, \"#7fbc41\"], [0.9, \"#4d9221\"], [1, \"#276419\"]], \"sequential\": [[0.0, \"#0d0887\"], [0.1111111111111111, \"#46039f\"], [0.2222222222222222, \"#7201a8\"], [0.3333333333333333, \"#9c179e\"], [0.4444444444444444, \"#bd3786\"], [0.5555555555555556, \"#d8576b\"], [0.6666666666666666, \"#ed7953\"], [0.7777777777777778, \"#fb9f3a\"], [0.8888888888888888, \"#fdca26\"], [1.0, \"#f0f921\"]], \"sequentialminus\": [[0.0, \"#0d0887\"], [0.1111111111111111, \"#46039f\"], [0.2222222222222222, \"#7201a8\"], [0.3333333333333333, \"#9c179e\"], [0.4444444444444444, \"#bd3786\"], [0.5555555555555556, \"#d8576b\"], [0.6666666666666666, \"#ed7953\"], [0.7777777777777778, \"#fb9f3a\"], [0.8888888888888888, \"#fdca26\"], [1.0, \"#f0f921\"]]}, \"colorway\": [\"#636efa\", \"#EF553B\", \"#00cc96\", \"#ab63fa\", \"#FFA15A\", \"#19d3f3\", \"#FF6692\", \"#B6E880\", \"#FF97FF\", \"#FECB52\"], \"font\": {\"color\": \"#2a3f5f\"}, \"geo\": {\"bgcolor\": \"white\", \"lakecolor\": \"white\", \"landcolor\": \"#E5ECF6\", \"showlakes\": true, \"showland\": true, \"subunitcolor\": \"white\"}, \"hoverlabel\": {\"align\": \"left\"}, \"hovermode\": \"closest\", \"mapbox\": {\"style\": \"light\"}, \"paper_bgcolor\": \"white\", \"plot_bgcolor\": \"#E5ECF6\", \"polar\": {\"angularaxis\": {\"gridcolor\": \"white\", \"linecolor\": \"white\", \"ticks\": \"\"}, \"bgcolor\": \"#E5ECF6\", \"radialaxis\": {\"gridcolor\": \"white\", \"linecolor\": \"white\", \"ticks\": \"\"}}, \"scene\": {\"xaxis\": {\"backgroundcolor\": \"#E5ECF6\", \"gridcolor\": \"white\", \"gridwidth\": 2, \"linecolor\": \"white\", \"showbackground\": true, \"ticks\": \"\", \"zerolinecolor\": \"white\"}, \"yaxis\": {\"backgroundcolor\": \"#E5ECF6\", \"gridcolor\": \"white\", \"gridwidth\": 2, \"linecolor\": \"white\", \"showbackground\": true, \"ticks\": \"\", \"zerolinecolor\": \"white\"}, \"zaxis\": {\"backgroundcolor\": \"#E5ECF6\", \"gridcolor\": \"white\", \"gridwidth\": 2, \"linecolor\": \"white\", \"showbackground\": true, \"ticks\": \"\", \"zerolinecolor\": \"white\"}}, \"shapedefaults\": {\"line\": {\"color\": \"#2a3f5f\"}}, \"ternary\": {\"aaxis\": {\"gridcolor\": \"white\", \"linecolor\": \"white\", \"ticks\": \"\"}, \"baxis\": {\"gridcolor\": \"white\", \"linecolor\": \"white\", \"ticks\": \"\"}, \"bgcolor\": \"#E5ECF6\", \"caxis\": {\"gridcolor\": \"white\", \"linecolor\": \"white\", \"ticks\": \"\"}}, \"title\": {\"x\": 0.05}, \"xaxis\": {\"automargin\": true, \"gridcolor\": \"white\", \"linecolor\": \"white\", \"ticks\": \"\", \"title\": {\"standoff\": 15}, \"zerolinecolor\": \"white\", \"zerolinewidth\": 2}, \"yaxis\": {\"automargin\": true, \"gridcolor\": \"white\", \"linecolor\": \"white\", \"ticks\": \"\", \"title\": {\"standoff\": 15}, \"zerolinecolor\": \"white\", \"zerolinewidth\": 2}}}, \"title\": {\"text\": \"hahaha\"}},\n",
              "                        {\"responsive\": true}\n",
              "                    ).then(function(){\n",
              "                            \n",
              "var gd = document.getElementById('e7bb2302-ae66-4514-9dcf-35dcf5908e9f');\n",
              "var x = new MutationObserver(function (mutations, observer) {{\n",
              "        var display = window.getComputedStyle(gd).display;\n",
              "        if (!display || display === 'none') {{\n",
              "            console.log([gd, 'removed!']);\n",
              "            Plotly.purge(gd);\n",
              "            observer.disconnect();\n",
              "        }}\n",
              "}});\n",
              "\n",
              "// Listen for the removal of the full notebook cells\n",
              "var notebookContainer = gd.closest('#notebook-container');\n",
              "if (notebookContainer) {{\n",
              "    x.observe(notebookContainer, {childList: true});\n",
              "}}\n",
              "\n",
              "// Listen for the clearing of the current output cell\n",
              "var outputEl = gd.closest('.output');\n",
              "if (outputEl) {{\n",
              "    x.observe(outputEl, {childList: true});\n",
              "}}\n",
              "\n",
              "                        })\n",
              "                };\n",
              "                \n",
              "            </script>\n",
              "        </div>\n",
              "</body>\n",
              "</html>"
            ]
          },
          "metadata": {
            "tags": []
          }
        }
      ]
    },
    {
      "cell_type": "code",
      "metadata": {
        "colab": {
          "base_uri": "https://localhost:8080/"
        },
        "id": "WpGI35JgTts4",
        "outputId": "3a02f679-05d2-40c9-ced2-4e5b4220ed67"
      },
      "source": [
        "df1.index.min()"
      ],
      "execution_count": null,
      "outputs": [
        {
          "output_type": "execute_result",
          "data": {
            "text/plain": [
              "Timestamp('2020-05-12 00:00:00')"
            ]
          },
          "metadata": {
            "tags": []
          },
          "execution_count": 24
        }
      ]
    },
    {
      "cell_type": "code",
      "metadata": {
        "colab": {
          "base_uri": "https://localhost:8080/",
          "height": 542
        },
        "id": "Pcboz1N4Kf2X",
        "outputId": "c4c6ff0c-897f-41e9-9ee7-f6e5a247cc7e"
      },
      "source": [
        "dd = yf.Ticker('AAPL')\n",
        "        \n",
        "df1 = dd.history(period='5y')\n",
        "\n",
        "trace0 = go.Scatter(\n",
        "   x = df1.index,\n",
        "   y = df1.Close,\n",
        "   mode = 'lines',\n",
        "   name = 'MACD Line',\n",
        ")\n",
        "\n",
        "data  = [trace0]\n",
        "layout = go.Layout(title='hahaha')\n",
        "\n",
        "fig = go.Figure(data=data, layout=layout)\n",
        "fig.update_layout(xaxis_range=[df1.index.min(),df1.index.max()])\n",
        "\n",
        "fig.update_layout(\n",
        "    xaxis=dict(\n",
        "        rangeselector=dict(\n",
        "            buttons=list([\n",
        "                dict(count=1,\n",
        "                     step=\"day\",\n",
        "                     stepmode=\"backward\"),\n",
        "            ])\n",
        "        ),\n",
        "        rangeslider=dict(\n",
        "            visible=True\n",
        "        ),\n",
        "    )\n",
        ")\n",
        "# pyo.plot(fig)\n",
        "fig"
      ],
      "execution_count": null,
      "outputs": [
        {
          "output_type": "display_data",
          "data": {
            "text/html": [
              "<html>\n",
              "<head><meta charset=\"utf-8\" /></head>\n",
              "<body>\n",
              "    <div>\n",
              "            <script src=\"https://cdnjs.cloudflare.com/ajax/libs/mathjax/2.7.5/MathJax.js?config=TeX-AMS-MML_SVG\"></script><script type=\"text/javascript\">if (window.MathJax) {MathJax.Hub.Config({SVG: {font: \"STIX-Web\"}});}</script>\n",
              "                <script type=\"text/javascript\">window.PlotlyConfig = {MathJaxConfig: 'local'};</script>\n",
              "        <script src=\"https://cdn.plot.ly/plotly-latest.min.js\"></script>    \n",
              "            <div id=\"13f2af96-eae3-4b3e-a193-e81f0a6af63a\" class=\"plotly-graph-div\" style=\"height:525px; width:100%;\"></div>\n",
              "            <script type=\"text/javascript\">\n",
              "                \n",
              "                    window.PLOTLYENV=window.PLOTLYENV || {};\n",
              "                    \n",
              "                if (document.getElementById(\"13f2af96-eae3-4b3e-a193-e81f0a6af63a\")) {\n",
              "                    Plotly.newPlot(\n",
              "                        '13f2af96-eae3-4b3e-a193-e81f0a6af63a',\n",
              "                        [{\"mode\": \"lines\", \"name\": \"MACD Line\", \"type\": \"scatter\", \"x\": [\"2016-05-12T00:00:00\", \"2016-05-13T00:00:00\", \"2016-05-16T00:00:00\", \"2016-05-17T00:00:00\", \"2016-05-18T00:00:00\", \"2016-05-19T00:00:00\", \"2016-05-20T00:00:00\", \"2016-05-23T00:00:00\", \"2016-05-24T00:00:00\", \"2016-05-25T00:00:00\", \"2016-05-26T00:00:00\", \"2016-05-27T00:00:00\", \"2016-05-31T00:00:00\", \"2016-06-01T00:00:00\", \"2016-06-02T00:00:00\", \"2016-06-03T00:00:00\", \"2016-06-06T00:00:00\", \"2016-06-07T00:00:00\", \"2016-06-08T00:00:00\", \"2016-06-09T00:00:00\", \"2016-06-10T00:00:00\", \"2016-06-13T00:00:00\", \"2016-06-14T00:00:00\", \"2016-06-15T00:00:00\", \"2016-06-16T00:00:00\", \"2016-06-17T00:00:00\", \"2016-06-20T00:00:00\", \"2016-06-21T00:00:00\", \"2016-06-22T00:00:00\", \"2016-06-23T00:00:00\", \"2016-06-24T00:00:00\", \"2016-06-27T00:00:00\", \"2016-06-28T00:00:00\", \"2016-06-29T00:00:00\", \"2016-06-30T00:00:00\", \"2016-07-01T00:00:00\", \"2016-07-05T00:00:00\", \"2016-07-06T00:00:00\", \"2016-07-07T00:00:00\", \"2016-07-08T00:00:00\", \"2016-07-11T00:00:00\", \"2016-07-12T00:00:00\", \"2016-07-13T00:00:00\", \"2016-07-14T00:00:00\", \"2016-07-15T00:00:00\", \"2016-07-18T00:00:00\", \"2016-07-19T00:00:00\", \"2016-07-20T00:00:00\", \"2016-07-21T00:00:00\", \"2016-07-22T00:00:00\", \"2016-07-25T00:00:00\", \"2016-07-26T00:00:00\", \"2016-07-27T00:00:00\", \"2016-07-28T00:00:00\", \"2016-07-29T00:00:00\", \"2016-08-01T00:00:00\", \"2016-08-02T00:00:00\", \"2016-08-03T00:00:00\", \"2016-08-04T00:00:00\", \"2016-08-05T00:00:00\", \"2016-08-08T00:00:00\", \"2016-08-09T00:00:00\", \"2016-08-10T00:00:00\", \"2016-08-11T00:00:00\", \"2016-08-12T00:00:00\", \"2016-08-15T00:00:00\", \"2016-08-16T00:00:00\", \"2016-08-17T00:00:00\", \"2016-08-18T00:00:00\", \"2016-08-19T00:00:00\", \"2016-08-22T00:00:00\", \"2016-08-23T00:00:00\", \"2016-08-24T00:00:00\", \"2016-08-25T00:00:00\", \"2016-08-26T00:00:00\", \"2016-08-29T00:00:00\", \"2016-08-30T00:00:00\", \"2016-08-31T00:00:00\", \"2016-09-01T00:00:00\", \"2016-09-02T00:00:00\", \"2016-09-06T00:00:00\", \"2016-09-07T00:00:00\", \"2016-09-08T00:00:00\", \"2016-09-09T00:00:00\", \"2016-09-12T00:00:00\", \"2016-09-13T00:00:00\", \"2016-09-14T00:00:00\", \"2016-09-15T00:00:00\", \"2016-09-16T00:00:00\", \"2016-09-19T00:00:00\", \"2016-09-20T00:00:00\", \"2016-09-21T00:00:00\", \"2016-09-22T00:00:00\", \"2016-09-23T00:00:00\", \"2016-09-26T00:00:00\", \"2016-09-27T00:00:00\", \"2016-09-28T00:00:00\", \"2016-09-29T00:00:00\", \"2016-09-30T00:00:00\", \"2016-10-03T00:00:00\", \"2016-10-04T00:00:00\", \"2016-10-05T00:00:00\", \"2016-10-06T00:00:00\", \"2016-10-07T00:00:00\", \"2016-10-10T00:00:00\", \"2016-10-11T00:00:00\", \"2016-10-12T00:00:00\", \"2016-10-13T00:00:00\", \"2016-10-14T00:00:00\", \"2016-10-17T00:00:00\", \"2016-10-18T00:00:00\", \"2016-10-19T00:00:00\", \"2016-10-20T00:00:00\", \"2016-10-21T00:00:00\", \"2016-10-24T00:00:00\", \"2016-10-25T00:00:00\", \"2016-10-26T00:00:00\", \"2016-10-27T00:00:00\", \"2016-10-28T00:00:00\", \"2016-10-31T00:00:00\", \"2016-11-01T00:00:00\", \"2016-11-02T00:00:00\", \"2016-11-03T00:00:00\", \"2016-11-04T00:00:00\", \"2016-11-07T00:00:00\", \"2016-11-08T00:00:00\", \"2016-11-09T00:00:00\", \"2016-11-10T00:00:00\", \"2016-11-11T00:00:00\", \"2016-11-14T00:00:00\", \"2016-11-15T00:00:00\", \"2016-11-16T00:00:00\", \"2016-11-17T00:00:00\", \"2016-11-18T00:00:00\", \"2016-11-21T00:00:00\", \"2016-11-22T00:00:00\", \"2016-11-23T00:00:00\", \"2016-11-25T00:00:00\", \"2016-11-28T00:00:00\", \"2016-11-29T00:00:00\", \"2016-11-30T00:00:00\", \"2016-12-01T00:00:00\", \"2016-12-02T00:00:00\", \"2016-12-05T00:00:00\", \"2016-12-06T00:00:00\", \"2016-12-07T00:00:00\", \"2016-12-08T00:00:00\", \"2016-12-09T00:00:00\", \"2016-12-12T00:00:00\", \"2016-12-13T00:00:00\", \"2016-12-14T00:00:00\", \"2016-12-15T00:00:00\", \"2016-12-16T00:00:00\", \"2016-12-19T00:00:00\", \"2016-12-20T00:00:00\", \"2016-12-21T00:00:00\", \"2016-12-22T00:00:00\", \"2016-12-23T00:00:00\", \"2016-12-27T00:00:00\", \"2016-12-28T00:00:00\", \"2016-12-29T00:00:00\", \"2016-12-30T00:00:00\", \"2017-01-03T00:00:00\", \"2017-01-04T00:00:00\", \"2017-01-05T00:00:00\", \"2017-01-06T00:00:00\", \"2017-01-09T00:00:00\", \"2017-01-10T00:00:00\", \"2017-01-11T00:00:00\", \"2017-01-12T00:00:00\", \"2017-01-13T00:00:00\", \"2017-01-17T00:00:00\", \"2017-01-18T00:00:00\", \"2017-01-19T00:00:00\", \"2017-01-20T00:00:00\", \"2017-01-23T00:00:00\", \"2017-01-24T00:00:00\", \"2017-01-25T00:00:00\", \"2017-01-26T00:00:00\", \"2017-01-27T00:00:00\", \"2017-01-30T00:00:00\", \"2017-01-31T00:00:00\", \"2017-02-01T00:00:00\", \"2017-02-02T00:00:00\", \"2017-02-03T00:00:00\", \"2017-02-06T00:00:00\", \"2017-02-07T00:00:00\", \"2017-02-08T00:00:00\", \"2017-02-09T00:00:00\", \"2017-02-10T00:00:00\", \"2017-02-13T00:00:00\", \"2017-02-14T00:00:00\", \"2017-02-15T00:00:00\", \"2017-02-16T00:00:00\", \"2017-02-17T00:00:00\", \"2017-02-21T00:00:00\", \"2017-02-22T00:00:00\", \"2017-02-23T00:00:00\", \"2017-02-24T00:00:00\", \"2017-02-27T00:00:00\", \"2017-02-28T00:00:00\", \"2017-03-01T00:00:00\", \"2017-03-02T00:00:00\", \"2017-03-03T00:00:00\", \"2017-03-06T00:00:00\", \"2017-03-07T00:00:00\", \"2017-03-08T00:00:00\", \"2017-03-09T00:00:00\", \"2017-03-10T00:00:00\", \"2017-03-13T00:00:00\", \"2017-03-14T00:00:00\", \"2017-03-15T00:00:00\", \"2017-03-16T00:00:00\", \"2017-03-17T00:00:00\", \"2017-03-20T00:00:00\", \"2017-03-21T00:00:00\", \"2017-03-22T00:00:00\", \"2017-03-23T00:00:00\", \"2017-03-24T00:00:00\", \"2017-03-27T00:00:00\", \"2017-03-28T00:00:00\", \"2017-03-29T00:00:00\", \"2017-03-30T00:00:00\", \"2017-03-31T00:00:00\", \"2017-04-03T00:00:00\", \"2017-04-04T00:00:00\", \"2017-04-05T00:00:00\", \"2017-04-06T00:00:00\", \"2017-04-07T00:00:00\", \"2017-04-10T00:00:00\", \"2017-04-11T00:00:00\", \"2017-04-12T00:00:00\", \"2017-04-13T00:00:00\", \"2017-04-17T00:00:00\", \"2017-04-18T00:00:00\", \"2017-04-19T00:00:00\", \"2017-04-20T00:00:00\", \"2017-04-21T00:00:00\", \"2017-04-24T00:00:00\", \"2017-04-25T00:00:00\", \"2017-04-26T00:00:00\", \"2017-04-27T00:00:00\", \"2017-04-28T00:00:00\", \"2017-05-01T00:00:00\", \"2017-05-02T00:00:00\", \"2017-05-03T00:00:00\", \"2017-05-04T00:00:00\", \"2017-05-05T00:00:00\", \"2017-05-08T00:00:00\", \"2017-05-09T00:00:00\", \"2017-05-10T00:00:00\", \"2017-05-11T00:00:00\", \"2017-05-12T00:00:00\", \"2017-05-15T00:00:00\", \"2017-05-16T00:00:00\", \"2017-05-17T00:00:00\", \"2017-05-18T00:00:00\", \"2017-05-19T00:00:00\", \"2017-05-22T00:00:00\", \"2017-05-23T00:00:00\", \"2017-05-24T00:00:00\", \"2017-05-25T00:00:00\", \"2017-05-26T00:00:00\", \"2017-05-30T00:00:00\", \"2017-05-31T00:00:00\", \"2017-06-01T00:00:00\", \"2017-06-02T00:00:00\", \"2017-06-05T00:00:00\", \"2017-06-06T00:00:00\", \"2017-06-07T00:00:00\", \"2017-06-08T00:00:00\", \"2017-06-09T00:00:00\", \"2017-06-12T00:00:00\", \"2017-06-13T00:00:00\", \"2017-06-14T00:00:00\", \"2017-06-15T00:00:00\", \"2017-06-16T00:00:00\", \"2017-06-19T00:00:00\", \"2017-06-20T00:00:00\", \"2017-06-21T00:00:00\", \"2017-06-22T00:00:00\", \"2017-06-23T00:00:00\", \"2017-06-26T00:00:00\", \"2017-06-27T00:00:00\", \"2017-06-28T00:00:00\", \"2017-06-29T00:00:00\", \"2017-06-30T00:00:00\", \"2017-07-03T00:00:00\", \"2017-07-05T00:00:00\", \"2017-07-06T00:00:00\", \"2017-07-07T00:00:00\", \"2017-07-10T00:00:00\", \"2017-07-11T00:00:00\", \"2017-07-12T00:00:00\", \"2017-07-13T00:00:00\", \"2017-07-14T00:00:00\", \"2017-07-17T00:00:00\", \"2017-07-18T00:00:00\", \"2017-07-19T00:00:00\", \"2017-07-20T00:00:00\", \"2017-07-21T00:00:00\", \"2017-07-24T00:00:00\", \"2017-07-25T00:00:00\", \"2017-07-26T00:00:00\", \"2017-07-27T00:00:00\", \"2017-07-28T00:00:00\", \"2017-07-31T00:00:00\", \"2017-08-01T00:00:00\", \"2017-08-02T00:00:00\", \"2017-08-03T00:00:00\", \"2017-08-04T00:00:00\", \"2017-08-07T00:00:00\", \"2017-08-08T00:00:00\", \"2017-08-09T00:00:00\", \"2017-08-10T00:00:00\", \"2017-08-11T00:00:00\", \"2017-08-14T00:00:00\", \"2017-08-15T00:00:00\", \"2017-08-16T00:00:00\", \"2017-08-17T00:00:00\", \"2017-08-18T00:00:00\", \"2017-08-21T00:00:00\", \"2017-08-22T00:00:00\", \"2017-08-23T00:00:00\", \"2017-08-24T00:00:00\", \"2017-08-25T00:00:00\", \"2017-08-28T00:00:00\", \"2017-08-29T00:00:00\", \"2017-08-30T00:00:00\", \"2017-08-31T00:00:00\", \"2017-09-01T00:00:00\", \"2017-09-05T00:00:00\", \"2017-09-06T00:00:00\", \"2017-09-07T00:00:00\", \"2017-09-08T00:00:00\", \"2017-09-11T00:00:00\", \"2017-09-12T00:00:00\", \"2017-09-13T00:00:00\", \"2017-09-14T00:00:00\", \"2017-09-15T00:00:00\", \"2017-09-18T00:00:00\", \"2017-09-19T00:00:00\", \"2017-09-20T00:00:00\", \"2017-09-21T00:00:00\", \"2017-09-22T00:00:00\", \"2017-09-25T00:00:00\", \"2017-09-26T00:00:00\", \"2017-09-27T00:00:00\", \"2017-09-28T00:00:00\", \"2017-09-29T00:00:00\", \"2017-10-02T00:00:00\", \"2017-10-03T00:00:00\", \"2017-10-04T00:00:00\", \"2017-10-05T00:00:00\", \"2017-10-06T00:00:00\", \"2017-10-09T00:00:00\", \"2017-10-10T00:00:00\", \"2017-10-11T00:00:00\", \"2017-10-12T00:00:00\", \"2017-10-13T00:00:00\", \"2017-10-16T00:00:00\", \"2017-10-17T00:00:00\", \"2017-10-18T00:00:00\", \"2017-10-19T00:00:00\", \"2017-10-20T00:00:00\", \"2017-10-23T00:00:00\", \"2017-10-24T00:00:00\", \"2017-10-25T00:00:00\", \"2017-10-26T00:00:00\", \"2017-10-27T00:00:00\", \"2017-10-30T00:00:00\", \"2017-10-31T00:00:00\", \"2017-11-01T00:00:00\", \"2017-11-02T00:00:00\", \"2017-11-03T00:00:00\", \"2017-11-06T00:00:00\", \"2017-11-07T00:00:00\", \"2017-11-08T00:00:00\", \"2017-11-09T00:00:00\", \"2017-11-10T00:00:00\", \"2017-11-13T00:00:00\", \"2017-11-14T00:00:00\", \"2017-11-15T00:00:00\", \"2017-11-16T00:00:00\", \"2017-11-17T00:00:00\", \"2017-11-20T00:00:00\", \"2017-11-21T00:00:00\", \"2017-11-22T00:00:00\", \"2017-11-24T00:00:00\", \"2017-11-27T00:00:00\", \"2017-11-28T00:00:00\", \"2017-11-29T00:00:00\", \"2017-11-30T00:00:00\", \"2017-12-01T00:00:00\", \"2017-12-04T00:00:00\", \"2017-12-05T00:00:00\", \"2017-12-06T00:00:00\", \"2017-12-07T00:00:00\", \"2017-12-08T00:00:00\", \"2017-12-11T00:00:00\", \"2017-12-12T00:00:00\", \"2017-12-13T00:00:00\", \"2017-12-14T00:00:00\", \"2017-12-15T00:00:00\", \"2017-12-18T00:00:00\", \"2017-12-19T00:00:00\", \"2017-12-20T00:00:00\", \"2017-12-21T00:00:00\", \"2017-12-22T00:00:00\", \"2017-12-26T00:00:00\", \"2017-12-27T00:00:00\", \"2017-12-28T00:00:00\", \"2017-12-29T00:00:00\", \"2018-01-02T00:00:00\", \"2018-01-03T00:00:00\", \"2018-01-04T00:00:00\", \"2018-01-05T00:00:00\", \"2018-01-08T00:00:00\", \"2018-01-09T00:00:00\", \"2018-01-10T00:00:00\", \"2018-01-11T00:00:00\", \"2018-01-12T00:00:00\", \"2018-01-16T00:00:00\", \"2018-01-17T00:00:00\", \"2018-01-18T00:00:00\", \"2018-01-19T00:00:00\", \"2018-01-22T00:00:00\", \"2018-01-23T00:00:00\", \"2018-01-24T00:00:00\", \"2018-01-25T00:00:00\", \"2018-01-26T00:00:00\", \"2018-01-29T00:00:00\", \"2018-01-30T00:00:00\", \"2018-01-31T00:00:00\", \"2018-02-01T00:00:00\", \"2018-02-02T00:00:00\", \"2018-02-05T00:00:00\", \"2018-02-06T00:00:00\", \"2018-02-07T00:00:00\", \"2018-02-08T00:00:00\", \"2018-02-09T00:00:00\", \"2018-02-12T00:00:00\", \"2018-02-13T00:00:00\", \"2018-02-14T00:00:00\", \"2018-02-15T00:00:00\", \"2018-02-16T00:00:00\", \"2018-02-20T00:00:00\", \"2018-02-21T00:00:00\", \"2018-02-22T00:00:00\", \"2018-02-23T00:00:00\", \"2018-02-26T00:00:00\", \"2018-02-27T00:00:00\", \"2018-02-28T00:00:00\", \"2018-03-01T00:00:00\", \"2018-03-02T00:00:00\", \"2018-03-05T00:00:00\", \"2018-03-06T00:00:00\", \"2018-03-07T00:00:00\", \"2018-03-08T00:00:00\", \"2018-03-09T00:00:00\", \"2018-03-12T00:00:00\", \"2018-03-13T00:00:00\", \"2018-03-14T00:00:00\", \"2018-03-15T00:00:00\", \"2018-03-16T00:00:00\", \"2018-03-19T00:00:00\", \"2018-03-20T00:00:00\", \"2018-03-21T00:00:00\", \"2018-03-22T00:00:00\", \"2018-03-23T00:00:00\", \"2018-03-26T00:00:00\", \"2018-03-27T00:00:00\", \"2018-03-28T00:00:00\", \"2018-03-29T00:00:00\", \"2018-04-02T00:00:00\", \"2018-04-03T00:00:00\", \"2018-04-04T00:00:00\", \"2018-04-05T00:00:00\", \"2018-04-06T00:00:00\", \"2018-04-09T00:00:00\", \"2018-04-10T00:00:00\", \"2018-04-11T00:00:00\", \"2018-04-12T00:00:00\", \"2018-04-13T00:00:00\", \"2018-04-16T00:00:00\", \"2018-04-17T00:00:00\", \"2018-04-18T00:00:00\", \"2018-04-19T00:00:00\", \"2018-04-20T00:00:00\", \"2018-04-23T00:00:00\", \"2018-04-24T00:00:00\", \"2018-04-25T00:00:00\", \"2018-04-26T00:00:00\", \"2018-04-27T00:00:00\", \"2018-04-30T00:00:00\", \"2018-05-01T00:00:00\", \"2018-05-02T00:00:00\", \"2018-05-03T00:00:00\", \"2018-05-04T00:00:00\", \"2018-05-07T00:00:00\", \"2018-05-08T00:00:00\", \"2018-05-09T00:00:00\", \"2018-05-10T00:00:00\", \"2018-05-11T00:00:00\", \"2018-05-14T00:00:00\", \"2018-05-15T00:00:00\", \"2018-05-16T00:00:00\", \"2018-05-17T00:00:00\", \"2018-05-18T00:00:00\", \"2018-05-21T00:00:00\", \"2018-05-22T00:00:00\", \"2018-05-23T00:00:00\", \"2018-05-24T00:00:00\", \"2018-05-25T00:00:00\", \"2018-05-29T00:00:00\", \"2018-05-30T00:00:00\", \"2018-05-31T00:00:00\", \"2018-06-01T00:00:00\", \"2018-06-04T00:00:00\", \"2018-06-05T00:00:00\", \"2018-06-06T00:00:00\", \"2018-06-07T00:00:00\", \"2018-06-08T00:00:00\", \"2018-06-11T00:00:00\", \"2018-06-12T00:00:00\", \"2018-06-13T00:00:00\", \"2018-06-14T00:00:00\", \"2018-06-15T00:00:00\", \"2018-06-18T00:00:00\", \"2018-06-19T00:00:00\", \"2018-06-20T00:00:00\", \"2018-06-21T00:00:00\", \"2018-06-22T00:00:00\", \"2018-06-25T00:00:00\", \"2018-06-26T00:00:00\", \"2018-06-27T00:00:00\", \"2018-06-28T00:00:00\", \"2018-06-29T00:00:00\", \"2018-07-02T00:00:00\", \"2018-07-03T00:00:00\", \"2018-07-05T00:00:00\", \"2018-07-06T00:00:00\", \"2018-07-09T00:00:00\", \"2018-07-10T00:00:00\", \"2018-07-11T00:00:00\", \"2018-07-12T00:00:00\", \"2018-07-13T00:00:00\", \"2018-07-16T00:00:00\", \"2018-07-17T00:00:00\", \"2018-07-18T00:00:00\", \"2018-07-19T00:00:00\", \"2018-07-20T00:00:00\", \"2018-07-23T00:00:00\", \"2018-07-24T00:00:00\", \"2018-07-25T00:00:00\", \"2018-07-26T00:00:00\", \"2018-07-27T00:00:00\", \"2018-07-30T00:00:00\", \"2018-07-31T00:00:00\", \"2018-08-01T00:00:00\", \"2018-08-02T00:00:00\", \"2018-08-03T00:00:00\", \"2018-08-06T00:00:00\", \"2018-08-07T00:00:00\", \"2018-08-08T00:00:00\", \"2018-08-09T00:00:00\", \"2018-08-10T00:00:00\", \"2018-08-13T00:00:00\", \"2018-08-14T00:00:00\", \"2018-08-15T00:00:00\", \"2018-08-16T00:00:00\", \"2018-08-17T00:00:00\", \"2018-08-20T00:00:00\", \"2018-08-21T00:00:00\", \"2018-08-22T00:00:00\", \"2018-08-23T00:00:00\", \"2018-08-24T00:00:00\", \"2018-08-27T00:00:00\", \"2018-08-28T00:00:00\", \"2018-08-29T00:00:00\", \"2018-08-30T00:00:00\", \"2018-08-31T00:00:00\", \"2018-09-04T00:00:00\", \"2018-09-05T00:00:00\", \"2018-09-06T00:00:00\", \"2018-09-07T00:00:00\", \"2018-09-10T00:00:00\", \"2018-09-11T00:00:00\", \"2018-09-12T00:00:00\", \"2018-09-13T00:00:00\", \"2018-09-14T00:00:00\", \"2018-09-17T00:00:00\", \"2018-09-18T00:00:00\", \"2018-09-19T00:00:00\", \"2018-09-20T00:00:00\", \"2018-09-21T00:00:00\", \"2018-09-24T00:00:00\", \"2018-09-25T00:00:00\", \"2018-09-26T00:00:00\", \"2018-09-27T00:00:00\", \"2018-09-28T00:00:00\", \"2018-10-01T00:00:00\", \"2018-10-02T00:00:00\", \"2018-10-03T00:00:00\", \"2018-10-04T00:00:00\", \"2018-10-05T00:00:00\", \"2018-10-08T00:00:00\", \"2018-10-09T00:00:00\", \"2018-10-10T00:00:00\", \"2018-10-11T00:00:00\", \"2018-10-12T00:00:00\", \"2018-10-15T00:00:00\", \"2018-10-16T00:00:00\", \"2018-10-17T00:00:00\", \"2018-10-18T00:00:00\", \"2018-10-19T00:00:00\", \"2018-10-22T00:00:00\", \"2018-10-23T00:00:00\", \"2018-10-24T00:00:00\", \"2018-10-25T00:00:00\", \"2018-10-26T00:00:00\", \"2018-10-29T00:00:00\", \"2018-10-30T00:00:00\", \"2018-10-31T00:00:00\", \"2018-11-01T00:00:00\", \"2018-11-02T00:00:00\", \"2018-11-05T00:00:00\", \"2018-11-06T00:00:00\", \"2018-11-07T00:00:00\", \"2018-11-08T00:00:00\", \"2018-11-09T00:00:00\", \"2018-11-12T00:00:00\", \"2018-11-13T00:00:00\", \"2018-11-14T00:00:00\", \"2018-11-15T00:00:00\", \"2018-11-16T00:00:00\", \"2018-11-19T00:00:00\", \"2018-11-20T00:00:00\", \"2018-11-21T00:00:00\", \"2018-11-23T00:00:00\", \"2018-11-26T00:00:00\", \"2018-11-27T00:00:00\", \"2018-11-28T00:00:00\", \"2018-11-29T00:00:00\", \"2018-11-30T00:00:00\", \"2018-12-03T00:00:00\", \"2018-12-04T00:00:00\", \"2018-12-06T00:00:00\", \"2018-12-07T00:00:00\", \"2018-12-10T00:00:00\", \"2018-12-11T00:00:00\", \"2018-12-12T00:00:00\", \"2018-12-13T00:00:00\", \"2018-12-14T00:00:00\", \"2018-12-17T00:00:00\", \"2018-12-18T00:00:00\", \"2018-12-19T00:00:00\", \"2018-12-20T00:00:00\", \"2018-12-21T00:00:00\", \"2018-12-24T00:00:00\", \"2018-12-26T00:00:00\", \"2018-12-27T00:00:00\", \"2018-12-28T00:00:00\", \"2018-12-31T00:00:00\", \"2019-01-02T00:00:00\", \"2019-01-03T00:00:00\", \"2019-01-04T00:00:00\", \"2019-01-07T00:00:00\", \"2019-01-08T00:00:00\", \"2019-01-09T00:00:00\", \"2019-01-10T00:00:00\", \"2019-01-11T00:00:00\", \"2019-01-14T00:00:00\", \"2019-01-15T00:00:00\", \"2019-01-16T00:00:00\", \"2019-01-17T00:00:00\", \"2019-01-18T00:00:00\", \"2019-01-22T00:00:00\", \"2019-01-23T00:00:00\", \"2019-01-24T00:00:00\", \"2019-01-25T00:00:00\", \"2019-01-28T00:00:00\", \"2019-01-29T00:00:00\", \"2019-01-30T00:00:00\", \"2019-01-31T00:00:00\", \"2019-02-01T00:00:00\", \"2019-02-04T00:00:00\", \"2019-02-05T00:00:00\", \"2019-02-06T00:00:00\", \"2019-02-07T00:00:00\", \"2019-02-08T00:00:00\", \"2019-02-11T00:00:00\", \"2019-02-12T00:00:00\", \"2019-02-13T00:00:00\", \"2019-02-14T00:00:00\", \"2019-02-15T00:00:00\", \"2019-02-19T00:00:00\", \"2019-02-20T00:00:00\", \"2019-02-21T00:00:00\", \"2019-02-22T00:00:00\", \"2019-02-25T00:00:00\", \"2019-02-26T00:00:00\", \"2019-02-27T00:00:00\", \"2019-02-28T00:00:00\", \"2019-03-01T00:00:00\", \"2019-03-04T00:00:00\", \"2019-03-05T00:00:00\", \"2019-03-06T00:00:00\", \"2019-03-07T00:00:00\", \"2019-03-08T00:00:00\", \"2019-03-11T00:00:00\", \"2019-03-12T00:00:00\", \"2019-03-13T00:00:00\", \"2019-03-14T00:00:00\", \"2019-03-15T00:00:00\", \"2019-03-18T00:00:00\", \"2019-03-19T00:00:00\", \"2019-03-20T00:00:00\", \"2019-03-21T00:00:00\", \"2019-03-22T00:00:00\", \"2019-03-25T00:00:00\", \"2019-03-26T00:00:00\", \"2019-03-27T00:00:00\", \"2019-03-28T00:00:00\", \"2019-03-29T00:00:00\", \"2019-04-01T00:00:00\", \"2019-04-02T00:00:00\", \"2019-04-03T00:00:00\", \"2019-04-04T00:00:00\", \"2019-04-05T00:00:00\", \"2019-04-08T00:00:00\", \"2019-04-09T00:00:00\", \"2019-04-10T00:00:00\", \"2019-04-11T00:00:00\", \"2019-04-12T00:00:00\", \"2019-04-15T00:00:00\", \"2019-04-16T00:00:00\", \"2019-04-17T00:00:00\", \"2019-04-18T00:00:00\", \"2019-04-22T00:00:00\", \"2019-04-23T00:00:00\", \"2019-04-24T00:00:00\", \"2019-04-25T00:00:00\", \"2019-04-26T00:00:00\", \"2019-04-29T00:00:00\", \"2019-04-30T00:00:00\", \"2019-05-01T00:00:00\", \"2019-05-02T00:00:00\", \"2019-05-03T00:00:00\", \"2019-05-06T00:00:00\", \"2019-05-07T00:00:00\", \"2019-05-08T00:00:00\", \"2019-05-09T00:00:00\", \"2019-05-10T00:00:00\", \"2019-05-13T00:00:00\", \"2019-05-14T00:00:00\", \"2019-05-15T00:00:00\", \"2019-05-16T00:00:00\", \"2019-05-17T00:00:00\", \"2019-05-20T00:00:00\", \"2019-05-21T00:00:00\", \"2019-05-22T00:00:00\", \"2019-05-23T00:00:00\", \"2019-05-24T00:00:00\", \"2019-05-28T00:00:00\", \"2019-05-29T00:00:00\", \"2019-05-30T00:00:00\", \"2019-05-31T00:00:00\", \"2019-06-03T00:00:00\", \"2019-06-04T00:00:00\", \"2019-06-05T00:00:00\", \"2019-06-06T00:00:00\", \"2019-06-07T00:00:00\", \"2019-06-10T00:00:00\", \"2019-06-11T00:00:00\", \"2019-06-12T00:00:00\", \"2019-06-13T00:00:00\", \"2019-06-14T00:00:00\", \"2019-06-17T00:00:00\", \"2019-06-18T00:00:00\", \"2019-06-19T00:00:00\", \"2019-06-20T00:00:00\", \"2019-06-21T00:00:00\", \"2019-06-24T00:00:00\", \"2019-06-25T00:00:00\", \"2019-06-26T00:00:00\", \"2019-06-27T00:00:00\", \"2019-06-28T00:00:00\", \"2019-07-01T00:00:00\", \"2019-07-02T00:00:00\", \"2019-07-03T00:00:00\", \"2019-07-05T00:00:00\", \"2019-07-08T00:00:00\", \"2019-07-09T00:00:00\", \"2019-07-10T00:00:00\", \"2019-07-11T00:00:00\", \"2019-07-12T00:00:00\", \"2019-07-15T00:00:00\", \"2019-07-16T00:00:00\", \"2019-07-17T00:00:00\", \"2019-07-18T00:00:00\", \"2019-07-19T00:00:00\", \"2019-07-22T00:00:00\", \"2019-07-23T00:00:00\", \"2019-07-24T00:00:00\", \"2019-07-25T00:00:00\", \"2019-07-26T00:00:00\", \"2019-07-29T00:00:00\", \"2019-07-30T00:00:00\", \"2019-07-31T00:00:00\", \"2019-08-01T00:00:00\", \"2019-08-02T00:00:00\", \"2019-08-05T00:00:00\", \"2019-08-06T00:00:00\", \"2019-08-07T00:00:00\", \"2019-08-08T00:00:00\", \"2019-08-09T00:00:00\", \"2019-08-12T00:00:00\", \"2019-08-13T00:00:00\", \"2019-08-14T00:00:00\", \"2019-08-15T00:00:00\", \"2019-08-16T00:00:00\", \"2019-08-19T00:00:00\", \"2019-08-20T00:00:00\", \"2019-08-21T00:00:00\", \"2019-08-22T00:00:00\", \"2019-08-23T00:00:00\", \"2019-08-26T00:00:00\", \"2019-08-27T00:00:00\", \"2019-08-28T00:00:00\", \"2019-08-29T00:00:00\", \"2019-08-30T00:00:00\", \"2019-09-03T00:00:00\", \"2019-09-04T00:00:00\", \"2019-09-05T00:00:00\", \"2019-09-06T00:00:00\", \"2019-09-09T00:00:00\", \"2019-09-10T00:00:00\", \"2019-09-11T00:00:00\", \"2019-09-12T00:00:00\", \"2019-09-13T00:00:00\", \"2019-09-16T00:00:00\", \"2019-09-17T00:00:00\", \"2019-09-18T00:00:00\", \"2019-09-19T00:00:00\", \"2019-09-20T00:00:00\", \"2019-09-23T00:00:00\", \"2019-09-24T00:00:00\", \"2019-09-25T00:00:00\", \"2019-09-26T00:00:00\", \"2019-09-27T00:00:00\", \"2019-09-30T00:00:00\", \"2019-10-01T00:00:00\", \"2019-10-02T00:00:00\", \"2019-10-03T00:00:00\", \"2019-10-04T00:00:00\", \"2019-10-07T00:00:00\", \"2019-10-08T00:00:00\", \"2019-10-09T00:00:00\", \"2019-10-10T00:00:00\", \"2019-10-11T00:00:00\", \"2019-10-14T00:00:00\", \"2019-10-15T00:00:00\", \"2019-10-16T00:00:00\", \"2019-10-17T00:00:00\", \"2019-10-18T00:00:00\", \"2019-10-21T00:00:00\", \"2019-10-22T00:00:00\", \"2019-10-23T00:00:00\", \"2019-10-24T00:00:00\", \"2019-10-25T00:00:00\", \"2019-10-28T00:00:00\", \"2019-10-29T00:00:00\", \"2019-10-30T00:00:00\", \"2019-10-31T00:00:00\", \"2019-11-01T00:00:00\", \"2019-11-04T00:00:00\", \"2019-11-05T00:00:00\", \"2019-11-06T00:00:00\", \"2019-11-07T00:00:00\", \"2019-11-08T00:00:00\", \"2019-11-11T00:00:00\", \"2019-11-12T00:00:00\", \"2019-11-13T00:00:00\", \"2019-11-14T00:00:00\", \"2019-11-15T00:00:00\", \"2019-11-18T00:00:00\", \"2019-11-19T00:00:00\", \"2019-11-20T00:00:00\", \"2019-11-21T00:00:00\", \"2019-11-22T00:00:00\", \"2019-11-25T00:00:00\", \"2019-11-26T00:00:00\", \"2019-11-27T00:00:00\", \"2019-11-29T00:00:00\", \"2019-12-02T00:00:00\", \"2019-12-03T00:00:00\", \"2019-12-04T00:00:00\", \"2019-12-05T00:00:00\", \"2019-12-06T00:00:00\", \"2019-12-09T00:00:00\", \"2019-12-10T00:00:00\", \"2019-12-11T00:00:00\", \"2019-12-12T00:00:00\", \"2019-12-13T00:00:00\", \"2019-12-16T00:00:00\", \"2019-12-17T00:00:00\", \"2019-12-18T00:00:00\", \"2019-12-19T00:00:00\", \"2019-12-20T00:00:00\", \"2019-12-23T00:00:00\", \"2019-12-24T00:00:00\", \"2019-12-26T00:00:00\", \"2019-12-27T00:00:00\", \"2019-12-30T00:00:00\", \"2019-12-31T00:00:00\", \"2020-01-02T00:00:00\", \"2020-01-03T00:00:00\", \"2020-01-06T00:00:00\", \"2020-01-07T00:00:00\", \"2020-01-08T00:00:00\", \"2020-01-09T00:00:00\", \"2020-01-10T00:00:00\", \"2020-01-13T00:00:00\", \"2020-01-14T00:00:00\", \"2020-01-15T00:00:00\", \"2020-01-16T00:00:00\", \"2020-01-17T00:00:00\", \"2020-01-21T00:00:00\", \"2020-01-22T00:00:00\", \"2020-01-23T00:00:00\", \"2020-01-24T00:00:00\", \"2020-01-27T00:00:00\", \"2020-01-28T00:00:00\", \"2020-01-29T00:00:00\", \"2020-01-30T00:00:00\", \"2020-01-31T00:00:00\", \"2020-02-03T00:00:00\", \"2020-02-04T00:00:00\", \"2020-02-05T00:00:00\", \"2020-02-06T00:00:00\", \"2020-02-07T00:00:00\", \"2020-02-10T00:00:00\", \"2020-02-11T00:00:00\", \"2020-02-12T00:00:00\", \"2020-02-13T00:00:00\", \"2020-02-14T00:00:00\", \"2020-02-18T00:00:00\", \"2020-02-19T00:00:00\", \"2020-02-20T00:00:00\", \"2020-02-21T00:00:00\", \"2020-02-24T00:00:00\", \"2020-02-25T00:00:00\", \"2020-02-26T00:00:00\", \"2020-02-27T00:00:00\", \"2020-02-28T00:00:00\", \"2020-03-02T00:00:00\", \"2020-03-03T00:00:00\", \"2020-03-04T00:00:00\", \"2020-03-05T00:00:00\", \"2020-03-06T00:00:00\", \"2020-03-09T00:00:00\", \"2020-03-10T00:00:00\", \"2020-03-11T00:00:00\", \"2020-03-12T00:00:00\", \"2020-03-13T00:00:00\", \"2020-03-16T00:00:00\", \"2020-03-17T00:00:00\", \"2020-03-18T00:00:00\", \"2020-03-19T00:00:00\", \"2020-03-20T00:00:00\", \"2020-03-23T00:00:00\", \"2020-03-24T00:00:00\", \"2020-03-25T00:00:00\", \"2020-03-26T00:00:00\", \"2020-03-27T00:00:00\", \"2020-03-30T00:00:00\", \"2020-03-31T00:00:00\", \"2020-04-01T00:00:00\", \"2020-04-02T00:00:00\", \"2020-04-03T00:00:00\", \"2020-04-06T00:00:00\", \"2020-04-07T00:00:00\", \"2020-04-08T00:00:00\", \"2020-04-09T00:00:00\", \"2020-04-13T00:00:00\", \"2020-04-14T00:00:00\", \"2020-04-15T00:00:00\", \"2020-04-16T00:00:00\", \"2020-04-17T00:00:00\", \"2020-04-20T00:00:00\", \"2020-04-21T00:00:00\", \"2020-04-22T00:00:00\", \"2020-04-23T00:00:00\", \"2020-04-24T00:00:00\", \"2020-04-27T00:00:00\", \"2020-04-28T00:00:00\", \"2020-04-29T00:00:00\", \"2020-04-30T00:00:00\", \"2020-05-01T00:00:00\", \"2020-05-04T00:00:00\", \"2020-05-05T00:00:00\", \"2020-05-06T00:00:00\", \"2020-05-07T00:00:00\", \"2020-05-08T00:00:00\", \"2020-05-11T00:00:00\", \"2020-05-12T00:00:00\", \"2020-05-13T00:00:00\", \"2020-05-14T00:00:00\", \"2020-05-15T00:00:00\", \"2020-05-18T00:00:00\", \"2020-05-19T00:00:00\", \"2020-05-20T00:00:00\", \"2020-05-21T00:00:00\", \"2020-05-22T00:00:00\", \"2020-05-26T00:00:00\", \"2020-05-27T00:00:00\", \"2020-05-28T00:00:00\", \"2020-05-29T00:00:00\", \"2020-06-01T00:00:00\", \"2020-06-02T00:00:00\", \"2020-06-03T00:00:00\", \"2020-06-04T00:00:00\", \"2020-06-05T00:00:00\", \"2020-06-08T00:00:00\", \"2020-06-09T00:00:00\", \"2020-06-10T00:00:00\", \"2020-06-11T00:00:00\", \"2020-06-12T00:00:00\", \"2020-06-15T00:00:00\", \"2020-06-16T00:00:00\", \"2020-06-17T00:00:00\", \"2020-06-18T00:00:00\", \"2020-06-19T00:00:00\", \"2020-06-22T00:00:00\", \"2020-06-23T00:00:00\", \"2020-06-24T00:00:00\", \"2020-06-25T00:00:00\", \"2020-06-26T00:00:00\", \"2020-06-29T00:00:00\", \"2020-06-30T00:00:00\", \"2020-07-01T00:00:00\", \"2020-07-02T00:00:00\", \"2020-07-06T00:00:00\", \"2020-07-07T00:00:00\", \"2020-07-08T00:00:00\", \"2020-07-09T00:00:00\", \"2020-07-10T00:00:00\", \"2020-07-13T00:00:00\", \"2020-07-14T00:00:00\", \"2020-07-15T00:00:00\", \"2020-07-16T00:00:00\", \"2020-07-17T00:00:00\", \"2020-07-20T00:00:00\", \"2020-07-21T00:00:00\", \"2020-07-22T00:00:00\", \"2020-07-23T00:00:00\", \"2020-07-24T00:00:00\", \"2020-07-27T00:00:00\", \"2020-07-28T00:00:00\", \"2020-07-29T00:00:00\", \"2020-07-30T00:00:00\", \"2020-07-31T00:00:00\", \"2020-08-03T00:00:00\", \"2020-08-04T00:00:00\", \"2020-08-05T00:00:00\", \"2020-08-06T00:00:00\", \"2020-08-07T00:00:00\", \"2020-08-10T00:00:00\", \"2020-08-11T00:00:00\", \"2020-08-12T00:00:00\", \"2020-08-13T00:00:00\", \"2020-08-14T00:00:00\", \"2020-08-17T00:00:00\", \"2020-08-18T00:00:00\", \"2020-08-19T00:00:00\", \"2020-08-20T00:00:00\", \"2020-08-21T00:00:00\", \"2020-08-24T00:00:00\", \"2020-08-25T00:00:00\", \"2020-08-26T00:00:00\", \"2020-08-27T00:00:00\", \"2020-08-28T00:00:00\", \"2020-08-31T00:00:00\", \"2020-09-01T00:00:00\", \"2020-09-02T00:00:00\", \"2020-09-03T00:00:00\", \"2020-09-04T00:00:00\", \"2020-09-08T00:00:00\", \"2020-09-09T00:00:00\", \"2020-09-10T00:00:00\", \"2020-09-11T00:00:00\", \"2020-09-14T00:00:00\", \"2020-09-15T00:00:00\", \"2020-09-16T00:00:00\", \"2020-09-17T00:00:00\", \"2020-09-18T00:00:00\", \"2020-09-21T00:00:00\", \"2020-09-22T00:00:00\", \"2020-09-23T00:00:00\", \"2020-09-24T00:00:00\", \"2020-09-25T00:00:00\", \"2020-09-28T00:00:00\", \"2020-09-29T00:00:00\", \"2020-09-30T00:00:00\", \"2020-10-01T00:00:00\", \"2020-10-02T00:00:00\", \"2020-10-05T00:00:00\", \"2020-10-06T00:00:00\", \"2020-10-07T00:00:00\", \"2020-10-08T00:00:00\", \"2020-10-09T00:00:00\", \"2020-10-12T00:00:00\", \"2020-10-13T00:00:00\", \"2020-10-14T00:00:00\", \"2020-10-15T00:00:00\", \"2020-10-16T00:00:00\", \"2020-10-19T00:00:00\", \"2020-10-20T00:00:00\", \"2020-10-21T00:00:00\", \"2020-10-22T00:00:00\", \"2020-10-23T00:00:00\", \"2020-10-26T00:00:00\", \"2020-10-27T00:00:00\", \"2020-10-28T00:00:00\", \"2020-10-29T00:00:00\", \"2020-10-30T00:00:00\", \"2020-11-02T00:00:00\", \"2020-11-03T00:00:00\", \"2020-11-04T00:00:00\", \"2020-11-05T00:00:00\", \"2020-11-06T00:00:00\", \"2020-11-09T00:00:00\", \"2020-11-10T00:00:00\", \"2020-11-11T00:00:00\", \"2020-11-12T00:00:00\", \"2020-11-13T00:00:00\", \"2020-11-16T00:00:00\", \"2020-11-17T00:00:00\", \"2020-11-18T00:00:00\", \"2020-11-19T00:00:00\", \"2020-11-20T00:00:00\", \"2020-11-23T00:00:00\", \"2020-11-24T00:00:00\", \"2020-11-25T00:00:00\", \"2020-11-27T00:00:00\", \"2020-11-30T00:00:00\", \"2020-12-01T00:00:00\", \"2020-12-02T00:00:00\", \"2020-12-03T00:00:00\", \"2020-12-04T00:00:00\", \"2020-12-07T00:00:00\", \"2020-12-08T00:00:00\", \"2020-12-09T00:00:00\", \"2020-12-10T00:00:00\", \"2020-12-11T00:00:00\", \"2020-12-14T00:00:00\", \"2020-12-15T00:00:00\", \"2020-12-16T00:00:00\", \"2020-12-17T00:00:00\", \"2020-12-18T00:00:00\", \"2020-12-21T00:00:00\", \"2020-12-22T00:00:00\", \"2020-12-23T00:00:00\", \"2020-12-24T00:00:00\", \"2020-12-28T00:00:00\", \"2020-12-29T00:00:00\", \"2020-12-30T00:00:00\", \"2020-12-31T00:00:00\", \"2021-01-04T00:00:00\", \"2021-01-05T00:00:00\", \"2021-01-06T00:00:00\", \"2021-01-07T00:00:00\", \"2021-01-08T00:00:00\", \"2021-01-11T00:00:00\", \"2021-01-12T00:00:00\", \"2021-01-13T00:00:00\", \"2021-01-14T00:00:00\", \"2021-01-15T00:00:00\", \"2021-01-19T00:00:00\", \"2021-01-20T00:00:00\", \"2021-01-21T00:00:00\", \"2021-01-22T00:00:00\", \"2021-01-25T00:00:00\", \"2021-01-26T00:00:00\", \"2021-01-27T00:00:00\", \"2021-01-28T00:00:00\", \"2021-01-29T00:00:00\", \"2021-02-01T00:00:00\", \"2021-02-02T00:00:00\", \"2021-02-03T00:00:00\", \"2021-02-04T00:00:00\", \"2021-02-05T00:00:00\", \"2021-02-08T00:00:00\", \"2021-02-09T00:00:00\", \"2021-02-10T00:00:00\", \"2021-02-11T00:00:00\", \"2021-02-12T00:00:00\", \"2021-02-16T00:00:00\", \"2021-02-17T00:00:00\", \"2021-02-18T00:00:00\", \"2021-02-19T00:00:00\", \"2021-02-22T00:00:00\", \"2021-02-23T00:00:00\", \"2021-02-24T00:00:00\", \"2021-02-25T00:00:00\", \"2021-02-26T00:00:00\", \"2021-03-01T00:00:00\", \"2021-03-02T00:00:00\", \"2021-03-03T00:00:00\", \"2021-03-04T00:00:00\", \"2021-03-05T00:00:00\", \"2021-03-08T00:00:00\", \"2021-03-09T00:00:00\", \"2021-03-10T00:00:00\", \"2021-03-11T00:00:00\", \"2021-03-12T00:00:00\", \"2021-03-15T00:00:00\", \"2021-03-16T00:00:00\", \"2021-03-17T00:00:00\", \"2021-03-18T00:00:00\", \"2021-03-19T00:00:00\", \"2021-03-22T00:00:00\", \"2021-03-23T00:00:00\", \"2021-03-24T00:00:00\", \"2021-03-25T00:00:00\", \"2021-03-26T00:00:00\", \"2021-03-29T00:00:00\", \"2021-03-30T00:00:00\", \"2021-03-31T00:00:00\", \"2021-04-01T00:00:00\", \"2021-04-05T00:00:00\", \"2021-04-06T00:00:00\", \"2021-04-07T00:00:00\", \"2021-04-08T00:00:00\", \"2021-04-09T00:00:00\", \"2021-04-12T00:00:00\", \"2021-04-13T00:00:00\", \"2021-04-14T00:00:00\", \"2021-04-15T00:00:00\", \"2021-04-16T00:00:00\", \"2021-04-19T00:00:00\", \"2021-04-20T00:00:00\", \"2021-04-21T00:00:00\", \"2021-04-22T00:00:00\", \"2021-04-23T00:00:00\", \"2021-04-26T00:00:00\", \"2021-04-27T00:00:00\", \"2021-04-28T00:00:00\", \"2021-04-29T00:00:00\", \"2021-04-30T00:00:00\", \"2021-05-03T00:00:00\", \"2021-05-04T00:00:00\", \"2021-05-05T00:00:00\", \"2021-05-06T00:00:00\", \"2021-05-07T00:00:00\", \"2021-05-10T00:00:00\", \"2021-05-11T00:00:00\"], \"y\": [21.09856605529785, 21.140607833862305, 21.925321578979492, 21.834238052368164, 22.084131240844727, 22.00005340576172, 22.238271713256836, 22.52086067199707, 22.864181518554688, 23.26587677001953, 23.45037841796875, 23.436363220214844, 23.321924209594727, 22.994962692260742, 22.8221435546875, 22.868846893310547, 23.0346622467041, 23.128084182739258, 23.10706901550293, 23.27288246154785, 23.081377029418945, 22.733386993408203, 22.761415481567383, 22.68667984008789, 22.78243637084961, 22.26396369934082, 22.210250854492188, 22.399417877197266, 22.315343856811523, 22.44379425048828, 21.81321907043457, 21.495594024658203, 21.857593536376953, 22.04676628112793, 22.3270206451416, 22.39474868774414, 22.184555053710938, 22.310670852661133, 22.40642547607422, 22.579246520996094, 22.649311065673828, 22.7520751953125, 22.62362289428711, 23.072032928466797, 23.069700241088867, 23.31492042541504, 23.324262619018555, 23.34528350830078, 23.22150421142578, 23.041671752929688, 22.733386993408203, 22.57691764831543, 24.043582916259766, 24.368213653564453, 24.33785057067871, 24.767578125, 24.40091323852539, 24.70685386657715, 24.859487533569336, 25.237529754638672, 25.446508407592773, 25.549829483032227, 25.35963249206543, 25.343191146850586, 25.40189552307129, 25.707157135009766, 25.68366813659668, 25.646102905273438, 25.61322784423828, 25.67897605895996, 25.479387283325195, 25.559221267700195, 25.36667823791504, 25.2586612701416, 25.110729217529297, 25.08255386352539, 24.890010833740234, 24.913488388061523, 25.061424255371094, 25.296234130859375, 25.2891902923584, 25.444162368774414, 24.777297973632812, 24.21609878540039, 24.758516311645508, 25.34788703918457, 26.2448673248291, 27.137155532836914, 26.984527587890625, 26.669876098632812, 26.667530059814453, 26.66283416748047, 26.914087295532227, 26.465593338012695, 26.505508422851562, 26.554824829101562, 26.756763458251953, 26.341144561767578, 26.545429229736328, 26.420978546142578, 26.5336856842041, 26.545429229736328, 26.7426700592041, 26.782583236694336, 27.249866485595703, 27.308570861816406, 27.55276870727539, 27.46824073791504, 27.62086296081543, 27.602079391479492, 27.583295822143555, 27.501110076904297, 27.487022399902344, 27.379011154174805, 27.625566482543945, 27.766448974609375, 27.141849517822266, 26.881210327148438, 26.70275115966797, 26.660484313964844, 26.17912483215332, 26.202606201171875, 25.9217472076416, 25.688087463378906, 26.05863380432129, 26.21204376220703, 26.169559478759766, 25.44026756286621, 25.591320037841797, 24.94935417175293, 25.279775619506836, 25.959503173828125, 25.95006561279297, 25.97602653503418, 26.370180130004883, 26.38669776916504, 26.252166748046875, 26.38433837890625, 26.332414627075195, 26.30645179748535, 26.084596633911133, 25.841503143310547, 25.93826675415039, 25.75181007385254, 25.95006561279297, 26.20496368408203, 26.46222686767578, 26.894136428833008, 26.740720748901367, 27.186798095703125, 27.186798095703125, 27.33548355102539, 27.37088966369629, 27.52901840209961, 27.602188110351562, 27.628145217895508, 27.446414947509766, 27.50069808959961, 27.675355911254883, 27.55734634399414, 27.550264358520508, 27.33548355102539, 27.413372039794922, 27.3826904296875, 27.521944046020508, 27.828763961791992, 28.083660125732422, 28.11197853088379, 28.263029098510742, 28.14502716064453, 28.095460891723633, 28.322040557861328, 28.319677352905273, 28.270118713378906, 28.322040557861328, 28.340923309326172, 28.314956665039062, 28.7657470703125, 28.779911041259766, 28.782272338867188, 28.706743240356445, 28.640661239624023, 30.38718605041504, 30.33526611328125, 30.465072631835938, 30.750654220581055, 31.04331398010254, 31.163679122924805, 31.38886833190918, 31.31775665283203, 31.5950927734375, 32.00518035888672, 32.12131881713867, 32.08340072631836, 32.17110824584961, 32.40340042114258, 32.50059127807617, 32.36311340332031, 32.393924713134766, 32.45792007446289, 32.472145080566406, 33.135860443115234, 32.93911361694336, 33.13347625732422, 33.0291862487793, 33.07185363769531, 32.94860076904297, 32.87274169921875, 32.98177719116211, 32.996002197265625, 32.94622039794922, 33.294673919677734, 33.34919357299805, 33.183265686035156, 33.53171920776367, 33.147708892822266, 33.5222282409668, 33.403709411621094, 33.337337493896484, 33.39423751831055, 34.08639144897461, 34.162235260009766, 34.11719512939453, 34.05320358276367, 34.06268310546875, 34.316322326660156, 34.13853073120117, 34.05320358276367, 33.977352142333984, 33.93705368041992, 33.5720100402832, 33.61231231689453, 33.434532165527344, 33.61941146850586, 33.4700813293457, 33.346824645996094, 33.764015197753906, 33.723716735839844, 34.0484619140625, 34.259429931640625, 34.05793762207031, 34.084007263183594, 34.05083084106445, 34.745357513427734, 34.9658088684082, 34.85913848876953, 34.7335090637207, 35.30950927734375, 36.269527435302734, 36.5018310546875, 36.32878875732422, 36.64297103881836, 37.15470886230469, 37.05949783325195, 37.00476837158203, 35.76230239868164, 36.307369232177734, 36.43113327026367, 36.652496337890625, 36.607276916503906, 36.49777603149414, 36.623931884765625, 36.562049865722656, 36.57632827758789, 36.35973358154297, 36.45970153808594, 36.999996185302734, 36.63821029663086, 36.76197814941406, 36.980960845947266, 36.890506744384766, 35.460018157958984, 34.6126708984375, 34.89115905761719, 34.550785064697266, 34.343711853027344, 33.8629150390625, 34.83164596557617, 34.51509475708008, 34.71977996826172, 34.662662506103516, 34.81736373901367, 34.7078857421875, 34.21041488647461, 34.71025848388672, 34.198516845703125, 34.279441833496094, 34.155677795410156, 34.296112060546875, 33.97240447998047, 34.31752395629883, 34.52698516845703, 34.63885498046875, 34.688846588134766, 35.172019958496094, 35.474300384521484, 35.59807205200195, 35.72185516357422, 35.94558334350586, 35.78372573852539, 35.767059326171875, 36.20025634765625, 36.35496520996094, 36.52634048461914, 35.836090087890625, 35.58379364013672, 35.400516510009766, 35.71470260620117, 37.402244567871094, 37.028560638427734, 37.22373580932617, 37.799747467041016, 38.102027893066406, 38.33528137207031, 37.114234924316406, 37.630374908447266, 38.19669723510742, 38.6148567199707, 38.45954513549805, 37.72117614746094, 37.63515090942383, 37.56586456298828, 38.179969787597656, 38.227752685546875, 38.05810546875, 38.1990852355957, 38.58378982543945, 38.92789077758789, 39.03303146362305, 39.18834686279297, 39.20030212402344, 38.72956085205078, 38.68893051147461, 38.53361892700195, 37.905174255371094, 38.590965270996094, 38.43803787231445, 38.14889907836914, 37.821537017822266, 38.2038688659668, 37.914730072021484, 37.9290657043457, 37.29344940185547, 36.65304946899414, 36.29462814331055, 35.97442626953125, 36.59331512451172, 36.85377883911133, 36.626773834228516, 36.82748794555664, 36.753414154052734, 36.913516998291016, 36.674560546875, 37.13096618652344, 37.10944747924805, 37.23848342895508, 37.2528190612793, 37.408145904541016, 37.27672576904297, 37.5132942199707, 38.2038688659668, 38.34484100341797, 38.17518615722656, 37.271942138671875, 37.33646011352539, 37.31734085083008, 37.539573669433594, 37.37468719482422, 37.613643646240234, 38.961341857910156, 39.83830642700195, 40.392677307128906, 39.87892532348633, 40.17045211791992, 41.219451904296875, 41.63762283325195, 41.77143478393555, 42.113136291503906, 42.02711486816406, 41.888023376464844, 41.72016143798828, 41.08945083618164, 40.5474739074707, 41.03189468383789, 40.804073333740234, 40.7633056640625, 41.521114349365234, 41.95757293701172, 41.95996856689453, 41.748931884765625, 41.50432586669922, 40.64339828491211, 41.211753845214844, 41.01990509033203, 40.72013854980469, 40.681766510009766, 40.53068161010742, 40.60503387451172, 40.61701583862305, 41.40840530395508, 41.17578125, 41.31248092651367, 41.30048370361328, 41.72016143798828, 42.307701110839844, 41.85685348510742, 41.811283111572266, 41.96955871582031, 41.96955871582031, 40.9047966003418, 40.911991119384766, 41.027103424072266, 40.58344268798828, 41.3100700378418, 41.302879333496094, 41.49473571777344, 41.9671630859375, 41.811283111572266, 41.806495666503906, 41.79689407348633, 42.03430938720703, 42.46836471557617, 42.25254440307617, 42.95039749145508, 42.98876953125, 42.79691696166992, 42.44679641723633, 42.456382751464844, 41.78010940551758, 41.03429412841797, 41.130218505859375, 40.27888107299805, 40.04146957397461, 40.15178680419922, 40.2357177734375, 38.48988723754883, 37.528236389160156, 39.09660720825195, 38.25966262817383, 37.20689010620117, 37.6619758605957, 39.178955078125, 39.57144546508789, 40.30104064941406, 41.65427780151367, 41.519432067871094, 41.37977981567383, 41.19197082519531, 41.536293029785156, 42.25867462158203, 43.09420394897461, 42.95455551147461, 42.8895263671875, 42.138267517089844, 42.42962646484375, 42.57651138305664, 42.5403938293457, 42.14548873901367, 42.605403900146484, 43.33740234375, 43.75637435913086, 43.33499526977539, 42.966583251953125, 43.01715087890625, 42.865455627441406, 42.21050262451172, 42.19606018066406, 41.2401237487793, 40.65740966796875, 39.715919494628906, 41.60131072998047, 40.53459930419922, 40.086734771728516, 40.39976501464844, 40.1348991394043, 40.54664993286133, 41.321990966796875, 41.6085319519043, 40.544246673583984, 40.94635772705078, 41.71689224243164, 41.52184295654297, 41.931190490722656, 42.07325744628906, 42.33572006225586, 42.918426513671875, 42.822105407714844, 41.6085319519043, 39.903743743896484, 39.78815460205078, 39.234344482421875, 39.40529251098633, 39.54255676269531, 39.08505630493164, 39.792972564697266, 40.717613220214844, 42.51631546020508, 42.593360900878906, 44.26443862915039, 44.58469772338867, 44.79900360107422, 45.114437103271484, 45.75975036621094, 45.58571243286133, 45.47935485839844, 45.06602096557617, 45.486610412597656, 45.1989631652832, 45.03459930419922, 45.35367202758789, 45.24006271362305, 45.530120849609375, 45.47935485839844, 45.58329772949219, 45.418922424316406, 45.322235107421875, 45.169960021972656, 45.98455810546875, 46.36888122558594, 46.72662353515625, 46.88857650756836, 46.76287841796875, 46.33746337890625, 46.223854064941406, 46.4776496887207, 46.09573745727539, 46.11991500854492, 45.64613723754883, 45.62196350097656, 44.88473129272461, 45.08052444458008, 44.829139709472656, 44.698604583740234, 44.033878326416016, 44.58015823364258, 44.514896392822266, 44.838802337646484, 44.744537353515625, 45.244895935058594, 44.45689010620117, 44.81462860107422, 45.435848236083984, 46.06673049926758, 46.011138916015625, 45.414093017578125, 46.175506591796875, 46.248023986816406, 46.146507263183594, 46.277034759521484, 46.023223876953125, 46.3809700012207, 46.27460861206055, 46.315696716308594, 46.65168762207031, 47.09161376953125, 46.94416809082031, 46.163421630859375, 45.90477752685547, 45.99663162231445, 48.706295013427734, 50.13002395629883, 50.275054931640625, 50.53611373901367, 50.062339782714844, 50.096187591552734, 50.49018478393555, 50.33979034423828, 50.66482925415039, 50.8782958984375, 50.99715042114258, 51.7442512512207, 52.777591705322266, 52.263343811035156, 52.161460876464844, 52.16389465332031, 52.27062225341797, 52.43314743041992, 52.86491775512695, 53.29182434082031, 54.08744430541992, 54.58470916748047, 55.21537780761719, 55.3924560546875, 55.031028747558594, 54.11655807495117, 53.679935455322266, 52.959510803222656, 54.29848098754883, 53.624141693115234, 54.9194450378418, 54.29604721069336, 52.85036087036133, 52.93767547607422, 52.96921157836914, 53.37187194824219, 52.7969970703125, 53.55622482299805, 53.89581298828125, 53.46648025512695, 54.56529235839844, 54.756927490234375, 55.12562561035156, 55.61560821533203, 56.29237365722656, 55.302703857421875, 54.405208587646484, 54.27907943725586, 55.031028747558594, 52.481658935546875, 52.01835250854492, 53.87641143798828, 52.724220275878906, 53.886112213134766, 53.65324783325195, 52.3991813659668, 53.19721984863281, 53.52227020263672, 54.026798248291016, 52.1735954284668, 53.31608200073242, 52.46710205078125, 51.48228454589844, 51.739402770996094, 53.08807373046875, 53.90309524536133, 50.327674865722656, 48.89894485473633, 49.4277458190918, 50.92680740356445, 50.749122619628906, 49.77059555053711, 47.26344299316406, 46.791221618652344, 45.4694938659668, 46.59162902832031, 47.107662200927734, 45.24068832397461, 43.07917785644531, 43.03049850463867, 41.93757629394531, 42.50472640991211, 42.4122314453125, 44.04309844970703, 43.70475769042969, 43.46864700317383, 44.98753356933594, 43.00859069824219, 42.52906799316406, 41.012603759765625, 41.28279495239258, 41.046688079833984, 41.16109085083008, 41.61140441894531, 40.27993392944336, 39.90508270263672, 40.42354965209961, 39.16266632080078, 38.17441177368164, 36.68959426879883, 35.74028015136719, 38.257171630859375, 38.00889205932617, 38.02836990356445, 38.39591979980469, 38.439735412597656, 34.6108512878418, 36.08836364746094, 36.00804138183594, 36.69446563720703, 37.31760025024414, 37.43687438964844, 37.06931686401367, 36.511905670166016, 37.259185791015625, 37.71436309814453, 37.93830108642578, 38.171974182128906, 37.31517028808594, 37.46607971191406, 37.16912078857422, 38.40078353881836, 38.04541015625, 37.65107727050781, 40.223941802978516, 40.51361083984375, 40.53308868408203, 41.68442153930664, 42.39762496948242, 42.4122314453125, 41.60896682739258, 41.657859802246094, 41.41828918457031, 41.77519989013672, 41.601627349853516, 41.75320053100586, 41.66029739379883, 41.78497314453125, 42.05387878417969, 41.81675338745117, 42.28367233276367, 42.5916862487793, 42.616127014160156, 42.74813461303711, 42.327674865722656, 42.772586822509766, 42.987701416015625, 42.90947341918945, 42.66257858276367, 42.16877365112305, 42.26900100708008, 43.733299255371094, 44.22465515136719, 44.42021942138672, 44.91402053833008, 45.49826431274414, 45.962745666503906, 45.59850311279297, 45.99696731567383, 47.6910514831543, 46.70344543457031, 46.13874435424805, 45.66205978393555, 46.072750091552734, 46.13385772705078, 46.43454360961914, 46.749900817871094, 47.42947769165039, 47.75461196899414, 47.83771896362305, 48.157958984375, 48.9157829284668, 48.76910400390625, 49.04288864135742, 48.6346549987793, 48.615089416503906, 48.703094482421875, 48.70798873901367, 49.6564826965332, 49.834938049316406, 49.99871826171875, 50.719871520996094, 50.64164352416992, 50.18206787109375, 49.9424934387207, 50.01827621459961, 49.05511474609375, 51.4630126953125, 51.12810516357422, 51.763694763183594, 50.96432876586914, 49.590476989746094, 49.600250244140625, 49.06733703613281, 48.38759231567383, 45.5753288269043, 46.29679489135742, 46.85139083862305, 46.64525604248047, 46.38022994995117, 44.929931640625, 45.79127502441406, 44.853858947753906, 44.08821487426758, 43.918888092041016, 43.7372932434082, 43.52870559692383, 43.75447463989258, 42.96184158325195, 42.52748107910156, 44.08330154418945, 44.79495620727539, 45.4526252746582, 46.66244125366211, 47.258758544921875, 47.80599594116211, 47.653846740722656, 47.6440315246582, 47.29802703857422, 47.580223083496094, 48.699249267578125, 48.55691146850586, 48.94709777832031, 48.78022384643555, 48.731143951416016, 47.99250030517578, 49.03053283691406, 49.01580810546875, 48.56917953491211, 49.4599723815918, 49.74954605102539, 50.16181945800781, 50.11764144897461, 49.08451461791992, 49.383907318115234, 49.87224197387695, 49.509063720703125, 49.88942337036133, 50.35813903808594, 50.183902740478516, 49.90169906616211, 50.468563079833984, 49.71519470214844, 50.851383209228516, 51.248924255371094, 51.207210540771484, 50.80230712890625, 50.9789924621582, 51.45505905151367, 51.23420715332031, 52.279598236083984, 51.148311614990234, 50.06611251831055, 47.44526290893555, 48.34341812133789, 48.84402847290039, 49.92132568359375, 49.509952545166016, 49.38432693481445, 51.475669860839844, 49.9434928894043, 49.6947021484375, 50.86723709106445, 51.815608978271484, 51.81807327270508, 52.37970733642578, 52.335365295410156, 49.91640090942383, 50.86477279663086, 50.29081726074219, 50.6282958984375, 51.48552322387695, 51.41901397705078, 50.670169830322266, 51.529869079589844, 52.537353515625, 52.53242874145508, 52.756587982177734, 53.379798889160156, 55.07701873779297, 54.95384979248047, 53.88477325439453, 54.16806411743164, 54.36512756347656, 54.875022888183594, 54.42917251586914, 53.63352584838867, 53.87739181518555, 53.6212043762207, 54.44641876220703, 54.16560363769531, 53.90203094482422, 55.17062759399414, 55.3233528137207, 53.9365119934082, 54.394683837890625, 55.919471740722656, 55.93178939819336, 55.27655029296875, 55.92439270019531, 56.67817306518555, 58.18571472167969, 58.101951599121094, 57.96648025512695, 57.73246383666992, 57.95662307739258, 58.234981536865234, 59.24493408203125, 59.10945129394531, 59.90263366699219, 60.00116729736328, 60.74015808105469, 61.348594665527344, 59.92973327636719, 59.922340393066406, 61.27716064453125, 63.016258239746094, 63.43008804321289, 63.33894729614258, 63.36604309082031, 64.09736633300781, 64.27278900146484, 64.78175354003906, 64.72244262695312, 65.34259796142578, 64.89047241210938, 65.66132354736328, 65.99239349365234, 65.79226684570312, 65.0263442993164, 64.73481750488281, 64.67797088623047, 65.81202697753906, 65.29813385009766, 66.17523193359375, 66.02944946289062, 65.26600646972656, 64.10231018066406, 64.66809844970703, 65.61683654785156, 66.88431549072266, 65.94792938232422, 66.3333511352539, 66.89913940429688, 67.06962585449219, 67.9813003540039, 69.1449966430664, 69.28089904785156, 69.11534881591797, 69.18453216552734, 69.0412368774414, 70.16788482666016, 70.23458099365234, 71.62806701660156, 71.60087585449219, 72.02583312988281, 72.55209350585938, 74.20746612548828, 73.48602294921875, 74.07157897949219, 73.72321319580078, 74.90914916992188, 76.50027465820312, 76.67322540283203, 78.31129455566406, 77.25383758544922, 76.92277526855469, 77.88633728027344, 78.74861907958984, 78.21495056152344, 78.494140625, 78.87215423583984, 78.64485168457031, 76.332275390625, 78.49166870117188, 80.13467407226562, 80.0185546875, 76.47063446044922, 76.26062774658203, 78.77826690673828, 79.42064666748047, 80.3496322631836, 79.2574691772461, 79.63390350341797, 79.1534423828125, 81.03316497802734, 80.45611572265625, 80.47593688964844, 79.00238037109375, 80.14654541015625, 79.32433319091797, 77.52880859375, 73.84616088867188, 71.34484100341797, 72.47663116455078, 67.73896789550781, 67.6993408203125, 74.002197265625, 71.65193176269531, 74.97547912597656, 72.54349517822266, 71.58012390136719, 65.91869354248047, 70.66626739501953, 68.21199035644531, 61.475738525390625, 68.84103393554688, 59.98484420776367, 62.62238693237305, 61.089393615722656, 60.62131881713867, 56.77274703979492, 55.56665802001953, 61.14140701293945, 60.804588317871094, 64.00431060791016, 61.35438537597656, 63.10531234741211, 62.976531982421875, 59.66289520263672, 60.658470153808594, 59.78672409057617, 65.00235748291016, 64.2494888305664, 65.89392852783203, 66.36941528320312, 67.6720962524414, 71.0897445678711, 70.4408950805664, 71.00060272216797, 70.03721618652344, 68.5834732055664, 66.46353912353516, 68.37792205810547, 68.11292266845703, 70.07931518554688, 70.12885284423828, 68.99211883544922, 71.25816345214844, 72.76143646240234, 71.59003448486328, 72.60293579101562, 73.692626953125, 74.45292663574219, 75.22313690185547, 77.01358032226562, 78.22541046142578, 77.33143615722656, 76.39772033691406, 76.8670654296875, 76.4126205444336, 78.21299743652344, 77.76103973388672, 79.27335357666016, 78.68232727050781, 79.18892669677734, 78.65254211425781, 78.99522399902344, 79.02998352050781, 78.95301818847656, 79.92396545410156, 80.2939682006836, 80.73599243164062, 80.04067993164062, 82.32032775878906, 82.80703735351562, 85.42192077636719, 87.61961364746094, 83.4129638671875, 84.13309478759766, 85.173583984375, 87.4308853149414, 87.3092041015625, 87.34397888183594, 86.84483337402344, 89.11702728271484, 91.01920318603516, 89.41253662109375, 90.59953308105469, 87.81578826904297, 89.83965301513672, 90.589599609375, 90.41825103759766, 90.41825103759766, 92.83695983886719, 92.54888916015625, 94.7043685913086, 95.11164093017578, 95.27801513671875, 94.83847045898438, 96.40789794921875, 97.07093048095703, 95.87647247314453, 95.68277740478516, 97.69918823242188, 96.35078430175781, 96.62145233154297, 92.22358703613281, 91.99512481689453, 94.17543029785156, 92.62836456298828, 94.40389251708984, 95.54620361328125, 105.5488052368164, 108.20838928222656, 108.93101501464844, 109.32585144042969, 113.14015197753906, 110.56783294677734, 112.17491149902344, 108.83883666992188, 112.45602416992188, 114.44621276855469, 114.34422302246094, 114.04568481445312, 114.99600982666016, 115.14029693603516, 117.6952133178711, 123.76033782958984, 125.24053955078125, 124.21310424804688, 125.90228271484375, 124.39720153808594, 124.19569396972656, 128.40744018554688, 133.52224731445312, 130.75587463378906, 120.28743743896484, 120.36705017089844, 112.26695251464844, 116.74488830566406, 112.93367004394531, 111.45097351074219, 114.79450225830078, 114.97362518310547, 111.58032989501953, 109.79911041259766, 106.3162612915039, 109.5403823852539, 111.26189422607422, 106.59490203857422, 107.68950653076172, 111.7295913696289, 114.39645385742188, 113.53072357177734, 115.24229431152344, 116.21749114990234, 112.46597290039062, 115.92890930175781, 112.60528564453125, 114.51587677001953, 114.40641021728516, 116.3966064453125, 123.79019165039062, 120.50635528564453, 120.5959243774414, 120.11827087402344, 118.43655395507812, 115.41146087646484, 116.93396759033203, 116.29710388183594, 115.18258666992188, 114.47607421875, 114.48602294921875, 116.02842712402344, 110.65489196777344, 114.75469970703125, 108.32636260986328, 108.23680877685547, 109.89862060546875, 114.38651275634766, 118.4465103149414, 118.31195068359375, 115.94949340820312, 115.6006088256836, 119.10939025878906, 118.83028411865234, 118.880126953125, 119.91681671142578, 119.00971221923828, 117.65404510498047, 118.2621078491211, 116.96623992919922, 113.48735809326172, 114.80315399169922, 115.66041564941406, 116.2186279296875, 118.6707992553711, 122.32910919189453, 122.68795776367188, 122.54840850830078, 121.86061096191406, 123.35582733154297, 123.98381805419922, 121.39209747314453, 122.84745025634766, 122.02009582519531, 121.39209747314453, 127.47266387939453, 127.40289306640625, 128.29005432128906, 126.25656127929688, 127.82154846191406, 131.45993041992188, 130.54286193847656, 131.5496368408203, 136.25460815429688, 134.44039916992188, 133.2940673828125, 132.26734924316406, 128.997802734375, 130.5926971435547, 126.19674682617188, 130.50299072265625, 131.62937927246094, 128.5691680908203, 128.38973999023438, 130.47308349609375, 128.49940490722656, 126.73502349853516, 127.4228286743164, 131.6094512939453, 136.43402099609375, 138.6270294189453, 142.4647674560547, 142.70401000976562, 141.60751342773438, 136.65333557128906, 131.5396728515625, 133.7127227783203, 134.56002807617188, 133.5133819580078, 136.95237731933594, 136.52809143066406, 136.67784118652344, 135.77935791015625, 135.16041564941406, 134.90086364746094, 135.14044189453125, 132.9641571044922, 130.61813354492188, 129.49005126953125, 129.6497802734375, 125.78634643554688, 125.6465835571289, 125.13744354248047, 120.78483581542969, 121.05438232421875, 127.57331085205078, 124.9078369140625, 121.85301971435547, 119.9262924194336, 121.21410369873047, 116.16268920898438, 120.8846664428711, 119.77655792236328, 121.75318908691406, 120.82476806640625, 123.77974700927734, 125.35707092285156, 124.54844665527344, 120.32561492919922, 119.78652954101562, 123.18077087402344, 122.33221435546875, 119.88636016845703, 120.38551330566406, 121.00446319580078, 121.18415832519531, 119.69668579101562, 121.94287109375, 122.79142761230469, 125.68651580810547, 125.99598693847656, 127.68312072753906, 130.13894653320312, 132.77447509765625, 131.0174560546875, 134.20204162597656, 131.80612182617188, 134.2719268798828, 133.93251037597656, 134.61134338378906, 132.88429260253906, 133.27362060546875, 131.71627807617188, 134.0922393798828, 134.49156188964844, 134.162109375, 133.35348510742188, 133.253662109375, 131.23709106445312, 132.31524658203125, 127.6332015991211, 127.8827896118164, 129.52000427246094, 130.2100067138672, 126.8499984741211, 125.91000366210938]}],\n",
              "                        {\"template\": {\"data\": {\"bar\": [{\"error_x\": {\"color\": \"#2a3f5f\"}, \"error_y\": {\"color\": \"#2a3f5f\"}, \"marker\": {\"line\": {\"color\": \"#E5ECF6\", \"width\": 0.5}}, \"type\": \"bar\"}], \"barpolar\": [{\"marker\": {\"line\": {\"color\": \"#E5ECF6\", \"width\": 0.5}}, \"type\": \"barpolar\"}], \"carpet\": [{\"aaxis\": {\"endlinecolor\": \"#2a3f5f\", \"gridcolor\": \"white\", \"linecolor\": \"white\", \"minorgridcolor\": \"white\", \"startlinecolor\": \"#2a3f5f\"}, \"baxis\": {\"endlinecolor\": \"#2a3f5f\", \"gridcolor\": \"white\", \"linecolor\": \"white\", \"minorgridcolor\": \"white\", \"startlinecolor\": \"#2a3f5f\"}, \"type\": \"carpet\"}], \"choropleth\": [{\"colorbar\": {\"outlinewidth\": 0, \"ticks\": \"\"}, \"type\": \"choropleth\"}], \"contour\": [{\"colorbar\": {\"outlinewidth\": 0, \"ticks\": \"\"}, \"colorscale\": [[0.0, \"#0d0887\"], [0.1111111111111111, \"#46039f\"], [0.2222222222222222, \"#7201a8\"], [0.3333333333333333, \"#9c179e\"], [0.4444444444444444, \"#bd3786\"], [0.5555555555555556, \"#d8576b\"], [0.6666666666666666, \"#ed7953\"], [0.7777777777777778, \"#fb9f3a\"], [0.8888888888888888, \"#fdca26\"], [1.0, \"#f0f921\"]], \"type\": \"contour\"}], \"contourcarpet\": [{\"colorbar\": {\"outlinewidth\": 0, \"ticks\": \"\"}, \"type\": \"contourcarpet\"}], \"heatmap\": [{\"colorbar\": {\"outlinewidth\": 0, \"ticks\": \"\"}, \"colorscale\": [[0.0, \"#0d0887\"], [0.1111111111111111, \"#46039f\"], [0.2222222222222222, \"#7201a8\"], [0.3333333333333333, \"#9c179e\"], [0.4444444444444444, \"#bd3786\"], [0.5555555555555556, \"#d8576b\"], [0.6666666666666666, \"#ed7953\"], [0.7777777777777778, \"#fb9f3a\"], [0.8888888888888888, \"#fdca26\"], [1.0, \"#f0f921\"]], \"type\": \"heatmap\"}], \"heatmapgl\": [{\"colorbar\": {\"outlinewidth\": 0, \"ticks\": \"\"}, \"colorscale\": [[0.0, \"#0d0887\"], [0.1111111111111111, \"#46039f\"], [0.2222222222222222, \"#7201a8\"], [0.3333333333333333, \"#9c179e\"], [0.4444444444444444, \"#bd3786\"], [0.5555555555555556, \"#d8576b\"], [0.6666666666666666, \"#ed7953\"], [0.7777777777777778, \"#fb9f3a\"], [0.8888888888888888, \"#fdca26\"], [1.0, \"#f0f921\"]], \"type\": \"heatmapgl\"}], \"histogram\": [{\"marker\": {\"colorbar\": {\"outlinewidth\": 0, \"ticks\": \"\"}}, \"type\": \"histogram\"}], \"histogram2d\": [{\"colorbar\": {\"outlinewidth\": 0, \"ticks\": \"\"}, \"colorscale\": [[0.0, \"#0d0887\"], [0.1111111111111111, \"#46039f\"], [0.2222222222222222, \"#7201a8\"], [0.3333333333333333, \"#9c179e\"], [0.4444444444444444, \"#bd3786\"], [0.5555555555555556, \"#d8576b\"], [0.6666666666666666, \"#ed7953\"], [0.7777777777777778, \"#fb9f3a\"], [0.8888888888888888, \"#fdca26\"], [1.0, \"#f0f921\"]], \"type\": \"histogram2d\"}], \"histogram2dcontour\": [{\"colorbar\": {\"outlinewidth\": 0, \"ticks\": \"\"}, \"colorscale\": [[0.0, \"#0d0887\"], [0.1111111111111111, \"#46039f\"], [0.2222222222222222, \"#7201a8\"], [0.3333333333333333, \"#9c179e\"], [0.4444444444444444, \"#bd3786\"], [0.5555555555555556, \"#d8576b\"], [0.6666666666666666, \"#ed7953\"], [0.7777777777777778, \"#fb9f3a\"], [0.8888888888888888, \"#fdca26\"], [1.0, \"#f0f921\"]], \"type\": \"histogram2dcontour\"}], \"mesh3d\": [{\"colorbar\": {\"outlinewidth\": 0, \"ticks\": \"\"}, \"type\": \"mesh3d\"}], \"parcoords\": [{\"line\": {\"colorbar\": {\"outlinewidth\": 0, \"ticks\": \"\"}}, \"type\": \"parcoords\"}], \"pie\": [{\"automargin\": true, \"type\": \"pie\"}], \"scatter\": [{\"marker\": {\"colorbar\": {\"outlinewidth\": 0, \"ticks\": \"\"}}, \"type\": \"scatter\"}], \"scatter3d\": [{\"line\": {\"colorbar\": {\"outlinewidth\": 0, \"ticks\": \"\"}}, \"marker\": {\"colorbar\": {\"outlinewidth\": 0, \"ticks\": \"\"}}, \"type\": \"scatter3d\"}], \"scattercarpet\": [{\"marker\": {\"colorbar\": {\"outlinewidth\": 0, \"ticks\": \"\"}}, \"type\": \"scattercarpet\"}], \"scattergeo\": [{\"marker\": {\"colorbar\": {\"outlinewidth\": 0, \"ticks\": \"\"}}, \"type\": \"scattergeo\"}], \"scattergl\": [{\"marker\": {\"colorbar\": {\"outlinewidth\": 0, \"ticks\": \"\"}}, \"type\": \"scattergl\"}], \"scattermapbox\": [{\"marker\": {\"colorbar\": {\"outlinewidth\": 0, \"ticks\": \"\"}}, \"type\": \"scattermapbox\"}], \"scatterpolar\": [{\"marker\": {\"colorbar\": {\"outlinewidth\": 0, \"ticks\": \"\"}}, \"type\": \"scatterpolar\"}], \"scatterpolargl\": [{\"marker\": {\"colorbar\": {\"outlinewidth\": 0, \"ticks\": \"\"}}, \"type\": \"scatterpolargl\"}], \"scatterternary\": [{\"marker\": {\"colorbar\": {\"outlinewidth\": 0, \"ticks\": \"\"}}, \"type\": \"scatterternary\"}], \"surface\": [{\"colorbar\": {\"outlinewidth\": 0, \"ticks\": \"\"}, \"colorscale\": [[0.0, \"#0d0887\"], [0.1111111111111111, \"#46039f\"], [0.2222222222222222, \"#7201a8\"], [0.3333333333333333, \"#9c179e\"], [0.4444444444444444, \"#bd3786\"], [0.5555555555555556, \"#d8576b\"], [0.6666666666666666, \"#ed7953\"], [0.7777777777777778, \"#fb9f3a\"], [0.8888888888888888, \"#fdca26\"], [1.0, \"#f0f921\"]], \"type\": \"surface\"}], \"table\": [{\"cells\": {\"fill\": {\"color\": \"#EBF0F8\"}, \"line\": {\"color\": \"white\"}}, \"header\": {\"fill\": {\"color\": \"#C8D4E3\"}, \"line\": {\"color\": \"white\"}}, \"type\": \"table\"}]}, \"layout\": {\"annotationdefaults\": {\"arrowcolor\": \"#2a3f5f\", \"arrowhead\": 0, \"arrowwidth\": 1}, \"coloraxis\": {\"colorbar\": {\"outlinewidth\": 0, \"ticks\": \"\"}}, \"colorscale\": {\"diverging\": [[0, \"#8e0152\"], [0.1, \"#c51b7d\"], [0.2, \"#de77ae\"], [0.3, \"#f1b6da\"], [0.4, \"#fde0ef\"], [0.5, \"#f7f7f7\"], [0.6, \"#e6f5d0\"], [0.7, \"#b8e186\"], [0.8, \"#7fbc41\"], [0.9, \"#4d9221\"], [1, \"#276419\"]], \"sequential\": [[0.0, \"#0d0887\"], [0.1111111111111111, \"#46039f\"], [0.2222222222222222, \"#7201a8\"], [0.3333333333333333, \"#9c179e\"], [0.4444444444444444, \"#bd3786\"], [0.5555555555555556, \"#d8576b\"], [0.6666666666666666, \"#ed7953\"], [0.7777777777777778, \"#fb9f3a\"], [0.8888888888888888, \"#fdca26\"], [1.0, \"#f0f921\"]], \"sequentialminus\": [[0.0, \"#0d0887\"], [0.1111111111111111, \"#46039f\"], [0.2222222222222222, \"#7201a8\"], [0.3333333333333333, \"#9c179e\"], [0.4444444444444444, \"#bd3786\"], [0.5555555555555556, \"#d8576b\"], [0.6666666666666666, \"#ed7953\"], [0.7777777777777778, \"#fb9f3a\"], [0.8888888888888888, \"#fdca26\"], [1.0, \"#f0f921\"]]}, \"colorway\": [\"#636efa\", \"#EF553B\", \"#00cc96\", \"#ab63fa\", \"#FFA15A\", \"#19d3f3\", \"#FF6692\", \"#B6E880\", \"#FF97FF\", \"#FECB52\"], \"font\": {\"color\": \"#2a3f5f\"}, \"geo\": {\"bgcolor\": \"white\", \"lakecolor\": \"white\", \"landcolor\": \"#E5ECF6\", \"showlakes\": true, \"showland\": true, \"subunitcolor\": \"white\"}, \"hoverlabel\": {\"align\": \"left\"}, \"hovermode\": \"closest\", \"mapbox\": {\"style\": \"light\"}, \"paper_bgcolor\": \"white\", \"plot_bgcolor\": \"#E5ECF6\", \"polar\": {\"angularaxis\": {\"gridcolor\": \"white\", \"linecolor\": \"white\", \"ticks\": \"\"}, \"bgcolor\": \"#E5ECF6\", \"radialaxis\": {\"gridcolor\": \"white\", \"linecolor\": \"white\", \"ticks\": \"\"}}, \"scene\": {\"xaxis\": {\"backgroundcolor\": \"#E5ECF6\", \"gridcolor\": \"white\", \"gridwidth\": 2, \"linecolor\": \"white\", \"showbackground\": true, \"ticks\": \"\", \"zerolinecolor\": \"white\"}, \"yaxis\": {\"backgroundcolor\": \"#E5ECF6\", \"gridcolor\": \"white\", \"gridwidth\": 2, \"linecolor\": \"white\", \"showbackground\": true, \"ticks\": \"\", \"zerolinecolor\": \"white\"}, \"zaxis\": {\"backgroundcolor\": \"#E5ECF6\", \"gridcolor\": \"white\", \"gridwidth\": 2, \"linecolor\": \"white\", \"showbackground\": true, \"ticks\": \"\", \"zerolinecolor\": \"white\"}}, \"shapedefaults\": {\"line\": {\"color\": \"#2a3f5f\"}}, \"ternary\": {\"aaxis\": {\"gridcolor\": \"white\", \"linecolor\": \"white\", \"ticks\": \"\"}, \"baxis\": {\"gridcolor\": \"white\", \"linecolor\": \"white\", \"ticks\": \"\"}, \"bgcolor\": \"#E5ECF6\", \"caxis\": {\"gridcolor\": \"white\", \"linecolor\": \"white\", \"ticks\": \"\"}}, \"title\": {\"x\": 0.05}, \"xaxis\": {\"automargin\": true, \"gridcolor\": \"white\", \"linecolor\": \"white\", \"ticks\": \"\", \"title\": {\"standoff\": 15}, \"zerolinecolor\": \"white\", \"zerolinewidth\": 2}, \"yaxis\": {\"automargin\": true, \"gridcolor\": \"white\", \"linecolor\": \"white\", \"ticks\": \"\", \"title\": {\"standoff\": 15}, \"zerolinecolor\": \"white\", \"zerolinewidth\": 2}}}, \"title\": {\"text\": \"hahaha\"}, \"xaxis\": {\"range\": [\"2016-05-12T00:00:00\", \"2021-05-11T00:00:00\"], \"rangeselector\": {\"buttons\": [{\"count\": 1, \"step\": \"day\", \"stepmode\": \"backward\"}]}, \"rangeslider\": {\"visible\": true}}},\n",
              "                        {\"responsive\": true}\n",
              "                    ).then(function(){\n",
              "                            \n",
              "var gd = document.getElementById('13f2af96-eae3-4b3e-a193-e81f0a6af63a');\n",
              "var x = new MutationObserver(function (mutations, observer) {{\n",
              "        var display = window.getComputedStyle(gd).display;\n",
              "        if (!display || display === 'none') {{\n",
              "            console.log([gd, 'removed!']);\n",
              "            Plotly.purge(gd);\n",
              "            observer.disconnect();\n",
              "        }}\n",
              "}});\n",
              "\n",
              "// Listen for the removal of the full notebook cells\n",
              "var notebookContainer = gd.closest('#notebook-container');\n",
              "if (notebookContainer) {{\n",
              "    x.observe(notebookContainer, {childList: true});\n",
              "}}\n",
              "\n",
              "// Listen for the clearing of the current output cell\n",
              "var outputEl = gd.closest('.output');\n",
              "if (outputEl) {{\n",
              "    x.observe(outputEl, {childList: true});\n",
              "}}\n",
              "\n",
              "                        })\n",
              "                };\n",
              "                \n",
              "            </script>\n",
              "        </div>\n",
              "</body>\n",
              "</html>"
            ]
          },
          "metadata": {
            "tags": []
          }
        }
      ]
    },
    {
      "cell_type": "code",
      "metadata": {
        "colab": {
          "base_uri": "https://localhost:8080/",
          "height": 542
        },
        "id": "3obXShCdXU3t",
        "outputId": "30d235e4-fefb-4c03-ad53-23d4fdd87fe4"
      },
      "source": [
        "dd = yf.Ticker('AAPL')\n",
        "        \n",
        "df1 = dd.history(period='1y')\n",
        "\n",
        "\n",
        "\n",
        "fig = go.Figure( data=[ \n",
        "                go.Candlestick(\n",
        "                  x = df1.index,\n",
        "                  low = df1['Low'],\n",
        "                  high = df1['High'],\n",
        "                  open = df1['Open'],\n",
        "                  close = df1['Close'],\n",
        "                  increasing_line_color = 'green',\n",
        "                  decreasing_line_color = 'red'\n",
        "                )\n",
        "])\n",
        "fig.update_layout(xaxis_range=[df1.index.min(),df1.index.max()])\n",
        "fig"
      ],
      "execution_count": null,
      "outputs": [
        {
          "output_type": "display_data",
          "data": {
            "text/html": [
              "<html>\n",
              "<head><meta charset=\"utf-8\" /></head>\n",
              "<body>\n",
              "    <div>\n",
              "            <script src=\"https://cdnjs.cloudflare.com/ajax/libs/mathjax/2.7.5/MathJax.js?config=TeX-AMS-MML_SVG\"></script><script type=\"text/javascript\">if (window.MathJax) {MathJax.Hub.Config({SVG: {font: \"STIX-Web\"}});}</script>\n",
              "                <script type=\"text/javascript\">window.PlotlyConfig = {MathJaxConfig: 'local'};</script>\n",
              "        <script src=\"https://cdn.plot.ly/plotly-latest.min.js\"></script>    \n",
              "            <div id=\"e8f80e1c-3024-436f-b72a-e47e7c135b89\" class=\"plotly-graph-div\" style=\"height:525px; width:100%;\"></div>\n",
              "            <script type=\"text/javascript\">\n",
              "                \n",
              "                    window.PLOTLYENV=window.PLOTLYENV || {};\n",
              "                    \n",
              "                if (document.getElementById(\"e8f80e1c-3024-436f-b72a-e47e7c135b89\")) {\n",
              "                    Plotly.newPlot(\n",
              "                        'e8f80e1c-3024-436f-b72a-e47e7c135b89',\n",
              "                        [{\"close\": [77.33143615722656, 76.39772033691406, 76.8670654296875, 76.4126205444336, 78.21299743652344, 77.76103973388672, 79.27335357666016, 78.68232727050781, 79.18892669677734, 78.65254211425781, 78.99522399902344, 79.02998352050781, 78.95301818847656, 79.92396545410156, 80.2939682006836, 80.73599243164062, 80.04067993164062, 82.32032775878906, 82.80703735351562, 85.42192077636719, 87.61961364746094, 83.4129638671875, 84.13309478759766, 85.173583984375, 87.4308853149414, 87.3092041015625, 87.34397888183594, 86.84483337402344, 89.11702728271484, 91.01920318603516, 89.41253662109375, 90.59953308105469, 87.81578826904297, 89.83965301513672, 90.589599609375, 90.41825103759766, 90.41825103759766, 92.83695983886719, 92.54888916015625, 94.7043685913086, 95.11164093017578, 95.27801513671875, 94.83847045898438, 96.40789794921875, 97.07093048095703, 95.87647247314453, 95.68277740478516, 97.69918823242188, 96.35078430175781, 96.62145233154297, 92.22358703613281, 91.99512481689453, 94.17543029785156, 92.62836456298828, 94.40389251708984, 95.54620361328125, 105.5488052368164, 108.20838928222656, 108.93101501464844, 109.32585144042969, 113.14015197753906, 110.56783294677734, 112.17491149902344, 108.83883666992188, 112.45602416992188, 114.44621276855469, 114.34422302246094, 114.04568481445312, 114.99600982666016, 115.14029693603516, 117.6952133178711, 123.76033782958984, 125.24053955078125, 124.21310424804688, 125.90228271484375, 124.39720153808594, 124.19569396972656, 128.40744018554688, 133.52224731445312, 130.75587463378906, 120.28743743896484, 120.36705017089844, 112.26695251464844, 116.74488830566406, 112.93367004394531, 111.45097351074219, 114.79450225830078, 114.97362518310547, 111.58032989501953, 109.79911041259766, 106.3162612915039, 109.5403823852539, 111.26189422607422, 106.59490203857422, 107.68950653076172, 111.7295913696289, 114.39645385742188, 113.53072357177734, 115.24229431152344, 116.21749114990234, 112.46597290039062, 115.92890930175781, 112.60528564453125, 114.51587677001953, 114.40641021728516, 116.3966064453125, 123.79019165039062, 120.50635528564453, 120.5959243774414, 120.11827087402344, 118.43655395507812, 115.41146087646484, 116.93396759033203, 116.29710388183594, 115.18258666992188, 114.47607421875, 114.48602294921875, 116.02842712402344, 110.65489196777344, 114.75469970703125, 108.32636260986328, 108.23680877685547, 109.89862060546875, 114.38651275634766, 118.4465103149414, 118.31195068359375, 115.94949340820312, 115.6006088256836, 119.10939025878906, 118.83028411865234, 118.880126953125, 119.91681671142578, 119.00971221923828, 117.65404510498047, 118.2621078491211, 116.96623992919922, 113.48735809326172, 114.80315399169922, 115.66041564941406, 116.2186279296875, 118.6707992553711, 122.32910919189453, 122.68795776367188, 122.54840850830078, 121.86061096191406, 123.35582733154297, 123.98381805419922, 121.39209747314453, 122.84745025634766, 122.02009582519531, 121.39209747314453, 127.47266387939453, 127.40289306640625, 128.29005432128906, 126.25656127929688, 127.82154846191406, 131.45993041992188, 130.54286193847656, 131.5496368408203, 136.25460815429688, 134.44039916992188, 133.2940673828125, 132.26734924316406, 128.997802734375, 130.5926971435547, 126.19674682617188, 130.50299072265625, 131.62937927246094, 128.5691680908203, 128.38973999023438, 130.47308349609375, 128.49940490722656, 126.73502349853516, 127.4228286743164, 131.6094512939453, 136.43402099609375, 138.6270294189453, 142.4647674560547, 142.70401000976562, 141.60751342773438, 136.65333557128906, 131.5396728515625, 133.7127227783203, 134.56002807617188, 133.5133819580078, 136.95237731933594, 136.52809143066406, 136.67784118652344, 135.77935791015625, 135.16041564941406, 134.90086364746094, 135.14044189453125, 132.9641571044922, 130.61813354492188, 129.49005126953125, 129.6497802734375, 125.78634643554688, 125.6465835571289, 125.13744354248047, 120.78483581542969, 121.05438232421875, 127.57331085205078, 124.9078369140625, 121.85301971435547, 119.9262924194336, 121.21410369873047, 116.16268920898438, 120.8846664428711, 119.77655792236328, 121.75318908691406, 120.82476806640625, 123.77974700927734, 125.35707092285156, 124.54844665527344, 120.32561492919922, 119.78652954101562, 123.18077087402344, 122.33221435546875, 119.88636016845703, 120.38551330566406, 121.00446319580078, 121.18415832519531, 119.69668579101562, 121.94287109375, 122.79142761230469, 125.68651580810547, 125.99598693847656, 127.68312072753906, 130.13894653320312, 132.77447509765625, 131.0174560546875, 134.20204162597656, 131.80612182617188, 134.2719268798828, 133.93251037597656, 134.61134338378906, 132.88429260253906, 133.27362060546875, 131.71627807617188, 134.0922393798828, 134.49156188964844, 134.162109375, 133.35348510742188, 133.253662109375, 131.23709106445312, 132.31524658203125, 127.6332015991211, 127.8827896118164, 129.52000427246094, 130.2100067138672, 126.8499984741211, 125.91000366210938], \"decreasing\": {\"line\": {\"color\": \"red\"}}, \"high\": [79.38758139807715, 78.45883683377896, 76.92914711808622, 76.45980323222686, 78.5954227846438, 79.09703124187706, 79.34536287998368, 79.6855693989089, 79.27335688850998, 80.51747103982687, 79.14422157448658, 80.31879988316524, 79.75014504194428, 80.04812882824858, 80.31880239065855, 81.00418956777874, 80.86015517584923, 82.38240945393144, 82.84180673671092, 85.82420891988033, 88.09888247851615, 87.17759876052322, 86.36803540262237, 85.84158350443309, 87.70901766144696, 88.25532844507207, 87.77110123592948, 88.54338747493162, 89.26353916851161, 92.47191618619549, 91.58043206160457, 90.63926627155978, 90.71872853170342, 89.9365040870718, 90.88263094762404, 91.22531299056348, 91.99761313859528, 93.316228662207, 94.02146484309988, 94.73665228037218, 95.67285429084335, 95.3376187159365, 99.28600348231947, 96.60407062749468, 98.58323956352307, 96.75306558356871, 96.49728882435896, 97.84073629408324, 98.58572517473672, 97.31924987893517, 96.42775697669997, 92.34775213304003, 94.26979567142948, 93.91718101734415, 94.59262326081577, 95.65298229794091, 105.70276661117227, 110.89031534842245, 110.04848540965509, 109.65364456848833, 113.64674069207271, 113.11777164984244, 113.21727726875173, 111.93110168168802, 112.71972452567796, 115.47365257547177, 114.43626837143178, 115.51843309938967, 115.4313651910661, 116.58816632851631, 117.81213763242756, 124.25539664249682, 128.153694291944, 124.56636737691747, 126.36997997812479, 126.86006753864947, 125.82267370207074, 130.35783896087923, 134.1392184224983, 137.30362147150416, 128.2084162083505, 123.09361649722737, 118.40670515887955, 118.55596622623425, 119.90930915895083, 114.6651433194316, 115.3617077966896, 118.24749855264498, 115.43136167719584, 111.64999331237676, 110.33645791894233, 109.64984376534196, 112.30675006215911, 111.5604390048079, 109.7095542514663, 111.88881067831687, 114.75468970935908, 114.74474430795715, 116.68519093367838, 117.14293255232468, 114.80445927982686, 116.07817551024486, 115.5507746126109, 114.98357403292722, 115.82940056074635, 116.42645816858528, 124.5663668689749, 124.77532622714915, 122.42690098234996, 120.6058667366228, 120.95415813068814, 119.82969050835392, 118.3967628586035, 118.12808052443829, 117.46136186583487, 115.97867431647182, 115.97866988419163, 116.70509407844807, 114.86415974952227, 116.35680807555325, 111.44101643625127, 110.13744964767604, 110.9434689032674, 115.02337487284723, 119.03362206587468, 118.8203207543709, 121.60143131260033, 117.21544386811073, 119.24894371293372, 120.14607926987408, 119.28881703820268, 120.60461371312864, 120.28563388054876, 119.43834444100953, 118.68076824197152, 118.39168533583086, 117.24535397043473, 115.48098833215809, 116.3781234950636, 117.11576272476148, 120.58468175379095, 123.07672026573181, 122.97703494555624, 123.38572925270502, 122.4686686066141, 124.17321513571794, 124.58191299882381, 125.548813101832, 123.4754484293768, 122.3689794627517, 122.95709630626415, 127.49260443268146, 127.96110690286501, 129.167256161973, 128.68879172977807, 127.90129546546952, 133.9818704500606, 132.0081655780596, 133.03489621570475, 136.90253164603962, 138.3479111270511, 135.55684108674987, 134.31082248611722, 133.18442171654382, 131.32038287476843, 130.63257706177905, 131.21073591734577, 132.20753360214084, 129.75538013133584, 129.27690448962116, 131.03129732878318, 130.58274427614916, 129.8052146760414, 128.30003050337822, 132.0679927751491, 139.2251051546456, 139.40454367816474, 144.6278537174568, 143.8403782701038, 143.84038414012895, 141.53773715627108, 136.30444584087383, 134.9487784776305, 135.87581563196642, 135.33755493844615, 136.96233999112718, 137.18697592864888, 136.7277594465789, 137.64619724836874, 136.75770858809256, 136.1587215696199, 135.30017423095842, 135.77936741418617, 131.9957983807596, 129.7795528002188, 130.48836749936595, 129.5000397870391, 126.49514071416188, 125.34708653328269, 126.24556158630493, 124.63829112822255, 127.71307284850405, 128.50173087526346, 125.49683191152387, 123.39040954758073, 121.73322618890016, 120.79482056170333, 121.85302285182397, 121.96283924517871, 123.00106943703796, 120.96453005892315, 123.78973218480351, 127.00427454477641, 125.64657986246394, 122.97112282262059, 121.22409015488016, 123.65996030446087, 124.02932868158472, 122.69160044088183, 121.45370623110342, 121.27400962180924, 122.37214287904516, 120.19583793558496, 123.31054310265185, 123.96942697860948, 125.94607706473306, 126.91442508219505, 127.7030834621781, 130.1688944429661, 132.8144005681353, 132.62472651632842, 134.43166258590688, 134.77108695787842, 134.7710790244177, 134.4416400920917, 135.2402799450244, 135.30018730094787, 133.5231966740183, 133.92252215421263, 134.8908706245701, 134.83098170931396, 135.18038398908124, 134.79104568155324, 136.83758634959727, 133.33352097202, 133.8426661910414, 131.2670362117806, 130.2287956263908, 129.5299818315274, 131.25999450683594, 129.5399932861328, 126.2699966430664], \"increasing\": {\"line\": {\"color\": \"green\"}}, \"low\": [77.20727277896667, 75.29514900083953, 74.87796570832667, 74.55016995784965, 77.06076516328827, 77.72875604484962, 78.60038260699748, 78.43896434271991, 78.30984781599508, 78.59542422785172, 77.74862636025587, 78.3793686864618, 78.58797751343081, 78.77172570441837, 79.1988463542657, 80.03570917190683, 79.65825461445547, 80.2666680116788, 81.28231502309309, 82.44697100586156, 85.94340800677732, 83.3086708634773, 82.99576167575053, 82.58850177662181, 85.60320393646569, 87.1850407223268, 86.72067625449638, 85.70997828079307, 87.19994430345007, 89.96132880815813, 89.03011127155955, 88.79420028652999, 87.6643050134777, 87.23222209070244, 89.39763418490875, 90.3685902336446, 90.30154473805895, 91.84861661547913, 92.43466098684394, 93.46024918609946, 94.03886743872512, 94.07115064878677, 94.61994170539818, 93.24918135107644, 95.84419566117474, 95.26310510726717, 95.19853722123369, 95.41955056091749, 96.0950080383168, 95.95593847354337, 91.39417662383823, 88.54834834681442, 92.85433780275278, 92.62339317779632, 93.08527816008599, 93.139916777901, 100.1501764723204, 107.17038520957529, 107.66206135869757, 108.16864787864519, 109.06263080448979, 109.75185286547632, 109.46078077379735, 108.572646150159, 109.75681939698971, 113.36901502933382, 112.49084998703862, 113.40384998656869, 113.4486321706346, 115.04327883018587, 115.16517340161518, 118.66543346670613, 123.3299532916103, 122.44929396211143, 124.46933920044991, 123.22546819161573, 123.96681809366858, 125.38234892420446, 129.89014555305098, 126.3774493899387, 119.90930295115818, 110.3464138641689, 112.12763940640293, 114.6949890087535, 111.94852514839808, 109.46077755519322, 112.24705388827307, 113.05308571684051, 111.49077472408267, 108.17710339483223, 105.56993782930113, 102.59459546618827, 108.62489085385008, 106.24661165992836, 104.48528976330124, 107.14218942798146, 112.22714012824413, 113.01327596868177, 113.06303490398504, 115.26219802353006, 111.66989905359968, 112.99337343348974, 111.69974288213113, 113.57052913869681, 114.02826814504006, 114.3566526457317, 118.695287201229, 119.06346635410326, 119.03362088164629, 117.57082258877566, 118.2275842978763, 115.09302984360802, 115.06317849970122, 115.87915695950706, 114.02826941421269, 113.71979761703638, 112.32665461337515, 113.97852764091142, 110.55538368850645, 111.64999125041822, 107.19195156296185, 106.79391967822905, 108.19700401305819, 111.79925945906878, 116.29710264466517, 115.76009963193896, 115.68035676731935, 113.766465714354, 116.06910988767407, 118.19232329412624, 117.49455508538837, 117.77366349141147, 118.58108157316431, 117.62414187894478, 116.43793493086702, 116.91640375440792, 113.38767813899331, 112.23137008774407, 114.8031543454541, 115.84981133983534, 116.43792873545492, 119.62774209104037, 120.50493108966839, 121.82073039034591, 121.132932801749, 121.86060518206972, 122.69792609140535, 120.61458319498347, 119.76729626420845, 120.16601980264657, 121.15286406565487, 123.73460867283679, 126.15687460638712, 127.63215294077611, 125.7182803957432, 123.05677527332253, 129.2370226382695, 130.363427380247, 130.682412921288, 133.08472939715682, 133.912088574327, 132.97507936719765, 131.3004377361597, 126.35624207903588, 128.02091321957963, 125.97744636262412, 127.45273989325136, 129.81516928517038, 128.09070124773552, 126.45591698455883, 128.08073415308593, 128.34987355484373, 126.59547004547514, 126.5356641736282, 128.1405401946406, 133.16447004784828, 134.5899267898073, 136.1050842511617, 140.919703005171, 139.9627750293987, 136.26457841256197, 129.79524714848282, 130.51294091011647, 134.18123360532547, 133.18443123594312, 134.16129298901225, 135.6296236482592, 134.69121020646554, 135.61964080440478, 134.17208892990388, 133.54316920308787, 133.46329806078793, 132.56482622987636, 129.25046150134764, 127.19394844263688, 128.58160254653373, 125.38702317753932, 118.1892489949381, 122.02273897461028, 120.33560192444247, 120.99447888664491, 122.58178921741288, 124.79802283160863, 121.63339155099547, 118.41885841528112, 117.3706337488073, 116.01294204036846, 118.58857107693612, 119.24745022496647, 121.05437913742756, 118.95794390216325, 120.21580099216347, 124.50851378927132, 122.13254445970547, 120.11597194214494, 119.47705764859762, 120.05608105785714, 121.9328910974245, 119.86639743362545, 118.79821310578052, 118.71834543658717, 120.52528144798416, 118.65844841633657, 120.94456679927224, 122.28229029203587, 122.86131274563603, 125.43693895820574, 124.92779874345545, 128.30207031414133, 129.25046205241935, 130.40848984914865, 131.70628084085092, 131.43675409200546, 133.41338458196626, 133.05399770542658, 133.11388698687767, 131.5864939013005, 131.07735424881542, 131.1871779905106, 131.93589846023212, 133.33352519946746, 133.88258539982698, 132.85433297656596, 132.22540983410784, 130.8477529935539, 131.60645905216478, 126.48515014551462, 127.75300517555506, 126.91442184568291, 129.47999572753906, 126.80999755859375, 122.77999877929688], \"open\": [78.92568969021812, 77.51519067117901, 75.61798216223858, 74.58493933973135, 77.76849797417175, 78.23037333617697, 78.64011579762315, 79.13179805327802, 78.41414081470478, 80.33371165153248, 78.50602754455538, 78.66245722401234, 79.27832566874424, 78.90582427042982, 79.65080284548529, 80.62176424760531, 80.55471812327941, 80.29646601281404, 82.00991059427461, 82.47925469758347, 86.3928788389756, 86.74302689562296, 85.60319239327934, 82.75488402270076, 87.27692393101164, 88.19324675545423, 87.26451249541581, 88.06660434748258, 87.24712699630533, 90.39093681296838, 90.63927147693856, 89.57146424818622, 90.49275028378203, 87.72142610061049, 89.41749699137294, 90.66906348496993, 91.34699825366043, 91.88090030649819, 93.22433816560662, 93.54965075414714, 95.61822209697321, 94.69693139308501, 96.61400521437555, 94.20523328650788, 98.32746329987064, 95.91620566191229, 96.33836364846523, 95.77217786882869, 98.5087444842673, 96.0453324641713, 96.34829060013347, 90.3785228428806, 93.08279415931236, 93.73589975945222, 93.12252565468175, 93.55710390284884, 102.19639407068867, 107.47582228443939, 108.40207781514563, 108.6454385720333, 109.66606301511189, 112.65007436080488, 112.04803407368804, 111.42111702666114, 109.95583595499598, 113.86905415860691, 114.26710353591807, 115.49355413260459, 113.79194218699965, 115.41395040073016, 115.18258943807986, 118.67786915459017, 128.06661411013897, 124.08623441618087, 125.56146287289822, 126.51924769266377, 125.39478126665414, 126.95460559787257, 132.10920992401205, 136.91553384845375, 126.28788445354745, 119.4814135803172, 113.391410486057, 116.68518485957763, 119.76999604612577, 114.00837500994281, 114.15764016579385, 117.7499495467939, 114.6651395996439, 109.18215450733483, 109.85881515464966, 104.02753892043556, 112.1276321357444, 111.0728431034972, 104.65445460083916, 107.89846596026027, 114.4462117892999, 113.9884753182017, 113.23219973803234, 117.06332289379493, 112.33661289318584, 113.35160929706076, 115.13282771119829, 114.05813261261912, 115.68013435285985, 114.71488850899462, 119.47146241981325, 124.6559117449272, 120.40685333532771, 118.13802810828768, 120.68547743428951, 119.3719463731219, 115.63038405352125, 116.09807973025192, 116.87425013281181, 115.81945499316572, 113.4511201632648, 114.92386771912444, 114.48602525150977, 111.81916367834548, 110.51557504620065, 108.57514605299956, 109.1224454151055, 113.58048580090187, 117.37180268380578, 117.94312647088874, 120.11617943900468, 115.18194845209825, 116.81672093706031, 119.23898181207001, 119.05955390891573, 118.54120749783415, 119.16920622944858, 118.23219949198067, 117.21544926190163, 118.26210215526181, 116.80675304554205, 113.54717287077578, 115.18194882237643, 116.1986949809494, 116.59742274620308, 120.62455685615674, 121.63132898727899, 123.12655528677811, 122.20949462565339, 121.92041163441884, 123.97385538219044, 124.13333800030324, 120.11617991306179, 122.04002877373014, 122.20948525340268, 123.94393885179288, 127.00417324327465, 128.48941422775744, 128.54923827164487, 124.6217740939071, 131.19078618609856, 131.73903655599347, 130.90171337154436, 133.56321141986317, 137.61027795367715, 135.14814339556298, 133.6529211124509, 133.0947120378984, 128.47945470486243, 127.31318209282729, 127.95114728917207, 132.00815850142146, 128.77850589039994, 128.09069252983963, 128.34986318729864, 130.38338434982612, 128.36979903874646, 127.37298489581322, 128.25019042643805, 133.3738078240683, 135.8459078523497, 142.61429880013608, 143.14261095413943, 142.97314488829414, 139.07560341427063, 135.397340824828, 133.3239656550979, 135.29766125390097, 135.3275770555371, 135.86585289684047, 137.1171025483313, 135.79932855487343, 136.38832412251924, 136.24856365702016, 135.66954698343412, 134.12218252386452, 135.26026012655853, 131.02744197193383, 128.9809063517885, 130.01916323907915, 127.79293266864538, 123.55014598785404, 124.7281427365687, 124.4685811407716, 122.3821212631962, 123.54016045728845, 128.192258979143, 124.59835652344084, 121.54354812199587, 120.77485499526827, 120.72493956521024, 118.82816198110812, 121.48365742776342, 122.33220739732128, 120.19583910008026, 121.20412772490754, 125.48684774021318, 123.83965151593722, 122.67162848885314, 119.69668581087774, 120.12596205641492, 123.12087569558028, 122.6117342686407, 119.33729834813458, 120.14592088914563, 121.44371957571238, 119.90632877775988, 121.44371894651113, 123.45031209929459, 123.6599592507405, 126.28549610439038, 125.61663114359068, 128.7313338426866, 129.5799043073032, 132.29528428386504, 132.21542579008212, 134.71119113427474, 133.59308727511439, 134.0722723705718, 133.28359688391126, 134.79105756643258, 132.1355543421993, 132.8144037189207, 131.93589846023212, 134.6013759763538, 134.78105314389538, 134.0822429532556, 136.23859763862492, 131.556540521976, 131.81609442689125, 130.96754187902857, 128.98091522515494, 127.67313523988604, 130.85000610351562, 129.41000366210938, 123.5], \"type\": \"candlestick\", \"x\": [\"2020-05-12T00:00:00\", \"2020-05-13T00:00:00\", \"2020-05-14T00:00:00\", \"2020-05-15T00:00:00\", \"2020-05-18T00:00:00\", \"2020-05-19T00:00:00\", \"2020-05-20T00:00:00\", \"2020-05-21T00:00:00\", \"2020-05-22T00:00:00\", \"2020-05-26T00:00:00\", \"2020-05-27T00:00:00\", \"2020-05-28T00:00:00\", \"2020-05-29T00:00:00\", \"2020-06-01T00:00:00\", \"2020-06-02T00:00:00\", \"2020-06-03T00:00:00\", \"2020-06-04T00:00:00\", \"2020-06-05T00:00:00\", \"2020-06-08T00:00:00\", \"2020-06-09T00:00:00\", \"2020-06-10T00:00:00\", \"2020-06-11T00:00:00\", \"2020-06-12T00:00:00\", \"2020-06-15T00:00:00\", \"2020-06-16T00:00:00\", \"2020-06-17T00:00:00\", \"2020-06-18T00:00:00\", \"2020-06-19T00:00:00\", \"2020-06-22T00:00:00\", \"2020-06-23T00:00:00\", \"2020-06-24T00:00:00\", \"2020-06-25T00:00:00\", \"2020-06-26T00:00:00\", \"2020-06-29T00:00:00\", \"2020-06-30T00:00:00\", \"2020-07-01T00:00:00\", \"2020-07-02T00:00:00\", \"2020-07-06T00:00:00\", \"2020-07-07T00:00:00\", \"2020-07-08T00:00:00\", \"2020-07-09T00:00:00\", \"2020-07-10T00:00:00\", \"2020-07-13T00:00:00\", \"2020-07-14T00:00:00\", \"2020-07-15T00:00:00\", \"2020-07-16T00:00:00\", \"2020-07-17T00:00:00\", \"2020-07-20T00:00:00\", \"2020-07-21T00:00:00\", \"2020-07-22T00:00:00\", \"2020-07-23T00:00:00\", \"2020-07-24T00:00:00\", \"2020-07-27T00:00:00\", \"2020-07-28T00:00:00\", \"2020-07-29T00:00:00\", \"2020-07-30T00:00:00\", \"2020-07-31T00:00:00\", \"2020-08-03T00:00:00\", \"2020-08-04T00:00:00\", \"2020-08-05T00:00:00\", \"2020-08-06T00:00:00\", \"2020-08-07T00:00:00\", \"2020-08-10T00:00:00\", \"2020-08-11T00:00:00\", \"2020-08-12T00:00:00\", \"2020-08-13T00:00:00\", \"2020-08-14T00:00:00\", \"2020-08-17T00:00:00\", \"2020-08-18T00:00:00\", \"2020-08-19T00:00:00\", \"2020-08-20T00:00:00\", \"2020-08-21T00:00:00\", \"2020-08-24T00:00:00\", \"2020-08-25T00:00:00\", \"2020-08-26T00:00:00\", \"2020-08-27T00:00:00\", \"2020-08-28T00:00:00\", \"2020-08-31T00:00:00\", \"2020-09-01T00:00:00\", \"2020-09-02T00:00:00\", \"2020-09-03T00:00:00\", \"2020-09-04T00:00:00\", \"2020-09-08T00:00:00\", \"2020-09-09T00:00:00\", \"2020-09-10T00:00:00\", \"2020-09-11T00:00:00\", \"2020-09-14T00:00:00\", \"2020-09-15T00:00:00\", \"2020-09-16T00:00:00\", \"2020-09-17T00:00:00\", \"2020-09-18T00:00:00\", \"2020-09-21T00:00:00\", \"2020-09-22T00:00:00\", \"2020-09-23T00:00:00\", \"2020-09-24T00:00:00\", \"2020-09-25T00:00:00\", \"2020-09-28T00:00:00\", \"2020-09-29T00:00:00\", \"2020-09-30T00:00:00\", \"2020-10-01T00:00:00\", \"2020-10-02T00:00:00\", \"2020-10-05T00:00:00\", \"2020-10-06T00:00:00\", \"2020-10-07T00:00:00\", \"2020-10-08T00:00:00\", \"2020-10-09T00:00:00\", \"2020-10-12T00:00:00\", \"2020-10-13T00:00:00\", \"2020-10-14T00:00:00\", \"2020-10-15T00:00:00\", \"2020-10-16T00:00:00\", \"2020-10-19T00:00:00\", \"2020-10-20T00:00:00\", \"2020-10-21T00:00:00\", \"2020-10-22T00:00:00\", \"2020-10-23T00:00:00\", \"2020-10-26T00:00:00\", \"2020-10-27T00:00:00\", \"2020-10-28T00:00:00\", \"2020-10-29T00:00:00\", \"2020-10-30T00:00:00\", \"2020-11-02T00:00:00\", \"2020-11-03T00:00:00\", \"2020-11-04T00:00:00\", \"2020-11-05T00:00:00\", \"2020-11-06T00:00:00\", \"2020-11-09T00:00:00\", \"2020-11-10T00:00:00\", \"2020-11-11T00:00:00\", \"2020-11-12T00:00:00\", \"2020-11-13T00:00:00\", \"2020-11-16T00:00:00\", \"2020-11-17T00:00:00\", \"2020-11-18T00:00:00\", \"2020-11-19T00:00:00\", \"2020-11-20T00:00:00\", \"2020-11-23T00:00:00\", \"2020-11-24T00:00:00\", \"2020-11-25T00:00:00\", \"2020-11-27T00:00:00\", \"2020-11-30T00:00:00\", \"2020-12-01T00:00:00\", \"2020-12-02T00:00:00\", \"2020-12-03T00:00:00\", \"2020-12-04T00:00:00\", \"2020-12-07T00:00:00\", \"2020-12-08T00:00:00\", \"2020-12-09T00:00:00\", \"2020-12-10T00:00:00\", \"2020-12-11T00:00:00\", \"2020-12-14T00:00:00\", \"2020-12-15T00:00:00\", \"2020-12-16T00:00:00\", \"2020-12-17T00:00:00\", \"2020-12-18T00:00:00\", \"2020-12-21T00:00:00\", \"2020-12-22T00:00:00\", \"2020-12-23T00:00:00\", \"2020-12-24T00:00:00\", \"2020-12-28T00:00:00\", \"2020-12-29T00:00:00\", \"2020-12-30T00:00:00\", \"2020-12-31T00:00:00\", \"2021-01-04T00:00:00\", \"2021-01-05T00:00:00\", \"2021-01-06T00:00:00\", \"2021-01-07T00:00:00\", \"2021-01-08T00:00:00\", \"2021-01-11T00:00:00\", \"2021-01-12T00:00:00\", \"2021-01-13T00:00:00\", \"2021-01-14T00:00:00\", \"2021-01-15T00:00:00\", \"2021-01-19T00:00:00\", \"2021-01-20T00:00:00\", \"2021-01-21T00:00:00\", \"2021-01-22T00:00:00\", \"2021-01-25T00:00:00\", \"2021-01-26T00:00:00\", \"2021-01-27T00:00:00\", \"2021-01-28T00:00:00\", \"2021-01-29T00:00:00\", \"2021-02-01T00:00:00\", \"2021-02-02T00:00:00\", \"2021-02-03T00:00:00\", \"2021-02-04T00:00:00\", \"2021-02-05T00:00:00\", \"2021-02-08T00:00:00\", \"2021-02-09T00:00:00\", \"2021-02-10T00:00:00\", \"2021-02-11T00:00:00\", \"2021-02-12T00:00:00\", \"2021-02-16T00:00:00\", \"2021-02-17T00:00:00\", \"2021-02-18T00:00:00\", \"2021-02-19T00:00:00\", \"2021-02-22T00:00:00\", \"2021-02-23T00:00:00\", \"2021-02-24T00:00:00\", \"2021-02-25T00:00:00\", \"2021-02-26T00:00:00\", \"2021-03-01T00:00:00\", \"2021-03-02T00:00:00\", \"2021-03-03T00:00:00\", \"2021-03-04T00:00:00\", \"2021-03-05T00:00:00\", \"2021-03-08T00:00:00\", \"2021-03-09T00:00:00\", \"2021-03-10T00:00:00\", \"2021-03-11T00:00:00\", \"2021-03-12T00:00:00\", \"2021-03-15T00:00:00\", \"2021-03-16T00:00:00\", \"2021-03-17T00:00:00\", \"2021-03-18T00:00:00\", \"2021-03-19T00:00:00\", \"2021-03-22T00:00:00\", \"2021-03-23T00:00:00\", \"2021-03-24T00:00:00\", \"2021-03-25T00:00:00\", \"2021-03-26T00:00:00\", \"2021-03-29T00:00:00\", \"2021-03-30T00:00:00\", \"2021-03-31T00:00:00\", \"2021-04-01T00:00:00\", \"2021-04-05T00:00:00\", \"2021-04-06T00:00:00\", \"2021-04-07T00:00:00\", \"2021-04-08T00:00:00\", \"2021-04-09T00:00:00\", \"2021-04-12T00:00:00\", \"2021-04-13T00:00:00\", \"2021-04-14T00:00:00\", \"2021-04-15T00:00:00\", \"2021-04-16T00:00:00\", \"2021-04-19T00:00:00\", \"2021-04-20T00:00:00\", \"2021-04-21T00:00:00\", \"2021-04-22T00:00:00\", \"2021-04-23T00:00:00\", \"2021-04-26T00:00:00\", \"2021-04-27T00:00:00\", \"2021-04-28T00:00:00\", \"2021-04-29T00:00:00\", \"2021-04-30T00:00:00\", \"2021-05-03T00:00:00\", \"2021-05-04T00:00:00\", \"2021-05-05T00:00:00\", \"2021-05-06T00:00:00\", \"2021-05-07T00:00:00\", \"2021-05-10T00:00:00\", \"2021-05-11T00:00:00\"]}],\n",
              "                        {\"template\": {\"data\": {\"bar\": [{\"error_x\": {\"color\": \"#2a3f5f\"}, \"error_y\": {\"color\": \"#2a3f5f\"}, \"marker\": {\"line\": {\"color\": \"#E5ECF6\", \"width\": 0.5}}, \"type\": \"bar\"}], \"barpolar\": [{\"marker\": {\"line\": {\"color\": \"#E5ECF6\", \"width\": 0.5}}, \"type\": \"barpolar\"}], \"carpet\": [{\"aaxis\": {\"endlinecolor\": \"#2a3f5f\", \"gridcolor\": \"white\", \"linecolor\": \"white\", \"minorgridcolor\": \"white\", \"startlinecolor\": \"#2a3f5f\"}, \"baxis\": {\"endlinecolor\": \"#2a3f5f\", \"gridcolor\": \"white\", \"linecolor\": \"white\", \"minorgridcolor\": \"white\", \"startlinecolor\": \"#2a3f5f\"}, \"type\": \"carpet\"}], \"choropleth\": [{\"colorbar\": {\"outlinewidth\": 0, \"ticks\": \"\"}, \"type\": \"choropleth\"}], \"contour\": [{\"colorbar\": {\"outlinewidth\": 0, \"ticks\": \"\"}, \"colorscale\": [[0.0, \"#0d0887\"], [0.1111111111111111, \"#46039f\"], [0.2222222222222222, \"#7201a8\"], [0.3333333333333333, \"#9c179e\"], [0.4444444444444444, \"#bd3786\"], [0.5555555555555556, \"#d8576b\"], [0.6666666666666666, \"#ed7953\"], [0.7777777777777778, \"#fb9f3a\"], [0.8888888888888888, \"#fdca26\"], [1.0, \"#f0f921\"]], \"type\": \"contour\"}], \"contourcarpet\": [{\"colorbar\": {\"outlinewidth\": 0, \"ticks\": \"\"}, \"type\": \"contourcarpet\"}], \"heatmap\": [{\"colorbar\": {\"outlinewidth\": 0, \"ticks\": \"\"}, \"colorscale\": [[0.0, \"#0d0887\"], [0.1111111111111111, \"#46039f\"], [0.2222222222222222, \"#7201a8\"], [0.3333333333333333, \"#9c179e\"], [0.4444444444444444, \"#bd3786\"], [0.5555555555555556, \"#d8576b\"], [0.6666666666666666, \"#ed7953\"], [0.7777777777777778, \"#fb9f3a\"], [0.8888888888888888, \"#fdca26\"], [1.0, \"#f0f921\"]], \"type\": \"heatmap\"}], \"heatmapgl\": [{\"colorbar\": {\"outlinewidth\": 0, \"ticks\": \"\"}, \"colorscale\": [[0.0, \"#0d0887\"], [0.1111111111111111, \"#46039f\"], [0.2222222222222222, \"#7201a8\"], [0.3333333333333333, \"#9c179e\"], [0.4444444444444444, \"#bd3786\"], [0.5555555555555556, \"#d8576b\"], [0.6666666666666666, \"#ed7953\"], [0.7777777777777778, \"#fb9f3a\"], [0.8888888888888888, \"#fdca26\"], [1.0, \"#f0f921\"]], \"type\": \"heatmapgl\"}], \"histogram\": [{\"marker\": {\"colorbar\": {\"outlinewidth\": 0, \"ticks\": \"\"}}, \"type\": \"histogram\"}], \"histogram2d\": [{\"colorbar\": {\"outlinewidth\": 0, \"ticks\": \"\"}, \"colorscale\": [[0.0, \"#0d0887\"], [0.1111111111111111, \"#46039f\"], [0.2222222222222222, \"#7201a8\"], [0.3333333333333333, \"#9c179e\"], [0.4444444444444444, \"#bd3786\"], [0.5555555555555556, \"#d8576b\"], [0.6666666666666666, \"#ed7953\"], [0.7777777777777778, \"#fb9f3a\"], [0.8888888888888888, \"#fdca26\"], [1.0, \"#f0f921\"]], \"type\": \"histogram2d\"}], \"histogram2dcontour\": [{\"colorbar\": {\"outlinewidth\": 0, \"ticks\": \"\"}, \"colorscale\": [[0.0, \"#0d0887\"], [0.1111111111111111, \"#46039f\"], [0.2222222222222222, \"#7201a8\"], [0.3333333333333333, \"#9c179e\"], [0.4444444444444444, \"#bd3786\"], [0.5555555555555556, \"#d8576b\"], [0.6666666666666666, \"#ed7953\"], [0.7777777777777778, \"#fb9f3a\"], [0.8888888888888888, \"#fdca26\"], [1.0, \"#f0f921\"]], \"type\": \"histogram2dcontour\"}], \"mesh3d\": [{\"colorbar\": {\"outlinewidth\": 0, \"ticks\": \"\"}, \"type\": \"mesh3d\"}], \"parcoords\": [{\"line\": {\"colorbar\": {\"outlinewidth\": 0, \"ticks\": \"\"}}, \"type\": \"parcoords\"}], \"pie\": [{\"automargin\": true, \"type\": \"pie\"}], \"scatter\": [{\"marker\": {\"colorbar\": {\"outlinewidth\": 0, \"ticks\": \"\"}}, \"type\": \"scatter\"}], \"scatter3d\": [{\"line\": {\"colorbar\": {\"outlinewidth\": 0, \"ticks\": \"\"}}, \"marker\": {\"colorbar\": {\"outlinewidth\": 0, \"ticks\": \"\"}}, \"type\": \"scatter3d\"}], \"scattercarpet\": [{\"marker\": {\"colorbar\": {\"outlinewidth\": 0, \"ticks\": \"\"}}, \"type\": \"scattercarpet\"}], \"scattergeo\": [{\"marker\": {\"colorbar\": {\"outlinewidth\": 0, \"ticks\": \"\"}}, \"type\": \"scattergeo\"}], \"scattergl\": [{\"marker\": {\"colorbar\": {\"outlinewidth\": 0, \"ticks\": \"\"}}, \"type\": \"scattergl\"}], \"scattermapbox\": [{\"marker\": {\"colorbar\": {\"outlinewidth\": 0, \"ticks\": \"\"}}, \"type\": \"scattermapbox\"}], \"scatterpolar\": [{\"marker\": {\"colorbar\": {\"outlinewidth\": 0, \"ticks\": \"\"}}, \"type\": \"scatterpolar\"}], \"scatterpolargl\": [{\"marker\": {\"colorbar\": {\"outlinewidth\": 0, \"ticks\": \"\"}}, \"type\": \"scatterpolargl\"}], \"scatterternary\": [{\"marker\": {\"colorbar\": {\"outlinewidth\": 0, \"ticks\": \"\"}}, \"type\": \"scatterternary\"}], \"surface\": [{\"colorbar\": {\"outlinewidth\": 0, \"ticks\": \"\"}, \"colorscale\": [[0.0, \"#0d0887\"], [0.1111111111111111, \"#46039f\"], [0.2222222222222222, \"#7201a8\"], [0.3333333333333333, \"#9c179e\"], [0.4444444444444444, \"#bd3786\"], [0.5555555555555556, \"#d8576b\"], [0.6666666666666666, \"#ed7953\"], [0.7777777777777778, \"#fb9f3a\"], [0.8888888888888888, \"#fdca26\"], [1.0, \"#f0f921\"]], \"type\": \"surface\"}], \"table\": [{\"cells\": {\"fill\": {\"color\": \"#EBF0F8\"}, \"line\": {\"color\": \"white\"}}, \"header\": {\"fill\": {\"color\": \"#C8D4E3\"}, \"line\": {\"color\": \"white\"}}, \"type\": \"table\"}]}, \"layout\": {\"annotationdefaults\": {\"arrowcolor\": \"#2a3f5f\", \"arrowhead\": 0, \"arrowwidth\": 1}, \"coloraxis\": {\"colorbar\": {\"outlinewidth\": 0, \"ticks\": \"\"}}, \"colorscale\": {\"diverging\": [[0, \"#8e0152\"], [0.1, \"#c51b7d\"], [0.2, \"#de77ae\"], [0.3, \"#f1b6da\"], [0.4, \"#fde0ef\"], [0.5, \"#f7f7f7\"], [0.6, \"#e6f5d0\"], [0.7, \"#b8e186\"], [0.8, \"#7fbc41\"], [0.9, \"#4d9221\"], [1, \"#276419\"]], \"sequential\": [[0.0, \"#0d0887\"], [0.1111111111111111, \"#46039f\"], [0.2222222222222222, \"#7201a8\"], [0.3333333333333333, \"#9c179e\"], [0.4444444444444444, \"#bd3786\"], [0.5555555555555556, \"#d8576b\"], [0.6666666666666666, \"#ed7953\"], [0.7777777777777778, \"#fb9f3a\"], [0.8888888888888888, \"#fdca26\"], [1.0, \"#f0f921\"]], \"sequentialminus\": [[0.0, \"#0d0887\"], [0.1111111111111111, \"#46039f\"], [0.2222222222222222, \"#7201a8\"], [0.3333333333333333, \"#9c179e\"], [0.4444444444444444, \"#bd3786\"], [0.5555555555555556, \"#d8576b\"], [0.6666666666666666, \"#ed7953\"], [0.7777777777777778, \"#fb9f3a\"], [0.8888888888888888, \"#fdca26\"], [1.0, \"#f0f921\"]]}, \"colorway\": [\"#636efa\", \"#EF553B\", \"#00cc96\", \"#ab63fa\", \"#FFA15A\", \"#19d3f3\", \"#FF6692\", \"#B6E880\", \"#FF97FF\", \"#FECB52\"], \"font\": {\"color\": \"#2a3f5f\"}, \"geo\": {\"bgcolor\": \"white\", \"lakecolor\": \"white\", \"landcolor\": \"#E5ECF6\", \"showlakes\": true, \"showland\": true, \"subunitcolor\": \"white\"}, \"hoverlabel\": {\"align\": \"left\"}, \"hovermode\": \"closest\", \"mapbox\": {\"style\": \"light\"}, \"paper_bgcolor\": \"white\", \"plot_bgcolor\": \"#E5ECF6\", \"polar\": {\"angularaxis\": {\"gridcolor\": \"white\", \"linecolor\": \"white\", \"ticks\": \"\"}, \"bgcolor\": \"#E5ECF6\", \"radialaxis\": {\"gridcolor\": \"white\", \"linecolor\": \"white\", \"ticks\": \"\"}}, \"scene\": {\"xaxis\": {\"backgroundcolor\": \"#E5ECF6\", \"gridcolor\": \"white\", \"gridwidth\": 2, \"linecolor\": \"white\", \"showbackground\": true, \"ticks\": \"\", \"zerolinecolor\": \"white\"}, \"yaxis\": {\"backgroundcolor\": \"#E5ECF6\", \"gridcolor\": \"white\", \"gridwidth\": 2, \"linecolor\": \"white\", \"showbackground\": true, \"ticks\": \"\", \"zerolinecolor\": \"white\"}, \"zaxis\": {\"backgroundcolor\": \"#E5ECF6\", \"gridcolor\": \"white\", \"gridwidth\": 2, \"linecolor\": \"white\", \"showbackground\": true, \"ticks\": \"\", \"zerolinecolor\": \"white\"}}, \"shapedefaults\": {\"line\": {\"color\": \"#2a3f5f\"}}, \"ternary\": {\"aaxis\": {\"gridcolor\": \"white\", \"linecolor\": \"white\", \"ticks\": \"\"}, \"baxis\": {\"gridcolor\": \"white\", \"linecolor\": \"white\", \"ticks\": \"\"}, \"bgcolor\": \"#E5ECF6\", \"caxis\": {\"gridcolor\": \"white\", \"linecolor\": \"white\", \"ticks\": \"\"}}, \"title\": {\"x\": 0.05}, \"xaxis\": {\"automargin\": true, \"gridcolor\": \"white\", \"linecolor\": \"white\", \"ticks\": \"\", \"title\": {\"standoff\": 15}, \"zerolinecolor\": \"white\", \"zerolinewidth\": 2}, \"yaxis\": {\"automargin\": true, \"gridcolor\": \"white\", \"linecolor\": \"white\", \"ticks\": \"\", \"title\": {\"standoff\": 15}, \"zerolinecolor\": \"white\", \"zerolinewidth\": 2}}}, \"xaxis\": {\"range\": [\"2020-05-12T00:00:00\", \"2021-05-11T00:00:00\"]}},\n",
              "                        {\"responsive\": true}\n",
              "                    ).then(function(){\n",
              "                            \n",
              "var gd = document.getElementById('e8f80e1c-3024-436f-b72a-e47e7c135b89');\n",
              "var x = new MutationObserver(function (mutations, observer) {{\n",
              "        var display = window.getComputedStyle(gd).display;\n",
              "        if (!display || display === 'none') {{\n",
              "            console.log([gd, 'removed!']);\n",
              "            Plotly.purge(gd);\n",
              "            observer.disconnect();\n",
              "        }}\n",
              "}});\n",
              "\n",
              "// Listen for the removal of the full notebook cells\n",
              "var notebookContainer = gd.closest('#notebook-container');\n",
              "if (notebookContainer) {{\n",
              "    x.observe(notebookContainer, {childList: true});\n",
              "}}\n",
              "\n",
              "// Listen for the clearing of the current output cell\n",
              "var outputEl = gd.closest('.output');\n",
              "if (outputEl) {{\n",
              "    x.observe(outputEl, {childList: true});\n",
              "}}\n",
              "\n",
              "                        })\n",
              "                };\n",
              "                \n",
              "            </script>\n",
              "        </div>\n",
              "</body>\n",
              "</html>"
            ]
          },
          "metadata": {
            "tags": []
          }
        }
      ]
    },
    {
      "cell_type": "code",
      "metadata": {
        "id": "B17b9btNRTus"
      },
      "source": [
        ""
      ],
      "execution_count": null,
      "outputs": []
    }
  ]
}